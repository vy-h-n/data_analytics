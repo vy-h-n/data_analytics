{
  "cells": [
    {
      "cell_type": "markdown",
      "metadata": {
        "id": "view-in-github",
        "colab_type": "text"
      },
      "source": [
        "<a href=\"https://colab.research.google.com/github/vy-h-n/data_analytics/blob/main/Legal%20Processing%20Time%20for%20Food%20Poisoning%20Claims.ipynb\" target=\"_parent\"><img src=\"https://colab.research.google.com/assets/colab-badge.svg\" alt=\"Open In Colab\"/></a>"
      ]
    },
    {
      "cell_type": "markdown",
      "id": "b242633f",
      "metadata": {
        "id": "b242633f",
        "papermill": {
          "duration": 0.008495,
          "end_time": "2023-10-03T02:52:54.526300",
          "exception": false,
          "start_time": "2023-10-03T02:52:54.517805",
          "status": "completed"
        },
        "tags": []
      },
      "source": [
        "**Background**\n",
        "\n",
        "This notebook cleans and validates data using Pandas, queries data using SQLite3 and visualises data using Plotly on Google Colab.\n",
        "\n",
        "Vivendo is a fast food chain in Brazil with over 200 outlets. Customers often claim compensation from the company for food poisoning. The legal team processes these claims. The legal team has offices in four locations. The legal team wants to improve how long it takes to reply to customers and close claims. The head of the legal department wants a report on how each location differs in the time it takes to close claims."
      ]
    },
    {
      "cell_type": "code",
      "execution_count": 1,
      "id": "c927f884",
      "metadata": {
        "execution": {
          "iopub.execute_input": "2023-10-03T02:52:54.543626Z",
          "iopub.status.busy": "2023-10-03T02:52:54.542864Z",
          "iopub.status.idle": "2023-10-03T02:52:55.760273Z",
          "shell.execute_reply": "2023-10-03T02:52:55.759255Z"
        },
        "id": "c927f884",
        "papermill": {
          "duration": 1.229022,
          "end_time": "2023-10-03T02:52:55.763037",
          "exception": false,
          "start_time": "2023-10-03T02:52:54.534015",
          "status": "completed"
        },
        "tags": []
      },
      "outputs": [],
      "source": [
        "#Import libraries\n",
        "import sqlite3\n",
        "import pandas as pd\n",
        "import numpy as np\n",
        "import plotly.express as px"
      ]
    },
    {
      "cell_type": "markdown",
      "id": "c0f7680b",
      "metadata": {
        "id": "c0f7680b",
        "papermill": {
          "duration": 0.007372,
          "end_time": "2023-10-03T02:52:55.778492",
          "exception": false,
          "start_time": "2023-10-03T02:52:55.771120",
          "status": "completed"
        },
        "tags": []
      },
      "source": [
        "# Upload data set and create a Pandas data frame"
      ]
    },
    {
      "cell_type": "markdown",
      "id": "c3842044",
      "metadata": {
        "papermill": {
          "duration": 0.007465,
          "end_time": "2023-10-03T02:52:55.793634",
          "exception": false,
          "start_time": "2023-10-03T02:52:55.786169",
          "status": "completed"
        },
        "tags": [],
        "id": "c3842044"
      },
      "source": [
        "**Data description**\n",
        "* **claim_id:** Nominal. The unique identifier of the claim. Missing values are not possible due to the database structure.\n",
        "* **time_to_close:** Discrete and positive. The number of days to close the claim.\n",
        "* **claim_amount:** Continuous. The initial claim requested in the currency of Brazil, rounded to 2 decimal places.\n",
        "* **amount_paid:** Continuous. Final amount paid. In the currency of Brazil. Rounded to 2 decimal places. Replaced missing values with the overall median amount paid.\n",
        "* **location:** Nominal. Location of the claim, one of “RECIFE”, “SAO LUIS”, “FORTALEZA”, or “NATAL”. No missing values.\n",
        "* **individuals_on_claim:** Discrete. Number of individuals on this claim. No null value. Minimum 1 person.\n",
        "* **linked_cases:** Boolean. Whether this claim is linked to other cases. Either TRUE or FALSE. Replace missing values with FALSE.\n",
        "* **cause:** Nominal. Cause of the food poisoning. One of “vegetable”, “meat” or “unknown”."
      ]
    },
    {
      "cell_type": "code",
      "execution_count": 2,
      "id": "311e27a0",
      "metadata": {
        "_kg_hide-input": false,
        "_kg_hide-output": true,
        "execution": {
          "iopub.execute_input": "2023-10-03T02:52:55.811734Z",
          "iopub.status.busy": "2023-10-03T02:52:55.810734Z",
          "iopub.status.idle": "2023-10-03T02:52:57.127075Z",
          "shell.execute_reply": "2023-10-03T02:52:57.125859Z"
        },
        "id": "311e27a0",
        "outputId": "c007de0c-d7a3-4a2b-f4fc-e726b7b0770d",
        "papermill": {
          "duration": 1.328185,
          "end_time": "2023-10-03T02:52:57.129632",
          "exception": false,
          "start_time": "2023-10-03T02:52:55.801447",
          "status": "completed"
        },
        "tags": [],
        "colab": {
          "base_uri": "https://localhost:8080/"
        }
      },
      "outputs": [
        {
          "output_type": "stream",
          "name": "stdout",
          "text": [
            "--2024-01-27 01:05:08--  https://s3.amazonaws.com/talent-assets.datacamp.com/food_claims_2212.csv\n",
            "Resolving s3.amazonaws.com (s3.amazonaws.com)... 52.217.73.94, 52.217.112.64, 54.231.195.96, ...\n",
            "Connecting to s3.amazonaws.com (s3.amazonaws.com)|52.217.73.94|:443... connected.\n",
            "HTTP request sent, awaiting response... 200 OK\n",
            "Length: 104315 (102K) [text/csv]\n",
            "Saving to: ‘food_claims_2212.csv’\n",
            "\n",
            "food_claims_2212.cs 100%[===================>] 101.87K   594KB/s    in 0.2s    \n",
            "\n",
            "2024-01-27 01:05:08 (594 KB/s) - ‘food_claims_2212.csv’ saved [104315/104315]\n",
            "\n"
          ]
        }
      ],
      "source": [
        "#Get data set from DataCamp\n",
        "!wget https://s3.amazonaws.com/talent-assets.datacamp.com/food_claims_2212.csv"
      ]
    },
    {
      "cell_type": "code",
      "execution_count": 3,
      "id": "72d8ae62",
      "metadata": {
        "execution": {
          "iopub.execute_input": "2023-10-03T02:52:57.148741Z",
          "iopub.status.busy": "2023-10-03T02:52:57.147983Z",
          "iopub.status.idle": "2023-10-03T02:52:57.200415Z",
          "shell.execute_reply": "2023-10-03T02:52:57.198949Z"
        },
        "id": "72d8ae62",
        "outputId": "1d805c83-86e8-4a0c-91eb-ac24d3756872",
        "papermill": {
          "duration": 0.06502,
          "end_time": "2023-10-03T02:52:57.202869",
          "exception": false,
          "start_time": "2023-10-03T02:52:57.137849",
          "status": "completed"
        },
        "tags": [],
        "colab": {
          "base_uri": "https://localhost:8080/",
          "height": 206
        }
      },
      "outputs": [
        {
          "output_type": "execute_result",
          "data": {
            "text/plain": [
              "   claim_id  time_to_close claim_amount  amount_paid   location  \\\n",
              "0         1            317  R$ 74474.55     51231.37     RECIFE   \n",
              "1         2            195  R$ 52137.83     42111.30  FORTALEZA   \n",
              "2         3            183   R$ 24447.2     23986.30   SAO LUIS   \n",
              "3         4            186  R$ 29006.28     27942.72  FORTALEZA   \n",
              "4         5            138   R$ 19520.6     16251.06     RECIFE   \n",
              "\n",
              "   individuals_on_claim linked_cases      cause  \n",
              "0                    15        False    unknown  \n",
              "1                    12         True    unknown  \n",
              "2                    10         True       meat  \n",
              "3                    11        False       meat  \n",
              "4                    11        False  vegetable  "
            ],
            "text/html": [
              "\n",
              "  <div id=\"df-772e7e9a-b49b-4331-9462-d2ffe0856565\" class=\"colab-df-container\">\n",
              "    <div>\n",
              "<style scoped>\n",
              "    .dataframe tbody tr th:only-of-type {\n",
              "        vertical-align: middle;\n",
              "    }\n",
              "\n",
              "    .dataframe tbody tr th {\n",
              "        vertical-align: top;\n",
              "    }\n",
              "\n",
              "    .dataframe thead th {\n",
              "        text-align: right;\n",
              "    }\n",
              "</style>\n",
              "<table border=\"1\" class=\"dataframe\">\n",
              "  <thead>\n",
              "    <tr style=\"text-align: right;\">\n",
              "      <th></th>\n",
              "      <th>claim_id</th>\n",
              "      <th>time_to_close</th>\n",
              "      <th>claim_amount</th>\n",
              "      <th>amount_paid</th>\n",
              "      <th>location</th>\n",
              "      <th>individuals_on_claim</th>\n",
              "      <th>linked_cases</th>\n",
              "      <th>cause</th>\n",
              "    </tr>\n",
              "  </thead>\n",
              "  <tbody>\n",
              "    <tr>\n",
              "      <th>0</th>\n",
              "      <td>1</td>\n",
              "      <td>317</td>\n",
              "      <td>R$ 74474.55</td>\n",
              "      <td>51231.37</td>\n",
              "      <td>RECIFE</td>\n",
              "      <td>15</td>\n",
              "      <td>False</td>\n",
              "      <td>unknown</td>\n",
              "    </tr>\n",
              "    <tr>\n",
              "      <th>1</th>\n",
              "      <td>2</td>\n",
              "      <td>195</td>\n",
              "      <td>R$ 52137.83</td>\n",
              "      <td>42111.30</td>\n",
              "      <td>FORTALEZA</td>\n",
              "      <td>12</td>\n",
              "      <td>True</td>\n",
              "      <td>unknown</td>\n",
              "    </tr>\n",
              "    <tr>\n",
              "      <th>2</th>\n",
              "      <td>3</td>\n",
              "      <td>183</td>\n",
              "      <td>R$ 24447.2</td>\n",
              "      <td>23986.30</td>\n",
              "      <td>SAO LUIS</td>\n",
              "      <td>10</td>\n",
              "      <td>True</td>\n",
              "      <td>meat</td>\n",
              "    </tr>\n",
              "    <tr>\n",
              "      <th>3</th>\n",
              "      <td>4</td>\n",
              "      <td>186</td>\n",
              "      <td>R$ 29006.28</td>\n",
              "      <td>27942.72</td>\n",
              "      <td>FORTALEZA</td>\n",
              "      <td>11</td>\n",
              "      <td>False</td>\n",
              "      <td>meat</td>\n",
              "    </tr>\n",
              "    <tr>\n",
              "      <th>4</th>\n",
              "      <td>5</td>\n",
              "      <td>138</td>\n",
              "      <td>R$ 19520.6</td>\n",
              "      <td>16251.06</td>\n",
              "      <td>RECIFE</td>\n",
              "      <td>11</td>\n",
              "      <td>False</td>\n",
              "      <td>vegetable</td>\n",
              "    </tr>\n",
              "  </tbody>\n",
              "</table>\n",
              "</div>\n",
              "    <div class=\"colab-df-buttons\">\n",
              "\n",
              "  <div class=\"colab-df-container\">\n",
              "    <button class=\"colab-df-convert\" onclick=\"convertToInteractive('df-772e7e9a-b49b-4331-9462-d2ffe0856565')\"\n",
              "            title=\"Convert this dataframe to an interactive table.\"\n",
              "            style=\"display:none;\">\n",
              "\n",
              "  <svg xmlns=\"http://www.w3.org/2000/svg\" height=\"24px\" viewBox=\"0 -960 960 960\">\n",
              "    <path d=\"M120-120v-720h720v720H120Zm60-500h600v-160H180v160Zm220 220h160v-160H400v160Zm0 220h160v-160H400v160ZM180-400h160v-160H180v160Zm440 0h160v-160H620v160ZM180-180h160v-160H180v160Zm440 0h160v-160H620v160Z\"/>\n",
              "  </svg>\n",
              "    </button>\n",
              "\n",
              "  <style>\n",
              "    .colab-df-container {\n",
              "      display:flex;\n",
              "      gap: 12px;\n",
              "    }\n",
              "\n",
              "    .colab-df-convert {\n",
              "      background-color: #E8F0FE;\n",
              "      border: none;\n",
              "      border-radius: 50%;\n",
              "      cursor: pointer;\n",
              "      display: none;\n",
              "      fill: #1967D2;\n",
              "      height: 32px;\n",
              "      padding: 0 0 0 0;\n",
              "      width: 32px;\n",
              "    }\n",
              "\n",
              "    .colab-df-convert:hover {\n",
              "      background-color: #E2EBFA;\n",
              "      box-shadow: 0px 1px 2px rgba(60, 64, 67, 0.3), 0px 1px 3px 1px rgba(60, 64, 67, 0.15);\n",
              "      fill: #174EA6;\n",
              "    }\n",
              "\n",
              "    .colab-df-buttons div {\n",
              "      margin-bottom: 4px;\n",
              "    }\n",
              "\n",
              "    [theme=dark] .colab-df-convert {\n",
              "      background-color: #3B4455;\n",
              "      fill: #D2E3FC;\n",
              "    }\n",
              "\n",
              "    [theme=dark] .colab-df-convert:hover {\n",
              "      background-color: #434B5C;\n",
              "      box-shadow: 0px 1px 3px 1px rgba(0, 0, 0, 0.15);\n",
              "      filter: drop-shadow(0px 1px 2px rgba(0, 0, 0, 0.3));\n",
              "      fill: #FFFFFF;\n",
              "    }\n",
              "  </style>\n",
              "\n",
              "    <script>\n",
              "      const buttonEl =\n",
              "        document.querySelector('#df-772e7e9a-b49b-4331-9462-d2ffe0856565 button.colab-df-convert');\n",
              "      buttonEl.style.display =\n",
              "        google.colab.kernel.accessAllowed ? 'block' : 'none';\n",
              "\n",
              "      async function convertToInteractive(key) {\n",
              "        const element = document.querySelector('#df-772e7e9a-b49b-4331-9462-d2ffe0856565');\n",
              "        const dataTable =\n",
              "          await google.colab.kernel.invokeFunction('convertToInteractive',\n",
              "                                                    [key], {});\n",
              "        if (!dataTable) return;\n",
              "\n",
              "        const docLinkHtml = 'Like what you see? Visit the ' +\n",
              "          '<a target=\"_blank\" href=https://colab.research.google.com/notebooks/data_table.ipynb>data table notebook</a>'\n",
              "          + ' to learn more about interactive tables.';\n",
              "        element.innerHTML = '';\n",
              "        dataTable['output_type'] = 'display_data';\n",
              "        await google.colab.output.renderOutput(dataTable, element);\n",
              "        const docLink = document.createElement('div');\n",
              "        docLink.innerHTML = docLinkHtml;\n",
              "        element.appendChild(docLink);\n",
              "      }\n",
              "    </script>\n",
              "  </div>\n",
              "\n",
              "\n",
              "<div id=\"df-be02d7fa-c928-4230-98c5-1808e864ba38\">\n",
              "  <button class=\"colab-df-quickchart\" onclick=\"quickchart('df-be02d7fa-c928-4230-98c5-1808e864ba38')\"\n",
              "            title=\"Suggest charts\"\n",
              "            style=\"display:none;\">\n",
              "\n",
              "<svg xmlns=\"http://www.w3.org/2000/svg\" height=\"24px\"viewBox=\"0 0 24 24\"\n",
              "     width=\"24px\">\n",
              "    <g>\n",
              "        <path d=\"M19 3H5c-1.1 0-2 .9-2 2v14c0 1.1.9 2 2 2h14c1.1 0 2-.9 2-2V5c0-1.1-.9-2-2-2zM9 17H7v-7h2v7zm4 0h-2V7h2v10zm4 0h-2v-4h2v4z\"/>\n",
              "    </g>\n",
              "</svg>\n",
              "  </button>\n",
              "\n",
              "<style>\n",
              "  .colab-df-quickchart {\n",
              "      --bg-color: #E8F0FE;\n",
              "      --fill-color: #1967D2;\n",
              "      --hover-bg-color: #E2EBFA;\n",
              "      --hover-fill-color: #174EA6;\n",
              "      --disabled-fill-color: #AAA;\n",
              "      --disabled-bg-color: #DDD;\n",
              "  }\n",
              "\n",
              "  [theme=dark] .colab-df-quickchart {\n",
              "      --bg-color: #3B4455;\n",
              "      --fill-color: #D2E3FC;\n",
              "      --hover-bg-color: #434B5C;\n",
              "      --hover-fill-color: #FFFFFF;\n",
              "      --disabled-bg-color: #3B4455;\n",
              "      --disabled-fill-color: #666;\n",
              "  }\n",
              "\n",
              "  .colab-df-quickchart {\n",
              "    background-color: var(--bg-color);\n",
              "    border: none;\n",
              "    border-radius: 50%;\n",
              "    cursor: pointer;\n",
              "    display: none;\n",
              "    fill: var(--fill-color);\n",
              "    height: 32px;\n",
              "    padding: 0;\n",
              "    width: 32px;\n",
              "  }\n",
              "\n",
              "  .colab-df-quickchart:hover {\n",
              "    background-color: var(--hover-bg-color);\n",
              "    box-shadow: 0 1px 2px rgba(60, 64, 67, 0.3), 0 1px 3px 1px rgba(60, 64, 67, 0.15);\n",
              "    fill: var(--button-hover-fill-color);\n",
              "  }\n",
              "\n",
              "  .colab-df-quickchart-complete:disabled,\n",
              "  .colab-df-quickchart-complete:disabled:hover {\n",
              "    background-color: var(--disabled-bg-color);\n",
              "    fill: var(--disabled-fill-color);\n",
              "    box-shadow: none;\n",
              "  }\n",
              "\n",
              "  .colab-df-spinner {\n",
              "    border: 2px solid var(--fill-color);\n",
              "    border-color: transparent;\n",
              "    border-bottom-color: var(--fill-color);\n",
              "    animation:\n",
              "      spin 1s steps(1) infinite;\n",
              "  }\n",
              "\n",
              "  @keyframes spin {\n",
              "    0% {\n",
              "      border-color: transparent;\n",
              "      border-bottom-color: var(--fill-color);\n",
              "      border-left-color: var(--fill-color);\n",
              "    }\n",
              "    20% {\n",
              "      border-color: transparent;\n",
              "      border-left-color: var(--fill-color);\n",
              "      border-top-color: var(--fill-color);\n",
              "    }\n",
              "    30% {\n",
              "      border-color: transparent;\n",
              "      border-left-color: var(--fill-color);\n",
              "      border-top-color: var(--fill-color);\n",
              "      border-right-color: var(--fill-color);\n",
              "    }\n",
              "    40% {\n",
              "      border-color: transparent;\n",
              "      border-right-color: var(--fill-color);\n",
              "      border-top-color: var(--fill-color);\n",
              "    }\n",
              "    60% {\n",
              "      border-color: transparent;\n",
              "      border-right-color: var(--fill-color);\n",
              "    }\n",
              "    80% {\n",
              "      border-color: transparent;\n",
              "      border-right-color: var(--fill-color);\n",
              "      border-bottom-color: var(--fill-color);\n",
              "    }\n",
              "    90% {\n",
              "      border-color: transparent;\n",
              "      border-bottom-color: var(--fill-color);\n",
              "    }\n",
              "  }\n",
              "</style>\n",
              "\n",
              "  <script>\n",
              "    async function quickchart(key) {\n",
              "      const quickchartButtonEl =\n",
              "        document.querySelector('#' + key + ' button');\n",
              "      quickchartButtonEl.disabled = true;  // To prevent multiple clicks.\n",
              "      quickchartButtonEl.classList.add('colab-df-spinner');\n",
              "      try {\n",
              "        const charts = await google.colab.kernel.invokeFunction(\n",
              "            'suggestCharts', [key], {});\n",
              "      } catch (error) {\n",
              "        console.error('Error during call to suggestCharts:', error);\n",
              "      }\n",
              "      quickchartButtonEl.classList.remove('colab-df-spinner');\n",
              "      quickchartButtonEl.classList.add('colab-df-quickchart-complete');\n",
              "    }\n",
              "    (() => {\n",
              "      let quickchartButtonEl =\n",
              "        document.querySelector('#df-be02d7fa-c928-4230-98c5-1808e864ba38 button');\n",
              "      quickchartButtonEl.style.display =\n",
              "        google.colab.kernel.accessAllowed ? 'block' : 'none';\n",
              "    })();\n",
              "  </script>\n",
              "</div>\n",
              "\n",
              "    </div>\n",
              "  </div>\n"
            ]
          },
          "metadata": {},
          "execution_count": 3
        }
      ],
      "source": [
        "#Read the CSV data into a DataFrame\n",
        "df = pd.read_csv('food_claims_2212.csv')\n",
        "\n",
        "#Display the first few rows of the DataFrame to verify the data\n",
        "df.head()"
      ]
    },
    {
      "cell_type": "markdown",
      "id": "94ef0e5b",
      "metadata": {
        "id": "94ef0e5b",
        "papermill": {
          "duration": 0.007966,
          "end_time": "2023-10-03T02:52:57.219606",
          "exception": false,
          "start_time": "2023-10-03T02:52:57.211640",
          "status": "completed"
        },
        "tags": []
      },
      "source": [
        "The data set contains 1 table, which consists of 8 columns and 2000 rows including some null values."
      ]
    },
    {
      "cell_type": "code",
      "execution_count": 4,
      "id": "dfcaa403",
      "metadata": {
        "execution": {
          "iopub.execute_input": "2023-10-03T02:52:57.238959Z",
          "iopub.status.busy": "2023-10-03T02:52:57.238519Z",
          "iopub.status.idle": "2023-10-03T02:52:57.248056Z",
          "shell.execute_reply": "2023-10-03T02:52:57.246754Z"
        },
        "id": "dfcaa403",
        "outputId": "91913d10-4b43-4bea-aec3-d5fe3a63f111",
        "papermill": {
          "duration": 0.021997,
          "end_time": "2023-10-03T02:52:57.250578",
          "exception": false,
          "start_time": "2023-10-03T02:52:57.228581",
          "status": "completed"
        },
        "tags": [],
        "colab": {
          "base_uri": "https://localhost:8080/"
        }
      },
      "outputs": [
        {
          "output_type": "execute_result",
          "data": {
            "text/plain": [
              "claim_id                  int64\n",
              "time_to_close             int64\n",
              "claim_amount             object\n",
              "amount_paid             float64\n",
              "location                 object\n",
              "individuals_on_claim      int64\n",
              "linked_cases             object\n",
              "cause                    object\n",
              "dtype: object"
            ]
          },
          "metadata": {},
          "execution_count": 4
        }
      ],
      "source": [
        "#Check data type of each column in the data frame\n",
        "data_types = df.dtypes\n",
        "data_types"
      ]
    },
    {
      "cell_type": "markdown",
      "id": "6024b82f",
      "metadata": {
        "id": "6024b82f",
        "papermill": {
          "duration": 0.008012,
          "end_time": "2023-10-03T02:52:57.267290",
          "exception": false,
          "start_time": "2023-10-03T02:52:57.259278",
          "status": "completed"
        },
        "tags": []
      },
      "source": [
        "# TASK 1: Data cleaning and validation\n",
        "*Data cleaning and validation is needed since data is not consistent with the requirements of DataCamp's data description.*"
      ]
    },
    {
      "cell_type": "code",
      "execution_count": 5,
      "id": "4c2aea9c",
      "metadata": {
        "execution": {
          "iopub.execute_input": "2023-10-03T02:52:57.287578Z",
          "iopub.status.busy": "2023-10-03T02:52:57.287107Z",
          "iopub.status.idle": "2023-10-03T02:52:57.308964Z",
          "shell.execute_reply": "2023-10-03T02:52:57.307966Z"
        },
        "id": "4c2aea9c",
        "outputId": "2f7b1372-52b2-4222-8eba-0b93303b128e",
        "papermill": {
          "duration": 0.034815,
          "end_time": "2023-10-03T02:52:57.311299",
          "exception": false,
          "start_time": "2023-10-03T02:52:57.276484",
          "status": "completed"
        },
        "tags": [],
        "colab": {
          "base_uri": "https://localhost:8080/"
        }
      },
      "outputs": [
        {
          "output_type": "execute_result",
          "data": {
            "text/plain": [
              "0          1\n",
              "1          2\n",
              "2          3\n",
              "3          4\n",
              "4          5\n",
              "        ... \n",
              "1995    1996\n",
              "1996    1997\n",
              "1997    1998\n",
              "1998    1999\n",
              "1999    2000\n",
              "Name: claim_id, Length: 2000, dtype: object"
            ]
          },
          "metadata": {},
          "execution_count": 5
        }
      ],
      "source": [
        "df[\"claim_id\"].isnull().sum() #Check null value\n",
        "df[\"claim_id\"].nunique() #Check unique values\n",
        "\n",
        "df[\"claim_id\"] = df[\"claim_id\"].astype(str) #Cast integers in column \"claim_id\" into strings\n",
        "\n",
        "df[\"claim_id\"]"
      ]
    },
    {
      "cell_type": "markdown",
      "id": "05ad558d",
      "metadata": {
        "id": "05ad558d",
        "papermill": {
          "duration": 0.008048,
          "end_time": "2023-10-03T02:52:57.328213",
          "exception": false,
          "start_time": "2023-10-03T02:52:57.320165",
          "status": "completed"
        },
        "tags": []
      },
      "source": [
        "**Claim ID:** There were 2000 unique values. No missing value. The data type of \"claim_id\" (descrete) were changed to string."
      ]
    },
    {
      "cell_type": "code",
      "execution_count": 6,
      "id": "7be337f8",
      "metadata": {
        "execution": {
          "iopub.execute_input": "2023-10-03T02:52:57.346884Z",
          "iopub.status.busy": "2023-10-03T02:52:57.346355Z",
          "iopub.status.idle": "2023-10-03T02:52:57.356769Z",
          "shell.execute_reply": "2023-10-03T02:52:57.355676Z"
        },
        "id": "7be337f8",
        "outputId": "8a20b823-436f-4f4e-c1f1-9df73e1829f4",
        "papermill": {
          "duration": 0.022561,
          "end_time": "2023-10-03T02:52:57.359165",
          "exception": false,
          "start_time": "2023-10-03T02:52:57.336604",
          "status": "completed"
        },
        "tags": [],
        "colab": {
          "base_uri": "https://localhost:8080/"
        }
      },
      "outputs": [
        {
          "output_type": "execute_result",
          "data": {
            "text/plain": [
              "True"
            ]
          },
          "metadata": {},
          "execution_count": 6
        }
      ],
      "source": [
        "df[\"time_to_close\"].isnull().sum() #Check null value\n",
        "all_positive = (df[\"time_to_close\"] > 0 ).all() #Check if all values are larger than 0\n",
        "all_positive"
      ]
    },
    {
      "cell_type": "markdown",
      "id": "ba382b77",
      "metadata": {
        "id": "ba382b77",
        "papermill": {
          "duration": 0.008113,
          "end_time": "2023-10-03T02:52:57.376140",
          "exception": false,
          "start_time": "2023-10-03T02:52:57.368027",
          "status": "completed"
        },
        "tags": []
      },
      "source": [
        "**Time to close:** The values of the column 'time_to_close' were all positive discrete numbers. No missing values. No changes were made to this column."
      ]
    },
    {
      "cell_type": "code",
      "execution_count": 7,
      "id": "f8f587e1",
      "metadata": {
        "execution": {
          "iopub.execute_input": "2023-10-03T02:52:57.395101Z",
          "iopub.status.busy": "2023-10-03T02:52:57.394696Z",
          "iopub.status.idle": "2023-10-03T02:52:57.407081Z",
          "shell.execute_reply": "2023-10-03T02:52:57.406260Z"
        },
        "id": "f8f587e1",
        "outputId": "cfc62566-aa31-422a-8c7a-4d586c4aaaf6",
        "papermill": {
          "duration": 0.02432,
          "end_time": "2023-10-03T02:52:57.408936",
          "exception": false,
          "start_time": "2023-10-03T02:52:57.384616",
          "status": "completed"
        },
        "tags": [],
        "colab": {
          "base_uri": "https://localhost:8080/"
        }
      },
      "outputs": [
        {
          "output_type": "execute_result",
          "data": {
            "text/plain": [
              "0       74474.55\n",
              "1       52137.83\n",
              "2       24447.20\n",
              "3       29006.28\n",
              "4       19520.60\n",
              "          ...   \n",
              "1995    28982.30\n",
              "1996     5188.44\n",
              "1997    11975.85\n",
              "1998    23516.28\n",
              "1999     8051.40\n",
              "Name: claim_amount, Length: 2000, dtype: float64"
            ]
          },
          "metadata": {},
          "execution_count": 7
        }
      ],
      "source": [
        "df[\"claim_amount\"].isnull().sum() #Check null value\n",
        "\n",
        "#Strip the \"R$ \" part and keep only the numeric part\n",
        "#Cast data to real number\n",
        "#Round data to 2 decimal places\n",
        "df[\"claim_amount\"] = df[\"claim_amount\"].str.strip(\"R$ \").astype(float).round(2)\n",
        "df[\"claim_amount\"]"
      ]
    },
    {
      "cell_type": "markdown",
      "id": "8e969cea",
      "metadata": {
        "id": "8e969cea",
        "papermill": {
          "duration": 0.008141,
          "end_time": "2023-10-03T02:52:57.425904",
          "exception": false,
          "start_time": "2023-10-03T02:52:57.417763",
          "status": "completed"
        },
        "tags": []
      },
      "source": [
        "**Claim amount**: There were 2000 values in the 'claim_amount' column, no value was missing.\n",
        "\n",
        "The type of data was text, not continuous data (as given in the description). Thus, for each row in column 'claim_amount', a number which is part of the text was extracted, casted to real number, and then rounded to 2 decimal place."
      ]
    },
    {
      "cell_type": "code",
      "execution_count": 8,
      "id": "ce3e6cf4",
      "metadata": {
        "execution": {
          "iopub.execute_input": "2023-10-03T02:52:57.445559Z",
          "iopub.status.busy": "2023-10-03T02:52:57.444543Z",
          "iopub.status.idle": "2023-10-03T02:52:57.460304Z",
          "shell.execute_reply": "2023-10-03T02:52:57.459237Z"
        },
        "id": "ce3e6cf4",
        "outputId": "07b00021-65e1-4c40-c0c2-1ab08abfcbb5",
        "papermill": {
          "duration": 0.027773,
          "end_time": "2023-10-03T02:52:57.462334",
          "exception": false,
          "start_time": "2023-10-03T02:52:57.434561",
          "status": "completed"
        },
        "tags": [],
        "colab": {
          "base_uri": "https://localhost:8080/"
        }
      },
      "outputs": [
        {
          "output_type": "execute_result",
          "data": {
            "text/plain": [
              "0       51231.37\n",
              "1       42111.30\n",
              "2       23986.30\n",
              "3       27942.72\n",
              "4       16251.06\n",
              "          ...   \n",
              "1995    24265.02\n",
              "1996     4772.77\n",
              "1997    10087.81\n",
              "1998    23310.24\n",
              "1999     6417.92\n",
              "Name: amount_paid, Length: 2000, dtype: float64"
            ]
          },
          "metadata": {},
          "execution_count": 8
        }
      ],
      "source": [
        "df[\"amount_paid\"] #Check data type\n",
        "df[\"amount_paid\"].isnull().sum() #Check if there is null value\n",
        "median = df[\"amount_paid\"].median() #Median is calculated excluding null values\n",
        "amount_paid = df[\"amount_paid\"].fillna(median) #Replace null with the median\n",
        "\n",
        "#Double check by identifying values that was replaced by the median\n",
        "replaced_null = amount_paid.loc[amount_paid == median]\n",
        "replaced_null\n",
        "\n",
        "#Update new change\n",
        "df[\"amount_paid\"] = amount_paid\n",
        "df[\"amount_paid\"]"
      ]
    },
    {
      "cell_type": "markdown",
      "id": "94aaf846",
      "metadata": {
        "id": "94aaf846",
        "papermill": {
          "duration": 0.008485,
          "end_time": "2023-10-03T02:52:57.479661",
          "exception": false,
          "start_time": "2023-10-03T02:52:57.471176",
          "status": "completed"
        },
        "tags": []
      },
      "source": [
        "**Amount paid**: Continuous. All valid values had 2 decimal digits. There were 1964 values in the column 'amount_paid', missing 36 values.\n",
        "\n",
        "Missing values were replaced by the median calculated from valid values in the column 'claim_amount'."
      ]
    },
    {
      "cell_type": "code",
      "execution_count": 9,
      "id": "e9d5b287",
      "metadata": {
        "execution": {
          "iopub.execute_input": "2023-10-03T02:52:57.499366Z",
          "iopub.status.busy": "2023-10-03T02:52:57.498941Z",
          "iopub.status.idle": "2023-10-03T02:52:57.509790Z",
          "shell.execute_reply": "2023-10-03T02:52:57.508722Z"
        },
        "id": "e9d5b287",
        "outputId": "f46f89d1-cc1c-4e3b-bbbb-e3f2ad775ebb",
        "papermill": {
          "duration": 0.022989,
          "end_time": "2023-10-03T02:52:57.511867",
          "exception": false,
          "start_time": "2023-10-03T02:52:57.488878",
          "status": "completed"
        },
        "tags": [],
        "colab": {
          "base_uri": "https://localhost:8080/"
        }
      },
      "outputs": [
        {
          "output_type": "execute_result",
          "data": {
            "text/plain": [
              "0"
            ]
          },
          "metadata": {},
          "execution_count": 9
        }
      ],
      "source": [
        "#Validate data in column \"location\"\n",
        "df[\"location\"].unique()\n",
        "df[\"location\"].isnull().sum()"
      ]
    },
    {
      "cell_type": "markdown",
      "id": "f6e1ca3a",
      "metadata": {
        "id": "f6e1ca3a",
        "papermill": {
          "duration": 0.008312,
          "end_time": "2023-10-03T02:52:57.529218",
          "exception": false,
          "start_time": "2023-10-03T02:52:57.520906",
          "status": "completed"
        },
        "tags": []
      },
      "source": [
        "**Location:** Nonimal. There were 2000 values and no missing value. Location in the column was one of “RECIFE”, “SAO LUIS”, “FORTALEZA”, or “NATAL”. No changes were made."
      ]
    },
    {
      "cell_type": "code",
      "execution_count": 10,
      "id": "c83393b6",
      "metadata": {
        "execution": {
          "iopub.execute_input": "2023-10-03T02:52:57.547928Z",
          "iopub.status.busy": "2023-10-03T02:52:57.547533Z",
          "iopub.status.idle": "2023-10-03T02:52:57.555835Z",
          "shell.execute_reply": "2023-10-03T02:52:57.554733Z"
        },
        "id": "c83393b6",
        "outputId": "f1d3e3c5-1752-4eaf-96df-6b5134198f72",
        "papermill": {
          "duration": 0.020023,
          "end_time": "2023-10-03T02:52:57.557776",
          "exception": false,
          "start_time": "2023-10-03T02:52:57.537753",
          "status": "completed"
        },
        "tags": [],
        "colab": {
          "base_uri": "https://localhost:8080/"
        }
      },
      "outputs": [
        {
          "output_type": "execute_result",
          "data": {
            "text/plain": [
              "True"
            ]
          },
          "metadata": {},
          "execution_count": 10
        }
      ],
      "source": [
        "df[\"individuals_on_claim\"].isnull().sum() #Check if there is null value\n",
        "df[\"individuals_on_claim\"].dtypes #Check data type\n",
        "all_positive = (df[\"individuals_on_claim\"] > 0 ).all() #Check if all values are positve\n",
        "all_positive #Print result"
      ]
    },
    {
      "cell_type": "markdown",
      "id": "9294e532",
      "metadata": {
        "id": "9294e532",
        "papermill": {
          "duration": 0.008416,
          "end_time": "2023-10-03T02:52:57.575627",
          "exception": false,
          "start_time": "2023-10-03T02:52:57.567211",
          "status": "completed"
        },
        "tags": []
      },
      "source": [
        "**Individuals on claim:** Data in this column was discrete. All values are not null and greater than or equal to 1. No changes were made."
      ]
    },
    {
      "cell_type": "code",
      "execution_count": 11,
      "id": "e82ade56",
      "metadata": {
        "execution": {
          "iopub.execute_input": "2023-10-03T02:52:57.595542Z",
          "iopub.status.busy": "2023-10-03T02:52:57.594633Z",
          "iopub.status.idle": "2023-10-03T02:52:57.608927Z",
          "shell.execute_reply": "2023-10-03T02:52:57.607843Z"
        },
        "id": "e82ade56",
        "outputId": "7b67daf4-83d6-4662-caed-21877585dd98",
        "papermill": {
          "duration": 0.026487,
          "end_time": "2023-10-03T02:52:57.610987",
          "exception": false,
          "start_time": "2023-10-03T02:52:57.584500",
          "status": "completed"
        },
        "tags": [],
        "colab": {
          "base_uri": "https://localhost:8080/"
        }
      },
      "outputs": [
        {
          "output_type": "stream",
          "name": "stdout",
          "text": [
            "True\n"
          ]
        },
        {
          "output_type": "execute_result",
          "data": {
            "text/plain": [
              "0       False\n",
              "1        True\n",
              "2        True\n",
              "3       False\n",
              "4       False\n",
              "        ...  \n",
              "1995    False\n",
              "1996     True\n",
              "1997     True\n",
              "1998    False\n",
              "1999    False\n",
              "Name: linked_cases, Length: 2000, dtype: bool"
            ]
          },
          "metadata": {},
          "execution_count": 11
        }
      ],
      "source": [
        "df[\"linked_cases\"].isnull().sum() #Look for null values\n",
        "linked_cases = df[\"linked_cases\"].fillna(False) #Replace null with boolean \"False\"\n",
        "linked_cases.unique() #Check unique values\n",
        "print(linked_cases.dtypes == bool) #Check data type of data frame \"linked_cases\"\n",
        "\n",
        "#Update new changes\n",
        "df[\"linked_cases\"] = linked_cases\n",
        "df[\"linked_cases\"]"
      ]
    },
    {
      "cell_type": "markdown",
      "id": "47df6bc8",
      "metadata": {
        "id": "47df6bc8",
        "papermill": {
          "duration": 0.00874,
          "end_time": "2023-10-03T02:52:57.628883",
          "exception": false,
          "start_time": "2023-10-03T02:52:57.620143",
          "status": "completed"
        },
        "tags": []
      },
      "source": [
        "**Linked_cases:** Boolean. There were 26 missing values, which has been replaced by the boolean \"False\"."
      ]
    },
    {
      "cell_type": "code",
      "execution_count": 12,
      "id": "d9d572c0",
      "metadata": {
        "execution": {
          "iopub.execute_input": "2023-10-03T02:52:57.736438Z",
          "iopub.status.busy": "2023-10-03T02:52:57.736008Z",
          "iopub.status.idle": "2023-10-03T02:52:57.750782Z",
          "shell.execute_reply": "2023-10-03T02:52:57.749416Z"
        },
        "id": "d9d572c0",
        "papermill": {
          "duration": 0.028458,
          "end_time": "2023-10-03T02:52:57.753290",
          "exception": false,
          "start_time": "2023-10-03T02:52:57.724832",
          "status": "completed"
        },
        "tags": []
      },
      "outputs": [],
      "source": [
        "df[\"cause\"].isnull().sum() #Check if there is null value\n",
        "df[\"cause\"].unique() #Check unique values\n",
        "\n",
        "#Replace data to ensure consistency\n",
        "replacement_dict = {\n",
        "    \"VEGETABLES\": \"vegetable\",\n",
        "    \"Meat\": \"meat\",\n",
        "    \" meat\": \"meat\"\n",
        "}\n",
        "\n",
        "df[\"cause\"] = df[\"cause\"].replace(replacement_dict, regex=True)"
      ]
    },
    {
      "cell_type": "markdown",
      "id": "34c3e8a3",
      "metadata": {
        "id": "34c3e8a3",
        "papermill": {
          "duration": 0.009495,
          "end_time": "2023-10-03T02:52:57.772936",
          "exception": false,
          "start_time": "2023-10-03T02:52:57.763441",
          "status": "completed"
        },
        "tags": []
      },
      "source": [
        "**Cause:** Nominal. There no null values. There were inconsistency in capitalization for the text in this column. For example, \"meat\", \" meat\" and \"Meat\", or \"vegetable\" and \"VEGETABLES\" exist in the records. Text records are standardised to ensure consistency."
      ]
    },
    {
      "cell_type": "markdown",
      "id": "2c8e588b",
      "metadata": {
        "id": "2c8e588b",
        "papermill": {
          "duration": 0.008845,
          "end_time": "2023-10-03T02:52:57.791116",
          "exception": false,
          "start_time": "2023-10-03T02:52:57.782271",
          "status": "completed"
        },
        "tags": []
      },
      "source": [
        "# Connect to SQLite database first"
      ]
    },
    {
      "cell_type": "code",
      "execution_count": 13,
      "id": "68ea9a73",
      "metadata": {
        "execution": {
          "iopub.execute_input": "2023-10-03T02:52:57.812291Z",
          "iopub.status.busy": "2023-10-03T02:52:57.811871Z",
          "iopub.status.idle": "2023-10-03T02:52:57.817999Z",
          "shell.execute_reply": "2023-10-03T02:52:57.816761Z"
        },
        "id": "68ea9a73",
        "outputId": "5066412f-b0f6-4d79-c0fb-9433a509e642",
        "papermill": {
          "duration": 0.019441,
          "end_time": "2023-10-03T02:52:57.820309",
          "exception": false,
          "start_time": "2023-10-03T02:52:57.800868",
          "status": "completed"
        },
        "tags": [],
        "colab": {
          "base_uri": "https://localhost:8080/"
        }
      },
      "outputs": [
        {
          "output_type": "stream",
          "name": "stdout",
          "text": [
            "SQL database connected\n"
          ]
        }
      ],
      "source": [
        "#Connect to a SQLite database (it will be created if it doesn't exist)\n",
        "conn = sqlite3.connect('food_claims')\n",
        "cursor = conn.cursor()\n",
        "print(\"SQL database connected\")"
      ]
    },
    {
      "cell_type": "code",
      "execution_count": 14,
      "id": "e8bb09b1",
      "metadata": {
        "execution": {
          "iopub.execute_input": "2023-10-03T02:52:57.841321Z",
          "iopub.status.busy": "2023-10-03T02:52:57.840906Z",
          "iopub.status.idle": "2023-10-03T02:52:57.889655Z",
          "shell.execute_reply": "2023-10-03T02:52:57.888432Z"
        },
        "id": "e8bb09b1",
        "outputId": "936e925a-d315-4808-8a58-668ef47b1dbb",
        "papermill": {
          "duration": 0.06269,
          "end_time": "2023-10-03T02:52:57.892411",
          "exception": false,
          "start_time": "2023-10-03T02:52:57.829721",
          "status": "completed"
        },
        "tags": [],
        "colab": {
          "base_uri": "https://localhost:8080/"
        }
      },
      "outputs": [
        {
          "output_type": "execute_result",
          "data": {
            "text/plain": [
              "2000"
            ]
          },
          "metadata": {},
          "execution_count": 14
        }
      ],
      "source": [
        "#Store the DataFrame in a SQLite table named 'food_claims'\n",
        "df.to_sql('food_claims', conn, if_exists='replace', index=False)"
      ]
    },
    {
      "cell_type": "code",
      "execution_count": 15,
      "id": "e4f2fa81",
      "metadata": {
        "execution": {
          "iopub.execute_input": "2023-10-03T02:52:57.913570Z",
          "iopub.status.busy": "2023-10-03T02:52:57.913129Z",
          "iopub.status.idle": "2023-10-03T02:52:57.926343Z",
          "shell.execute_reply": "2023-10-03T02:52:57.924890Z"
        },
        "id": "e4f2fa81",
        "outputId": "ad394500-2e63-4e26-e026-59258964f506",
        "papermill": {
          "duration": 0.027027,
          "end_time": "2023-10-03T02:52:57.929114",
          "exception": false,
          "start_time": "2023-10-03T02:52:57.902087",
          "status": "completed"
        },
        "tags": [],
        "colab": {
          "base_uri": "https://localhost:8080/",
          "height": 89
        }
      },
      "outputs": [
        {
          "output_type": "execute_result",
          "data": {
            "text/plain": [
              "    type         name     tbl_name  rootpage  \\\n",
              "0  table  food_claims  food_claims         2   \n",
              "\n",
              "                                                 sql  \n",
              "0  CREATE TABLE \"food_claims\" (\\n\"claim_id\" TEXT,...  "
            ],
            "text/html": [
              "\n",
              "  <div id=\"df-1cc2eade-1c1f-4468-af40-ca4029c7ef12\" class=\"colab-df-container\">\n",
              "    <div>\n",
              "<style scoped>\n",
              "    .dataframe tbody tr th:only-of-type {\n",
              "        vertical-align: middle;\n",
              "    }\n",
              "\n",
              "    .dataframe tbody tr th {\n",
              "        vertical-align: top;\n",
              "    }\n",
              "\n",
              "    .dataframe thead th {\n",
              "        text-align: right;\n",
              "    }\n",
              "</style>\n",
              "<table border=\"1\" class=\"dataframe\">\n",
              "  <thead>\n",
              "    <tr style=\"text-align: right;\">\n",
              "      <th></th>\n",
              "      <th>type</th>\n",
              "      <th>name</th>\n",
              "      <th>tbl_name</th>\n",
              "      <th>rootpage</th>\n",
              "      <th>sql</th>\n",
              "    </tr>\n",
              "  </thead>\n",
              "  <tbody>\n",
              "    <tr>\n",
              "      <th>0</th>\n",
              "      <td>table</td>\n",
              "      <td>food_claims</td>\n",
              "      <td>food_claims</td>\n",
              "      <td>2</td>\n",
              "      <td>CREATE TABLE \"food_claims\" (\\n\"claim_id\" TEXT,...</td>\n",
              "    </tr>\n",
              "  </tbody>\n",
              "</table>\n",
              "</div>\n",
              "    <div class=\"colab-df-buttons\">\n",
              "\n",
              "  <div class=\"colab-df-container\">\n",
              "    <button class=\"colab-df-convert\" onclick=\"convertToInteractive('df-1cc2eade-1c1f-4468-af40-ca4029c7ef12')\"\n",
              "            title=\"Convert this dataframe to an interactive table.\"\n",
              "            style=\"display:none;\">\n",
              "\n",
              "  <svg xmlns=\"http://www.w3.org/2000/svg\" height=\"24px\" viewBox=\"0 -960 960 960\">\n",
              "    <path d=\"M120-120v-720h720v720H120Zm60-500h600v-160H180v160Zm220 220h160v-160H400v160Zm0 220h160v-160H400v160ZM180-400h160v-160H180v160Zm440 0h160v-160H620v160ZM180-180h160v-160H180v160Zm440 0h160v-160H620v160Z\"/>\n",
              "  </svg>\n",
              "    </button>\n",
              "\n",
              "  <style>\n",
              "    .colab-df-container {\n",
              "      display:flex;\n",
              "      gap: 12px;\n",
              "    }\n",
              "\n",
              "    .colab-df-convert {\n",
              "      background-color: #E8F0FE;\n",
              "      border: none;\n",
              "      border-radius: 50%;\n",
              "      cursor: pointer;\n",
              "      display: none;\n",
              "      fill: #1967D2;\n",
              "      height: 32px;\n",
              "      padding: 0 0 0 0;\n",
              "      width: 32px;\n",
              "    }\n",
              "\n",
              "    .colab-df-convert:hover {\n",
              "      background-color: #E2EBFA;\n",
              "      box-shadow: 0px 1px 2px rgba(60, 64, 67, 0.3), 0px 1px 3px 1px rgba(60, 64, 67, 0.15);\n",
              "      fill: #174EA6;\n",
              "    }\n",
              "\n",
              "    .colab-df-buttons div {\n",
              "      margin-bottom: 4px;\n",
              "    }\n",
              "\n",
              "    [theme=dark] .colab-df-convert {\n",
              "      background-color: #3B4455;\n",
              "      fill: #D2E3FC;\n",
              "    }\n",
              "\n",
              "    [theme=dark] .colab-df-convert:hover {\n",
              "      background-color: #434B5C;\n",
              "      box-shadow: 0px 1px 3px 1px rgba(0, 0, 0, 0.15);\n",
              "      filter: drop-shadow(0px 1px 2px rgba(0, 0, 0, 0.3));\n",
              "      fill: #FFFFFF;\n",
              "    }\n",
              "  </style>\n",
              "\n",
              "    <script>\n",
              "      const buttonEl =\n",
              "        document.querySelector('#df-1cc2eade-1c1f-4468-af40-ca4029c7ef12 button.colab-df-convert');\n",
              "      buttonEl.style.display =\n",
              "        google.colab.kernel.accessAllowed ? 'block' : 'none';\n",
              "\n",
              "      async function convertToInteractive(key) {\n",
              "        const element = document.querySelector('#df-1cc2eade-1c1f-4468-af40-ca4029c7ef12');\n",
              "        const dataTable =\n",
              "          await google.colab.kernel.invokeFunction('convertToInteractive',\n",
              "                                                    [key], {});\n",
              "        if (!dataTable) return;\n",
              "\n",
              "        const docLinkHtml = 'Like what you see? Visit the ' +\n",
              "          '<a target=\"_blank\" href=https://colab.research.google.com/notebooks/data_table.ipynb>data table notebook</a>'\n",
              "          + ' to learn more about interactive tables.';\n",
              "        element.innerHTML = '';\n",
              "        dataTable['output_type'] = 'display_data';\n",
              "        await google.colab.output.renderOutput(dataTable, element);\n",
              "        const docLink = document.createElement('div');\n",
              "        docLink.innerHTML = docLinkHtml;\n",
              "        element.appendChild(docLink);\n",
              "      }\n",
              "    </script>\n",
              "  </div>\n",
              "\n",
              "\n",
              "  <div id=\"id_265e9cc6-a764-4e6c-bca1-f8ab868ae343\">\n",
              "    <style>\n",
              "      .colab-df-generate {\n",
              "        background-color: #E8F0FE;\n",
              "        border: none;\n",
              "        border-radius: 50%;\n",
              "        cursor: pointer;\n",
              "        display: none;\n",
              "        fill: #1967D2;\n",
              "        height: 32px;\n",
              "        padding: 0 0 0 0;\n",
              "        width: 32px;\n",
              "      }\n",
              "\n",
              "      .colab-df-generate:hover {\n",
              "        background-color: #E2EBFA;\n",
              "        box-shadow: 0px 1px 2px rgba(60, 64, 67, 0.3), 0px 1px 3px 1px rgba(60, 64, 67, 0.15);\n",
              "        fill: #174EA6;\n",
              "      }\n",
              "\n",
              "      [theme=dark] .colab-df-generate {\n",
              "        background-color: #3B4455;\n",
              "        fill: #D2E3FC;\n",
              "      }\n",
              "\n",
              "      [theme=dark] .colab-df-generate:hover {\n",
              "        background-color: #434B5C;\n",
              "        box-shadow: 0px 1px 3px 1px rgba(0, 0, 0, 0.15);\n",
              "        filter: drop-shadow(0px 1px 2px rgba(0, 0, 0, 0.3));\n",
              "        fill: #FFFFFF;\n",
              "      }\n",
              "    </style>\n",
              "    <button class=\"colab-df-generate\" onclick=\"generateWithVariable('table_info')\"\n",
              "            title=\"Generate code using this dataframe.\"\n",
              "            style=\"display:none;\">\n",
              "\n",
              "  <svg xmlns=\"http://www.w3.org/2000/svg\" height=\"24px\"viewBox=\"0 0 24 24\"\n",
              "       width=\"24px\">\n",
              "    <path d=\"M7,19H8.4L18.45,9,17,7.55,7,17.6ZM5,21V16.75L18.45,3.32a2,2,0,0,1,2.83,0l1.4,1.43a1.91,1.91,0,0,1,.58,1.4,1.91,1.91,0,0,1-.58,1.4L9.25,21ZM18.45,9,17,7.55Zm-12,3A5.31,5.31,0,0,0,4.9,8.1,5.31,5.31,0,0,0,1,6.5,5.31,5.31,0,0,0,4.9,4.9,5.31,5.31,0,0,0,6.5,1,5.31,5.31,0,0,0,8.1,4.9,5.31,5.31,0,0,0,12,6.5,5.46,5.46,0,0,0,6.5,12Z\"/>\n",
              "  </svg>\n",
              "    </button>\n",
              "    <script>\n",
              "      (() => {\n",
              "      const buttonEl =\n",
              "        document.querySelector('#id_265e9cc6-a764-4e6c-bca1-f8ab868ae343 button.colab-df-generate');\n",
              "      buttonEl.style.display =\n",
              "        google.colab.kernel.accessAllowed ? 'block' : 'none';\n",
              "\n",
              "      buttonEl.onclick = () => {\n",
              "        google.colab.notebook.generateWithVariable('table_info');\n",
              "      }\n",
              "      })();\n",
              "    </script>\n",
              "  </div>\n",
              "\n",
              "    </div>\n",
              "  </div>\n"
            ]
          },
          "metadata": {},
          "execution_count": 15
        }
      ],
      "source": [
        "#Double check, in this SQLite database we only have 1 table named 'food_claims'\n",
        "table_info = pd.read_sql(\"SELECT * FROM sqlite_master WHERE type='table'\", conn)\n",
        "table_info"
      ]
    },
    {
      "cell_type": "code",
      "execution_count": 16,
      "id": "0c16f8a7",
      "metadata": {
        "execution": {
          "iopub.execute_input": "2023-10-03T02:52:57.950901Z",
          "iopub.status.busy": "2023-10-03T02:52:57.950079Z",
          "iopub.status.idle": "2023-10-03T02:52:57.964410Z",
          "shell.execute_reply": "2023-10-03T02:52:57.963141Z"
        },
        "id": "0c16f8a7",
        "outputId": "cf38de62-b1ba-4885-f955-542d468498d7",
        "papermill": {
          "duration": 0.027971,
          "end_time": "2023-10-03T02:52:57.967013",
          "exception": false,
          "start_time": "2023-10-03T02:52:57.939042",
          "status": "completed"
        },
        "tags": [],
        "colab": {
          "base_uri": "https://localhost:8080/",
          "height": 300
        }
      },
      "outputs": [
        {
          "output_type": "execute_result",
          "data": {
            "text/plain": [
              "   cid                  name     type  notnull dflt_value  pk\n",
              "0    0              claim_id     TEXT        0       None   0\n",
              "1    1         time_to_close  INTEGER        0       None   0\n",
              "2    2          claim_amount     REAL        0       None   0\n",
              "3    3           amount_paid     REAL        0       None   0\n",
              "4    4              location     TEXT        0       None   0\n",
              "5    5  individuals_on_claim  INTEGER        0       None   0\n",
              "6    6          linked_cases  INTEGER        0       None   0\n",
              "7    7                 cause     TEXT        0       None   0"
            ],
            "text/html": [
              "\n",
              "  <div id=\"df-2275dcfe-1f22-4704-a1fe-e17bd395a0eb\" class=\"colab-df-container\">\n",
              "    <div>\n",
              "<style scoped>\n",
              "    .dataframe tbody tr th:only-of-type {\n",
              "        vertical-align: middle;\n",
              "    }\n",
              "\n",
              "    .dataframe tbody tr th {\n",
              "        vertical-align: top;\n",
              "    }\n",
              "\n",
              "    .dataframe thead th {\n",
              "        text-align: right;\n",
              "    }\n",
              "</style>\n",
              "<table border=\"1\" class=\"dataframe\">\n",
              "  <thead>\n",
              "    <tr style=\"text-align: right;\">\n",
              "      <th></th>\n",
              "      <th>cid</th>\n",
              "      <th>name</th>\n",
              "      <th>type</th>\n",
              "      <th>notnull</th>\n",
              "      <th>dflt_value</th>\n",
              "      <th>pk</th>\n",
              "    </tr>\n",
              "  </thead>\n",
              "  <tbody>\n",
              "    <tr>\n",
              "      <th>0</th>\n",
              "      <td>0</td>\n",
              "      <td>claim_id</td>\n",
              "      <td>TEXT</td>\n",
              "      <td>0</td>\n",
              "      <td>None</td>\n",
              "      <td>0</td>\n",
              "    </tr>\n",
              "    <tr>\n",
              "      <th>1</th>\n",
              "      <td>1</td>\n",
              "      <td>time_to_close</td>\n",
              "      <td>INTEGER</td>\n",
              "      <td>0</td>\n",
              "      <td>None</td>\n",
              "      <td>0</td>\n",
              "    </tr>\n",
              "    <tr>\n",
              "      <th>2</th>\n",
              "      <td>2</td>\n",
              "      <td>claim_amount</td>\n",
              "      <td>REAL</td>\n",
              "      <td>0</td>\n",
              "      <td>None</td>\n",
              "      <td>0</td>\n",
              "    </tr>\n",
              "    <tr>\n",
              "      <th>3</th>\n",
              "      <td>3</td>\n",
              "      <td>amount_paid</td>\n",
              "      <td>REAL</td>\n",
              "      <td>0</td>\n",
              "      <td>None</td>\n",
              "      <td>0</td>\n",
              "    </tr>\n",
              "    <tr>\n",
              "      <th>4</th>\n",
              "      <td>4</td>\n",
              "      <td>location</td>\n",
              "      <td>TEXT</td>\n",
              "      <td>0</td>\n",
              "      <td>None</td>\n",
              "      <td>0</td>\n",
              "    </tr>\n",
              "    <tr>\n",
              "      <th>5</th>\n",
              "      <td>5</td>\n",
              "      <td>individuals_on_claim</td>\n",
              "      <td>INTEGER</td>\n",
              "      <td>0</td>\n",
              "      <td>None</td>\n",
              "      <td>0</td>\n",
              "    </tr>\n",
              "    <tr>\n",
              "      <th>6</th>\n",
              "      <td>6</td>\n",
              "      <td>linked_cases</td>\n",
              "      <td>INTEGER</td>\n",
              "      <td>0</td>\n",
              "      <td>None</td>\n",
              "      <td>0</td>\n",
              "    </tr>\n",
              "    <tr>\n",
              "      <th>7</th>\n",
              "      <td>7</td>\n",
              "      <td>cause</td>\n",
              "      <td>TEXT</td>\n",
              "      <td>0</td>\n",
              "      <td>None</td>\n",
              "      <td>0</td>\n",
              "    </tr>\n",
              "  </tbody>\n",
              "</table>\n",
              "</div>\n",
              "    <div class=\"colab-df-buttons\">\n",
              "\n",
              "  <div class=\"colab-df-container\">\n",
              "    <button class=\"colab-df-convert\" onclick=\"convertToInteractive('df-2275dcfe-1f22-4704-a1fe-e17bd395a0eb')\"\n",
              "            title=\"Convert this dataframe to an interactive table.\"\n",
              "            style=\"display:none;\">\n",
              "\n",
              "  <svg xmlns=\"http://www.w3.org/2000/svg\" height=\"24px\" viewBox=\"0 -960 960 960\">\n",
              "    <path d=\"M120-120v-720h720v720H120Zm60-500h600v-160H180v160Zm220 220h160v-160H400v160Zm0 220h160v-160H400v160ZM180-400h160v-160H180v160Zm440 0h160v-160H620v160ZM180-180h160v-160H180v160Zm440 0h160v-160H620v160Z\"/>\n",
              "  </svg>\n",
              "    </button>\n",
              "\n",
              "  <style>\n",
              "    .colab-df-container {\n",
              "      display:flex;\n",
              "      gap: 12px;\n",
              "    }\n",
              "\n",
              "    .colab-df-convert {\n",
              "      background-color: #E8F0FE;\n",
              "      border: none;\n",
              "      border-radius: 50%;\n",
              "      cursor: pointer;\n",
              "      display: none;\n",
              "      fill: #1967D2;\n",
              "      height: 32px;\n",
              "      padding: 0 0 0 0;\n",
              "      width: 32px;\n",
              "    }\n",
              "\n",
              "    .colab-df-convert:hover {\n",
              "      background-color: #E2EBFA;\n",
              "      box-shadow: 0px 1px 2px rgba(60, 64, 67, 0.3), 0px 1px 3px 1px rgba(60, 64, 67, 0.15);\n",
              "      fill: #174EA6;\n",
              "    }\n",
              "\n",
              "    .colab-df-buttons div {\n",
              "      margin-bottom: 4px;\n",
              "    }\n",
              "\n",
              "    [theme=dark] .colab-df-convert {\n",
              "      background-color: #3B4455;\n",
              "      fill: #D2E3FC;\n",
              "    }\n",
              "\n",
              "    [theme=dark] .colab-df-convert:hover {\n",
              "      background-color: #434B5C;\n",
              "      box-shadow: 0px 1px 3px 1px rgba(0, 0, 0, 0.15);\n",
              "      filter: drop-shadow(0px 1px 2px rgba(0, 0, 0, 0.3));\n",
              "      fill: #FFFFFF;\n",
              "    }\n",
              "  </style>\n",
              "\n",
              "    <script>\n",
              "      const buttonEl =\n",
              "        document.querySelector('#df-2275dcfe-1f22-4704-a1fe-e17bd395a0eb button.colab-df-convert');\n",
              "      buttonEl.style.display =\n",
              "        google.colab.kernel.accessAllowed ? 'block' : 'none';\n",
              "\n",
              "      async function convertToInteractive(key) {\n",
              "        const element = document.querySelector('#df-2275dcfe-1f22-4704-a1fe-e17bd395a0eb');\n",
              "        const dataTable =\n",
              "          await google.colab.kernel.invokeFunction('convertToInteractive',\n",
              "                                                    [key], {});\n",
              "        if (!dataTable) return;\n",
              "\n",
              "        const docLinkHtml = 'Like what you see? Visit the ' +\n",
              "          '<a target=\"_blank\" href=https://colab.research.google.com/notebooks/data_table.ipynb>data table notebook</a>'\n",
              "          + ' to learn more about interactive tables.';\n",
              "        element.innerHTML = '';\n",
              "        dataTable['output_type'] = 'display_data';\n",
              "        await google.colab.output.renderOutput(dataTable, element);\n",
              "        const docLink = document.createElement('div');\n",
              "        docLink.innerHTML = docLinkHtml;\n",
              "        element.appendChild(docLink);\n",
              "      }\n",
              "    </script>\n",
              "  </div>\n",
              "\n",
              "\n",
              "<div id=\"df-9121ffec-2c68-4d6d-8ff1-f602cf03e9c9\">\n",
              "  <button class=\"colab-df-quickchart\" onclick=\"quickchart('df-9121ffec-2c68-4d6d-8ff1-f602cf03e9c9')\"\n",
              "            title=\"Suggest charts\"\n",
              "            style=\"display:none;\">\n",
              "\n",
              "<svg xmlns=\"http://www.w3.org/2000/svg\" height=\"24px\"viewBox=\"0 0 24 24\"\n",
              "     width=\"24px\">\n",
              "    <g>\n",
              "        <path d=\"M19 3H5c-1.1 0-2 .9-2 2v14c0 1.1.9 2 2 2h14c1.1 0 2-.9 2-2V5c0-1.1-.9-2-2-2zM9 17H7v-7h2v7zm4 0h-2V7h2v10zm4 0h-2v-4h2v4z\"/>\n",
              "    </g>\n",
              "</svg>\n",
              "  </button>\n",
              "\n",
              "<style>\n",
              "  .colab-df-quickchart {\n",
              "      --bg-color: #E8F0FE;\n",
              "      --fill-color: #1967D2;\n",
              "      --hover-bg-color: #E2EBFA;\n",
              "      --hover-fill-color: #174EA6;\n",
              "      --disabled-fill-color: #AAA;\n",
              "      --disabled-bg-color: #DDD;\n",
              "  }\n",
              "\n",
              "  [theme=dark] .colab-df-quickchart {\n",
              "      --bg-color: #3B4455;\n",
              "      --fill-color: #D2E3FC;\n",
              "      --hover-bg-color: #434B5C;\n",
              "      --hover-fill-color: #FFFFFF;\n",
              "      --disabled-bg-color: #3B4455;\n",
              "      --disabled-fill-color: #666;\n",
              "  }\n",
              "\n",
              "  .colab-df-quickchart {\n",
              "    background-color: var(--bg-color);\n",
              "    border: none;\n",
              "    border-radius: 50%;\n",
              "    cursor: pointer;\n",
              "    display: none;\n",
              "    fill: var(--fill-color);\n",
              "    height: 32px;\n",
              "    padding: 0;\n",
              "    width: 32px;\n",
              "  }\n",
              "\n",
              "  .colab-df-quickchart:hover {\n",
              "    background-color: var(--hover-bg-color);\n",
              "    box-shadow: 0 1px 2px rgba(60, 64, 67, 0.3), 0 1px 3px 1px rgba(60, 64, 67, 0.15);\n",
              "    fill: var(--button-hover-fill-color);\n",
              "  }\n",
              "\n",
              "  .colab-df-quickchart-complete:disabled,\n",
              "  .colab-df-quickchart-complete:disabled:hover {\n",
              "    background-color: var(--disabled-bg-color);\n",
              "    fill: var(--disabled-fill-color);\n",
              "    box-shadow: none;\n",
              "  }\n",
              "\n",
              "  .colab-df-spinner {\n",
              "    border: 2px solid var(--fill-color);\n",
              "    border-color: transparent;\n",
              "    border-bottom-color: var(--fill-color);\n",
              "    animation:\n",
              "      spin 1s steps(1) infinite;\n",
              "  }\n",
              "\n",
              "  @keyframes spin {\n",
              "    0% {\n",
              "      border-color: transparent;\n",
              "      border-bottom-color: var(--fill-color);\n",
              "      border-left-color: var(--fill-color);\n",
              "    }\n",
              "    20% {\n",
              "      border-color: transparent;\n",
              "      border-left-color: var(--fill-color);\n",
              "      border-top-color: var(--fill-color);\n",
              "    }\n",
              "    30% {\n",
              "      border-color: transparent;\n",
              "      border-left-color: var(--fill-color);\n",
              "      border-top-color: var(--fill-color);\n",
              "      border-right-color: var(--fill-color);\n",
              "    }\n",
              "    40% {\n",
              "      border-color: transparent;\n",
              "      border-right-color: var(--fill-color);\n",
              "      border-top-color: var(--fill-color);\n",
              "    }\n",
              "    60% {\n",
              "      border-color: transparent;\n",
              "      border-right-color: var(--fill-color);\n",
              "    }\n",
              "    80% {\n",
              "      border-color: transparent;\n",
              "      border-right-color: var(--fill-color);\n",
              "      border-bottom-color: var(--fill-color);\n",
              "    }\n",
              "    90% {\n",
              "      border-color: transparent;\n",
              "      border-bottom-color: var(--fill-color);\n",
              "    }\n",
              "  }\n",
              "</style>\n",
              "\n",
              "  <script>\n",
              "    async function quickchart(key) {\n",
              "      const quickchartButtonEl =\n",
              "        document.querySelector('#' + key + ' button');\n",
              "      quickchartButtonEl.disabled = true;  // To prevent multiple clicks.\n",
              "      quickchartButtonEl.classList.add('colab-df-spinner');\n",
              "      try {\n",
              "        const charts = await google.colab.kernel.invokeFunction(\n",
              "            'suggestCharts', [key], {});\n",
              "      } catch (error) {\n",
              "        console.error('Error during call to suggestCharts:', error);\n",
              "      }\n",
              "      quickchartButtonEl.classList.remove('colab-df-spinner');\n",
              "      quickchartButtonEl.classList.add('colab-df-quickchart-complete');\n",
              "    }\n",
              "    (() => {\n",
              "      let quickchartButtonEl =\n",
              "        document.querySelector('#df-9121ffec-2c68-4d6d-8ff1-f602cf03e9c9 button');\n",
              "      quickchartButtonEl.style.display =\n",
              "        google.colab.kernel.accessAllowed ? 'block' : 'none';\n",
              "    })();\n",
              "  </script>\n",
              "</div>\n",
              "\n",
              "    </div>\n",
              "  </div>\n"
            ]
          },
          "metadata": {},
          "execution_count": 16
        }
      ],
      "source": [
        "#Check column name and data type from the SQLite database\n",
        "pd.read_sql(\"\"\"PRAGMA table_info(food_claims);\"\"\",\n",
        "            conn)"
      ]
    },
    {
      "cell_type": "markdown",
      "id": "578ffd92",
      "metadata": {
        "id": "578ffd92",
        "papermill": {
          "duration": 0.010821,
          "end_time": "2023-10-03T02:52:57.988457",
          "exception": false,
          "start_time": "2023-10-03T02:52:57.977636",
          "status": "completed"
        },
        "tags": []
      },
      "source": [
        "In the SQLite table named \"food_claims\" we have 8 columns."
      ]
    },
    {
      "cell_type": "markdown",
      "id": "15483174",
      "metadata": {
        "id": "15483174",
        "papermill": {
          "duration": 0.009481,
          "end_time": "2023-10-03T02:52:58.007774",
          "exception": false,
          "start_time": "2023-10-03T02:52:57.998293",
          "status": "completed"
        },
        "tags": []
      },
      "source": [
        "# TASK 2: Distribution of claim ID in each location"
      ]
    },
    {
      "cell_type": "code",
      "execution_count": 17,
      "id": "02292f5f",
      "metadata": {
        "execution": {
          "iopub.execute_input": "2023-10-03T02:52:58.030711Z",
          "iopub.status.busy": "2023-10-03T02:52:58.029411Z",
          "iopub.status.idle": "2023-10-03T02:53:00.061347Z",
          "shell.execute_reply": "2023-10-03T02:53:00.060164Z"
        },
        "id": "02292f5f",
        "outputId": "a92513ed-3827-46e4-9371-7c9a431298d6",
        "papermill": {
          "duration": 2.045629,
          "end_time": "2023-10-03T02:53:00.063742",
          "exception": false,
          "start_time": "2023-10-03T02:52:58.018113",
          "status": "completed"
        },
        "tags": [],
        "colab": {
          "base_uri": "https://localhost:8080/",
          "height": 542
        }
      },
      "outputs": [
        {
          "output_type": "display_data",
          "data": {
            "text/html": [
              "<html>\n",
              "<head><meta charset=\"utf-8\" /></head>\n",
              "<body>\n",
              "    <div>            <script src=\"https://cdnjs.cloudflare.com/ajax/libs/mathjax/2.7.5/MathJax.js?config=TeX-AMS-MML_SVG\"></script><script type=\"text/javascript\">if (window.MathJax && window.MathJax.Hub && window.MathJax.Hub.Config) {window.MathJax.Hub.Config({SVG: {font: \"STIX-Web\"}});}</script>                <script type=\"text/javascript\">window.PlotlyConfig = {MathJaxConfig: 'local'};</script>\n",
              "        <script charset=\"utf-8\" src=\"https://cdn.plot.ly/plotly-2.24.1.min.js\"></script>                <div id=\"ffaa706a-2399-4bd9-90a2-ffb2c8216c66\" class=\"plotly-graph-div\" style=\"height:525px; width:100%;\"></div>            <script type=\"text/javascript\">                                    window.PLOTLYENV=window.PLOTLYENV || {};                                    if (document.getElementById(\"ffaa706a-2399-4bd9-90a2-ffb2c8216c66\")) {                    Plotly.newPlot(                        \"ffaa706a-2399-4bd9-90a2-ffb2c8216c66\",                        [{\"alignmentgroup\":\"True\",\"hovertemplate\":\"location=%{x}\\u003cbr\\u003ecclaim_id=%{y}\\u003cextra\\u003e\\u003c\\u002fextra\\u003e\",\"legendgroup\":\"\",\"marker\":{\"color\":\"#636efa\",\"pattern\":{\"shape\":\"\"}},\"name\":\"\",\"offsetgroup\":\"\",\"orientation\":\"v\",\"showlegend\":false,\"textposition\":\"auto\",\"x\":[\"NATAL\",\"FORTALEZA\",\"SAO LUIS\",\"RECIFE\"],\"xaxis\":\"x\",\"y\":[287,311,517,885],\"yaxis\":\"y\",\"type\":\"bar\"}],                        {\"template\":{\"data\":{\"histogram2dcontour\":[{\"type\":\"histogram2dcontour\",\"colorbar\":{\"outlinewidth\":0,\"ticks\":\"\"},\"colorscale\":[[0.0,\"#0d0887\"],[0.1111111111111111,\"#46039f\"],[0.2222222222222222,\"#7201a8\"],[0.3333333333333333,\"#9c179e\"],[0.4444444444444444,\"#bd3786\"],[0.5555555555555556,\"#d8576b\"],[0.6666666666666666,\"#ed7953\"],[0.7777777777777778,\"#fb9f3a\"],[0.8888888888888888,\"#fdca26\"],[1.0,\"#f0f921\"]]}],\"choropleth\":[{\"type\":\"choropleth\",\"colorbar\":{\"outlinewidth\":0,\"ticks\":\"\"}}],\"histogram2d\":[{\"type\":\"histogram2d\",\"colorbar\":{\"outlinewidth\":0,\"ticks\":\"\"},\"colorscale\":[[0.0,\"#0d0887\"],[0.1111111111111111,\"#46039f\"],[0.2222222222222222,\"#7201a8\"],[0.3333333333333333,\"#9c179e\"],[0.4444444444444444,\"#bd3786\"],[0.5555555555555556,\"#d8576b\"],[0.6666666666666666,\"#ed7953\"],[0.7777777777777778,\"#fb9f3a\"],[0.8888888888888888,\"#fdca26\"],[1.0,\"#f0f921\"]]}],\"heatmap\":[{\"type\":\"heatmap\",\"colorbar\":{\"outlinewidth\":0,\"ticks\":\"\"},\"colorscale\":[[0.0,\"#0d0887\"],[0.1111111111111111,\"#46039f\"],[0.2222222222222222,\"#7201a8\"],[0.3333333333333333,\"#9c179e\"],[0.4444444444444444,\"#bd3786\"],[0.5555555555555556,\"#d8576b\"],[0.6666666666666666,\"#ed7953\"],[0.7777777777777778,\"#fb9f3a\"],[0.8888888888888888,\"#fdca26\"],[1.0,\"#f0f921\"]]}],\"heatmapgl\":[{\"type\":\"heatmapgl\",\"colorbar\":{\"outlinewidth\":0,\"ticks\":\"\"},\"colorscale\":[[0.0,\"#0d0887\"],[0.1111111111111111,\"#46039f\"],[0.2222222222222222,\"#7201a8\"],[0.3333333333333333,\"#9c179e\"],[0.4444444444444444,\"#bd3786\"],[0.5555555555555556,\"#d8576b\"],[0.6666666666666666,\"#ed7953\"],[0.7777777777777778,\"#fb9f3a\"],[0.8888888888888888,\"#fdca26\"],[1.0,\"#f0f921\"]]}],\"contourcarpet\":[{\"type\":\"contourcarpet\",\"colorbar\":{\"outlinewidth\":0,\"ticks\":\"\"}}],\"contour\":[{\"type\":\"contour\",\"colorbar\":{\"outlinewidth\":0,\"ticks\":\"\"},\"colorscale\":[[0.0,\"#0d0887\"],[0.1111111111111111,\"#46039f\"],[0.2222222222222222,\"#7201a8\"],[0.3333333333333333,\"#9c179e\"],[0.4444444444444444,\"#bd3786\"],[0.5555555555555556,\"#d8576b\"],[0.6666666666666666,\"#ed7953\"],[0.7777777777777778,\"#fb9f3a\"],[0.8888888888888888,\"#fdca26\"],[1.0,\"#f0f921\"]]}],\"surface\":[{\"type\":\"surface\",\"colorbar\":{\"outlinewidth\":0,\"ticks\":\"\"},\"colorscale\":[[0.0,\"#0d0887\"],[0.1111111111111111,\"#46039f\"],[0.2222222222222222,\"#7201a8\"],[0.3333333333333333,\"#9c179e\"],[0.4444444444444444,\"#bd3786\"],[0.5555555555555556,\"#d8576b\"],[0.6666666666666666,\"#ed7953\"],[0.7777777777777778,\"#fb9f3a\"],[0.8888888888888888,\"#fdca26\"],[1.0,\"#f0f921\"]]}],\"mesh3d\":[{\"type\":\"mesh3d\",\"colorbar\":{\"outlinewidth\":0,\"ticks\":\"\"}}],\"scatter\":[{\"fillpattern\":{\"fillmode\":\"overlay\",\"size\":10,\"solidity\":0.2},\"type\":\"scatter\"}],\"parcoords\":[{\"type\":\"parcoords\",\"line\":{\"colorbar\":{\"outlinewidth\":0,\"ticks\":\"\"}}}],\"scatterpolargl\":[{\"type\":\"scatterpolargl\",\"marker\":{\"colorbar\":{\"outlinewidth\":0,\"ticks\":\"\"}}}],\"bar\":[{\"error_x\":{\"color\":\"#2a3f5f\"},\"error_y\":{\"color\":\"#2a3f5f\"},\"marker\":{\"line\":{\"color\":\"#E5ECF6\",\"width\":0.5},\"pattern\":{\"fillmode\":\"overlay\",\"size\":10,\"solidity\":0.2}},\"type\":\"bar\"}],\"scattergeo\":[{\"type\":\"scattergeo\",\"marker\":{\"colorbar\":{\"outlinewidth\":0,\"ticks\":\"\"}}}],\"scatterpolar\":[{\"type\":\"scatterpolar\",\"marker\":{\"colorbar\":{\"outlinewidth\":0,\"ticks\":\"\"}}}],\"histogram\":[{\"marker\":{\"pattern\":{\"fillmode\":\"overlay\",\"size\":10,\"solidity\":0.2}},\"type\":\"histogram\"}],\"scattergl\":[{\"type\":\"scattergl\",\"marker\":{\"colorbar\":{\"outlinewidth\":0,\"ticks\":\"\"}}}],\"scatter3d\":[{\"type\":\"scatter3d\",\"line\":{\"colorbar\":{\"outlinewidth\":0,\"ticks\":\"\"}},\"marker\":{\"colorbar\":{\"outlinewidth\":0,\"ticks\":\"\"}}}],\"scattermapbox\":[{\"type\":\"scattermapbox\",\"marker\":{\"colorbar\":{\"outlinewidth\":0,\"ticks\":\"\"}}}],\"scatterternary\":[{\"type\":\"scatterternary\",\"marker\":{\"colorbar\":{\"outlinewidth\":0,\"ticks\":\"\"}}}],\"scattercarpet\":[{\"type\":\"scattercarpet\",\"marker\":{\"colorbar\":{\"outlinewidth\":0,\"ticks\":\"\"}}}],\"carpet\":[{\"aaxis\":{\"endlinecolor\":\"#2a3f5f\",\"gridcolor\":\"white\",\"linecolor\":\"white\",\"minorgridcolor\":\"white\",\"startlinecolor\":\"#2a3f5f\"},\"baxis\":{\"endlinecolor\":\"#2a3f5f\",\"gridcolor\":\"white\",\"linecolor\":\"white\",\"minorgridcolor\":\"white\",\"startlinecolor\":\"#2a3f5f\"},\"type\":\"carpet\"}],\"table\":[{\"cells\":{\"fill\":{\"color\":\"#EBF0F8\"},\"line\":{\"color\":\"white\"}},\"header\":{\"fill\":{\"color\":\"#C8D4E3\"},\"line\":{\"color\":\"white\"}},\"type\":\"table\"}],\"barpolar\":[{\"marker\":{\"line\":{\"color\":\"#E5ECF6\",\"width\":0.5},\"pattern\":{\"fillmode\":\"overlay\",\"size\":10,\"solidity\":0.2}},\"type\":\"barpolar\"}],\"pie\":[{\"automargin\":true,\"type\":\"pie\"}]},\"layout\":{\"autotypenumbers\":\"strict\",\"colorway\":[\"#636efa\",\"#EF553B\",\"#00cc96\",\"#ab63fa\",\"#FFA15A\",\"#19d3f3\",\"#FF6692\",\"#B6E880\",\"#FF97FF\",\"#FECB52\"],\"font\":{\"color\":\"#2a3f5f\"},\"hovermode\":\"closest\",\"hoverlabel\":{\"align\":\"left\"},\"paper_bgcolor\":\"white\",\"plot_bgcolor\":\"#E5ECF6\",\"polar\":{\"bgcolor\":\"#E5ECF6\",\"angularaxis\":{\"gridcolor\":\"white\",\"linecolor\":\"white\",\"ticks\":\"\"},\"radialaxis\":{\"gridcolor\":\"white\",\"linecolor\":\"white\",\"ticks\":\"\"}},\"ternary\":{\"bgcolor\":\"#E5ECF6\",\"aaxis\":{\"gridcolor\":\"white\",\"linecolor\":\"white\",\"ticks\":\"\"},\"baxis\":{\"gridcolor\":\"white\",\"linecolor\":\"white\",\"ticks\":\"\"},\"caxis\":{\"gridcolor\":\"white\",\"linecolor\":\"white\",\"ticks\":\"\"}},\"coloraxis\":{\"colorbar\":{\"outlinewidth\":0,\"ticks\":\"\"}},\"colorscale\":{\"sequential\":[[0.0,\"#0d0887\"],[0.1111111111111111,\"#46039f\"],[0.2222222222222222,\"#7201a8\"],[0.3333333333333333,\"#9c179e\"],[0.4444444444444444,\"#bd3786\"],[0.5555555555555556,\"#d8576b\"],[0.6666666666666666,\"#ed7953\"],[0.7777777777777778,\"#fb9f3a\"],[0.8888888888888888,\"#fdca26\"],[1.0,\"#f0f921\"]],\"sequentialminus\":[[0.0,\"#0d0887\"],[0.1111111111111111,\"#46039f\"],[0.2222222222222222,\"#7201a8\"],[0.3333333333333333,\"#9c179e\"],[0.4444444444444444,\"#bd3786\"],[0.5555555555555556,\"#d8576b\"],[0.6666666666666666,\"#ed7953\"],[0.7777777777777778,\"#fb9f3a\"],[0.8888888888888888,\"#fdca26\"],[1.0,\"#f0f921\"]],\"diverging\":[[0,\"#8e0152\"],[0.1,\"#c51b7d\"],[0.2,\"#de77ae\"],[0.3,\"#f1b6da\"],[0.4,\"#fde0ef\"],[0.5,\"#f7f7f7\"],[0.6,\"#e6f5d0\"],[0.7,\"#b8e186\"],[0.8,\"#7fbc41\"],[0.9,\"#4d9221\"],[1,\"#276419\"]]},\"xaxis\":{\"gridcolor\":\"white\",\"linecolor\":\"white\",\"ticks\":\"\",\"title\":{\"standoff\":15},\"zerolinecolor\":\"white\",\"automargin\":true,\"zerolinewidth\":2},\"yaxis\":{\"gridcolor\":\"white\",\"linecolor\":\"white\",\"ticks\":\"\",\"title\":{\"standoff\":15},\"zerolinecolor\":\"white\",\"automargin\":true,\"zerolinewidth\":2},\"scene\":{\"xaxis\":{\"backgroundcolor\":\"#E5ECF6\",\"gridcolor\":\"white\",\"linecolor\":\"white\",\"showbackground\":true,\"ticks\":\"\",\"zerolinecolor\":\"white\",\"gridwidth\":2},\"yaxis\":{\"backgroundcolor\":\"#E5ECF6\",\"gridcolor\":\"white\",\"linecolor\":\"white\",\"showbackground\":true,\"ticks\":\"\",\"zerolinecolor\":\"white\",\"gridwidth\":2},\"zaxis\":{\"backgroundcolor\":\"#E5ECF6\",\"gridcolor\":\"white\",\"linecolor\":\"white\",\"showbackground\":true,\"ticks\":\"\",\"zerolinecolor\":\"white\",\"gridwidth\":2}},\"shapedefaults\":{\"line\":{\"color\":\"#2a3f5f\"}},\"annotationdefaults\":{\"arrowcolor\":\"#2a3f5f\",\"arrowhead\":0,\"arrowwidth\":1},\"geo\":{\"bgcolor\":\"white\",\"landcolor\":\"#E5ECF6\",\"subunitcolor\":\"white\",\"showland\":true,\"showlakes\":true,\"lakecolor\":\"white\"},\"title\":{\"x\":0.05},\"mapbox\":{\"style\":\"light\"}}},\"xaxis\":{\"anchor\":\"y\",\"domain\":[0.0,1.0],\"title\":{\"text\":\"Location\"}},\"yaxis\":{\"anchor\":\"x\",\"domain\":[0.0,1.0],\"title\":{\"text\":\"Claim ID\"}},\"legend\":{\"tracegroupgap\":0},\"title\":{\"text\":\"Distribution of Claim ID per Location\"},\"barmode\":\"relative\"},                        {\"responsive\": true}                    ).then(function(){\n",
              "                            \n",
              "var gd = document.getElementById('ffaa706a-2399-4bd9-90a2-ffb2c8216c66');\n",
              "var x = new MutationObserver(function (mutations, observer) {{\n",
              "        var display = window.getComputedStyle(gd).display;\n",
              "        if (!display || display === 'none') {{\n",
              "            console.log([gd, 'removed!']);\n",
              "            Plotly.purge(gd);\n",
              "            observer.disconnect();\n",
              "        }}\n",
              "}});\n",
              "\n",
              "// Listen for the removal of the full notebook cells\n",
              "var notebookContainer = gd.closest('#notebook-container');\n",
              "if (notebookContainer) {{\n",
              "    x.observe(notebookContainer, {childList: true});\n",
              "}}\n",
              "\n",
              "// Listen for the clearing of the current output cell\n",
              "var outputEl = gd.closest('.output');\n",
              "if (outputEl) {{\n",
              "    x.observe(outputEl, {childList: true});\n",
              "}}\n",
              "\n",
              "                        })                };                            </script>        </div>\n",
              "</body>\n",
              "</html>"
            ]
          },
          "metadata": {}
        }
      ],
      "source": [
        "#Create data\n",
        "query = \"\"\" SELECT COUNT(claim_id) AS cclaim_id, location\n",
        "            FROM food_claims\n",
        "            GROUP BY location\n",
        "            ORDER BY cclaim_id;\n",
        "\"\"\"\n",
        "bar_chart = pd.read_sql(query, conn)\n",
        "\n",
        "#Create a bar chart\n",
        "fig = px.bar(bar_chart, x='location', y='cclaim_id', title='Distribution of Claim ID per Location')\n",
        "\n",
        "#Set new labels for the x-axis and y-axis directly\n",
        "fig.update_xaxes(title_text='Location')\n",
        "fig.update_yaxes(title_text='Claim ID')\n",
        "\n",
        "#Show the chart\n",
        "fig.show()"
      ]
    },
    {
      "cell_type": "markdown",
      "id": "31356db2",
      "metadata": {
        "papermill": {
          "duration": 0.009993,
          "end_time": "2023-10-03T02:53:00.084004",
          "exception": false,
          "start_time": "2023-10-03T02:53:00.074011",
          "status": "completed"
        },
        "tags": [],
        "id": "31356db2"
      },
      "source": [
        "The office located in Recife receives the highest number of claims from customers (885 claims), followed by Sao Luis (517 claims), then Fortaleza (311 claims) and lastly Natal (287 claims). The disparity between the highest (in Recife) and the lowest (in Natal) is approximately three times greater."
      ]
    },
    {
      "cell_type": "markdown",
      "id": "a10ff45c",
      "metadata": {
        "id": "a10ff45c",
        "papermill": {
          "duration": 0.01039,
          "end_time": "2023-10-03T02:53:00.105088",
          "exception": false,
          "start_time": "2023-10-03T02:53:00.094698",
          "status": "completed"
        },
        "tags": []
      },
      "source": [
        "# TASK 3: Distribution of time to close for all claims"
      ]
    },
    {
      "cell_type": "code",
      "execution_count": 18,
      "id": "67c926b7",
      "metadata": {
        "execution": {
          "iopub.execute_input": "2023-10-03T02:53:00.128819Z",
          "iopub.status.busy": "2023-10-03T02:53:00.127662Z",
          "iopub.status.idle": "2023-10-03T02:53:00.139799Z",
          "shell.execute_reply": "2023-10-03T02:53:00.138649Z"
        },
        "id": "67c926b7",
        "outputId": "74d9af52-aacc-4b3a-bfdb-d08c87bf758d",
        "papermill": {
          "duration": 0.02718,
          "end_time": "2023-10-03T02:53:00.143002",
          "exception": false,
          "start_time": "2023-10-03T02:53:00.115822",
          "status": "completed"
        },
        "tags": [],
        "colab": {
          "base_uri": "https://localhost:8080/"
        }
      },
      "outputs": [
        {
          "output_type": "execute_result",
          "data": {
            "text/plain": [
              "count    2000.00000\n",
              "mean      185.56800\n",
              "std        49.16339\n",
              "min        76.00000\n",
              "25%       158.00000\n",
              "50%       179.00000\n",
              "75%       204.00000\n",
              "max       518.00000\n",
              "Name: time_to_close, dtype: float64"
            ]
          },
          "metadata": {},
          "execution_count": 18
        }
      ],
      "source": [
        "#Describe data in the column \"time_to_close\"\n",
        "df[\"time_to_close\"].describe()"
      ]
    },
    {
      "cell_type": "code",
      "execution_count": 19,
      "id": "8244a1cd",
      "metadata": {
        "_kg_hide-input": true,
        "execution": {
          "iopub.execute_input": "2023-10-03T02:53:00.170609Z",
          "iopub.status.busy": "2023-10-03T02:53:00.169323Z",
          "iopub.status.idle": "2023-10-03T02:53:00.278362Z",
          "shell.execute_reply": "2023-10-03T02:53:00.276907Z"
        },
        "id": "8244a1cd",
        "outputId": "ee741641-cfae-4079-a6b7-79aee5eb5a90",
        "papermill": {
          "duration": 0.12565,
          "end_time": "2023-10-03T02:53:00.281546",
          "exception": false,
          "start_time": "2023-10-03T02:53:00.155896",
          "status": "completed"
        },
        "tags": [],
        "colab": {
          "base_uri": "https://localhost:8080/",
          "height": 542
        }
      },
      "outputs": [
        {
          "output_type": "display_data",
          "data": {
            "text/html": [
              "<html>\n",
              "<head><meta charset=\"utf-8\" /></head>\n",
              "<body>\n",
              "    <div>            <script src=\"https://cdnjs.cloudflare.com/ajax/libs/mathjax/2.7.5/MathJax.js?config=TeX-AMS-MML_SVG\"></script><script type=\"text/javascript\">if (window.MathJax && window.MathJax.Hub && window.MathJax.Hub.Config) {window.MathJax.Hub.Config({SVG: {font: \"STIX-Web\"}});}</script>                <script type=\"text/javascript\">window.PlotlyConfig = {MathJaxConfig: 'local'};</script>\n",
              "        <script charset=\"utf-8\" src=\"https://cdn.plot.ly/plotly-2.24.1.min.js\"></script>                <div id=\"0fb6dab0-a20e-44d4-8fac-2aded7446b50\" class=\"plotly-graph-div\" style=\"height:525px; width:100%;\"></div>            <script type=\"text/javascript\">                                    window.PLOTLYENV=window.PLOTLYENV || {};                                    if (document.getElementById(\"0fb6dab0-a20e-44d4-8fac-2aded7446b50\")) {                    Plotly.newPlot(                        \"0fb6dab0-a20e-44d4-8fac-2aded7446b50\",                        [{\"alignmentgroup\":\"True\",\"bingroup\":\"x\",\"hovertemplate\":\"time_to_close=%{x}\\u003cbr\\u003ecount=%{y}\\u003cextra\\u003e\\u003c\\u002fextra\\u003e\",\"legendgroup\":\"\",\"marker\":{\"color\":\"#636efa\",\"pattern\":{\"shape\":\"\"}},\"name\":\"\",\"nbinsx\":10,\"offsetgroup\":\"\",\"orientation\":\"v\",\"showlegend\":false,\"x\":[317,195,183,186,138,183,190,183,149,149,180,208,175,223,265,235,229,189,195,204,129,167,119,190,177,170,148,173,184,177,172,237,184,262,136,181,161,161,146,243,233,125,166,189,178,175,111,184,195,168,301,192,250,185,140,248,196,196,172,189,190,192,168,130,179,290,215,182,181,159,105,188,109,267,142,276,293,226,185,187,153,185,180,132,157,187,181,144,149,181,187,200,172,199,142,156,138,165,208,273,148,120,178,247,280,238,192,134,148,195,176,184,359,186,160,188,355,148,172,297,245,126,179,188,226,157,175,185,127,108,218,229,167,248,238,179,167,144,118,102,143,172,175,133,186,178,227,168,182,214,175,176,165,149,190,358,163,234,115,173,139,171,159,204,173,210,180,144,158,139,192,240,145,322,195,161,186,177,183,175,158,167,180,228,155,182,124,237,166,118,227,162,119,207,256,109,174,194,171,134,175,131,212,246,165,169,230,210,163,217,169,168,182,262,292,345,179,219,177,174,180,225,229,181,207,190,171,164,177,152,130,180,203,170,146,184,213,137,203,197,261,138,224,143,206,182,159,171,193,141,137,159,179,267,149,164,325,235,220,146,184,171,293,193,182,140,181,188,178,244,169,131,273,171,171,318,173,135,132,228,166,196,277,254,219,168,84,191,212,219,104,192,185,176,187,121,259,197,184,178,146,171,159,190,182,202,168,245,341,164,198,169,243,192,206,181,199,133,177,166,175,168,162,207,139,229,231,174,164,187,231,262,232,134,180,172,119,180,186,211,180,178,160,162,143,148,275,182,177,143,183,110,142,166,167,160,76,187,198,240,222,231,180,178,168,181,173,190,171,176,194,190,167,257,113,179,173,499,274,216,270,152,186,129,173,275,205,173,102,221,299,203,210,260,272,179,208,152,175,151,98,168,167,290,233,178,326,367,155,131,131,172,169,352,193,139,294,181,223,177,158,133,95,158,176,196,176,144,169,170,176,182,212,199,149,160,153,173,182,229,141,360,118,191,182,176,134,186,174,155,220,145,225,370,233,153,172,158,202,205,185,180,174,160,142,169,121,166,123,453,190,193,327,133,185,180,146,174,190,165,185,156,168,232,174,164,224,279,275,214,192,249,169,183,117,183,141,176,187,241,141,155,145,159,215,140,158,156,261,172,183,121,135,307,155,180,160,179,113,126,327,167,171,138,220,153,277,229,231,170,170,146,164,187,218,199,384,178,174,118,166,136,188,147,136,163,419,174,160,162,166,182,221,167,196,189,276,174,149,257,232,111,260,142,153,189,127,184,180,187,310,209,285,179,175,169,138,155,186,184,316,198,178,237,106,286,178,241,109,98,179,235,212,177,122,234,181,218,132,253,127,125,140,122,149,184,184,176,166,125,212,169,197,116,235,136,268,238,190,248,119,142,192,144,213,320,175,161,107,139,168,123,203,101,318,213,201,190,176,101,204,223,178,268,281,205,181,139,244,144,184,209,127,313,182,174,151,215,150,228,271,131,240,197,170,159,175,284,159,251,186,106,182,221,162,190,183,174,243,182,191,145,149,161,158,169,132,295,227,177,256,159,180,95,154,182,160,166,180,165,158,181,93,175,108,179,329,148,181,222,291,274,185,177,151,182,138,178,161,172,287,177,152,184,182,136,150,172,190,268,223,137,244,208,159,168,133,171,163,187,186,122,137,141,183,191,200,222,182,245,132,193,145,186,169,194,181,187,178,237,158,159,181,294,211,135,126,175,162,173,190,141,185,129,117,166,192,255,161,177,227,157,406,105,193,179,198,227,156,178,181,263,215,175,117,205,185,197,190,113,203,238,195,350,181,176,243,136,178,130,142,180,164,200,102,116,160,226,194,176,193,166,221,100,135,168,518,111,246,184,182,190,185,197,183,187,147,173,145,93,229,141,186,168,90,189,181,173,195,179,117,129,178,126,190,123,150,176,106,191,165,264,178,300,165,281,150,229,180,199,146,183,191,180,183,244,155,203,175,189,171,176,143,125,119,127,182,152,116,162,259,143,164,186,185,271,237,166,249,185,188,165,181,299,127,165,191,193,290,158,180,204,143,234,228,185,306,268,250,176,318,225,167,154,182,246,232,142,227,187,177,210,170,164,170,113,151,225,174,199,148,263,169,152,122,156,173,96,241,176,173,206,113,163,222,172,134,242,164,172,196,97,146,187,165,233,141,200,195,170,172,184,136,191,132,139,167,133,150,118,191,242,171,180,230,216,184,205,168,166,174,179,180,237,181,186,176,326,123,180,144,178,174,139,173,175,224,183,238,191,280,164,159,253,156,264,167,207,137,235,113,92,128,182,187,149,182,119,201,203,264,135,245,260,180,183,282,153,304,246,212,132,197,206,195,157,249,91,238,206,172,157,174,133,254,180,188,175,98,131,114,171,193,219,112,223,176,163,180,161,174,165,163,238,209,191,172,125,170,187,244,275,186,175,284,260,135,173,178,300,176,102,191,182,216,181,244,210,168,129,159,186,204,338,212,132,178,158,215,183,172,180,219,154,131,130,169,322,147,201,210,178,195,190,300,168,115,175,179,253,155,190,132,203,240,224,173,111,161,176,203,177,253,300,188,173,131,243,181,170,153,150,135,230,166,192,177,283,135,198,203,220,225,183,227,261,253,157,144,174,192,180,172,140,176,283,268,212,144,193,221,186,196,396,222,177,209,197,114,196,122,243,170,189,185,177,100,185,111,174,174,240,163,168,155,207,187,212,204,193,200,152,226,151,194,187,235,178,238,202,174,189,188,236,174,106,229,139,232,168,253,195,205,164,200,133,194,124,126,184,170,225,155,172,181,141,208,203,161,178,164,209,166,169,162,166,250,150,278,214,176,172,246,166,173,107,176,188,179,153,111,171,179,141,173,111,136,176,140,255,204,175,239,185,232,166,123,139,148,196,262,180,180,141,108,140,105,87,178,199,216,136,235,185,197,178,175,186,175,187,179,129,169,146,190,182,224,175,292,223,220,214,184,214,193,298,252,164,215,292,188,186,148,195,185,176,152,230,208,122,157,427,151,117,192,178,133,200,164,141,139,124,262,181,237,166,248,203,129,242,248,162,199,161,176,145,169,184,280,147,167,109,216,169,119,172,167,173,122,188,196,277,175,208,133,167,163,328,266,201,226,213,175,149,176,302,134,157,190,124,147,185,179,177,232,189,147,198,204,237,172,228,286,145,283,259,263,361,265,146,258,173,168,180,117,157,175,178,183,148,167,281,276,185,193,100,172,172,140,170,172,179,176,193,230,170,154,220,219,106,178,150,228,173,185,169,340,211,255,177,202,179,183,229,115,157,175,112,168,104,152,159,185,164,209,135,177,203,190,184,191,226,195,181,217,190,152,189,152,128,226,177,182,178,173,124,111,170,164,179,166,189,134,201,229,124,194,195,176,171,175,184,126,156,180,189,211,199,134,176,326,178,220,224,264,203,174,166,224,176,254,130,260,143,113,163,116,121,136,168,229,200,167,146,134,174,229,175,220,142,199,227,261,155,109,159,179,173,195,185,189,142,103,136,100,129,180,110,101,232,188,182,118,168,178,140,109,252,170,271,139,151,221,176,165,158,179,190,224,173,164,134,195,162,300,186,176,119,182,184,187,170,187,180,169,180,175,185,182,178,172,140,154,174,235,174,143,283,163,158,156,191,168,192,148,179,200,214,355,176,197,174,160,134,184,172,186,174,172,241,164,180,100,295,244,194,247,205,379,186,240,119,102,174,293,307,263,170,204,158,172,200,141,168,193,179,173,174,169,187,206,215,224,186,193,175,216,178,192,232,163,109,179,169,192,244,173,177,114,220,188,137,218,182,156,237,180,231,141,248,168,247,171,130,181,184,167,187,118,166,300,137,170,126,108,287,215,120,203,201,173,102,154,318,155,120,166,183,178,249,180,220,154,258,187,214,150,334,219,150,151,180,213,199,176,194,169,82,149,304,180,99,158,198,159,167,210,109,95,89,147,191,222,250,257,201,166,177,158,253,168,222,190,120,213,198,232,99,179,205,154,364,152,181,176,145,194,171,202,189,193,178,163,215,182,166,156,138,133,189,266,157,199,202,254,119,195,182,178,260,123,181,171,156,119,173,127,172,161,159,197,181,157,94,125,101,100,169,161,224,176,200,181,172,247,101,153,125,168,176,308,218,170,246,197,180,136,242,147,123,190,164,187,261,88,235,184,123,157,225,211,287,178,261,128,204,177,172,184,233,206,170,139,192,137,210,230,172,162,181,172,228,278,236,258,153,128,184,155,156,96,167,201,196,134,191,176,172,218,176,212,139,123,133,254,169,125,259,175,236,201,187,299,114,179,269,193,290,140,209,180,174,221,180,130,182,219,187,180,126,177,238,207,197,182,154,193,192,257,136,120,176,183,170,245,228,127,178,188,118,190,185,176,153,175,156,152,132,175,175,182,169,191,166,202,151,124,170,181,151,143,183,302,139,170,176,84,166,217,285,140,179,217,253,146,183,129,172,247,116,195,177,132,202,143,176,166,179,162,150],\"xaxis\":\"x\",\"yaxis\":\"y\",\"type\":\"histogram\"}],                        {\"template\":{\"data\":{\"histogram2dcontour\":[{\"type\":\"histogram2dcontour\",\"colorbar\":{\"outlinewidth\":0,\"ticks\":\"\"},\"colorscale\":[[0.0,\"#0d0887\"],[0.1111111111111111,\"#46039f\"],[0.2222222222222222,\"#7201a8\"],[0.3333333333333333,\"#9c179e\"],[0.4444444444444444,\"#bd3786\"],[0.5555555555555556,\"#d8576b\"],[0.6666666666666666,\"#ed7953\"],[0.7777777777777778,\"#fb9f3a\"],[0.8888888888888888,\"#fdca26\"],[1.0,\"#f0f921\"]]}],\"choropleth\":[{\"type\":\"choropleth\",\"colorbar\":{\"outlinewidth\":0,\"ticks\":\"\"}}],\"histogram2d\":[{\"type\":\"histogram2d\",\"colorbar\":{\"outlinewidth\":0,\"ticks\":\"\"},\"colorscale\":[[0.0,\"#0d0887\"],[0.1111111111111111,\"#46039f\"],[0.2222222222222222,\"#7201a8\"],[0.3333333333333333,\"#9c179e\"],[0.4444444444444444,\"#bd3786\"],[0.5555555555555556,\"#d8576b\"],[0.6666666666666666,\"#ed7953\"],[0.7777777777777778,\"#fb9f3a\"],[0.8888888888888888,\"#fdca26\"],[1.0,\"#f0f921\"]]}],\"heatmap\":[{\"type\":\"heatmap\",\"colorbar\":{\"outlinewidth\":0,\"ticks\":\"\"},\"colorscale\":[[0.0,\"#0d0887\"],[0.1111111111111111,\"#46039f\"],[0.2222222222222222,\"#7201a8\"],[0.3333333333333333,\"#9c179e\"],[0.4444444444444444,\"#bd3786\"],[0.5555555555555556,\"#d8576b\"],[0.6666666666666666,\"#ed7953\"],[0.7777777777777778,\"#fb9f3a\"],[0.8888888888888888,\"#fdca26\"],[1.0,\"#f0f921\"]]}],\"heatmapgl\":[{\"type\":\"heatmapgl\",\"colorbar\":{\"outlinewidth\":0,\"ticks\":\"\"},\"colorscale\":[[0.0,\"#0d0887\"],[0.1111111111111111,\"#46039f\"],[0.2222222222222222,\"#7201a8\"],[0.3333333333333333,\"#9c179e\"],[0.4444444444444444,\"#bd3786\"],[0.5555555555555556,\"#d8576b\"],[0.6666666666666666,\"#ed7953\"],[0.7777777777777778,\"#fb9f3a\"],[0.8888888888888888,\"#fdca26\"],[1.0,\"#f0f921\"]]}],\"contourcarpet\":[{\"type\":\"contourcarpet\",\"colorbar\":{\"outlinewidth\":0,\"ticks\":\"\"}}],\"contour\":[{\"type\":\"contour\",\"colorbar\":{\"outlinewidth\":0,\"ticks\":\"\"},\"colorscale\":[[0.0,\"#0d0887\"],[0.1111111111111111,\"#46039f\"],[0.2222222222222222,\"#7201a8\"],[0.3333333333333333,\"#9c179e\"],[0.4444444444444444,\"#bd3786\"],[0.5555555555555556,\"#d8576b\"],[0.6666666666666666,\"#ed7953\"],[0.7777777777777778,\"#fb9f3a\"],[0.8888888888888888,\"#fdca26\"],[1.0,\"#f0f921\"]]}],\"surface\":[{\"type\":\"surface\",\"colorbar\":{\"outlinewidth\":0,\"ticks\":\"\"},\"colorscale\":[[0.0,\"#0d0887\"],[0.1111111111111111,\"#46039f\"],[0.2222222222222222,\"#7201a8\"],[0.3333333333333333,\"#9c179e\"],[0.4444444444444444,\"#bd3786\"],[0.5555555555555556,\"#d8576b\"],[0.6666666666666666,\"#ed7953\"],[0.7777777777777778,\"#fb9f3a\"],[0.8888888888888888,\"#fdca26\"],[1.0,\"#f0f921\"]]}],\"mesh3d\":[{\"type\":\"mesh3d\",\"colorbar\":{\"outlinewidth\":0,\"ticks\":\"\"}}],\"scatter\":[{\"fillpattern\":{\"fillmode\":\"overlay\",\"size\":10,\"solidity\":0.2},\"type\":\"scatter\"}],\"parcoords\":[{\"type\":\"parcoords\",\"line\":{\"colorbar\":{\"outlinewidth\":0,\"ticks\":\"\"}}}],\"scatterpolargl\":[{\"type\":\"scatterpolargl\",\"marker\":{\"colorbar\":{\"outlinewidth\":0,\"ticks\":\"\"}}}],\"bar\":[{\"error_x\":{\"color\":\"#2a3f5f\"},\"error_y\":{\"color\":\"#2a3f5f\"},\"marker\":{\"line\":{\"color\":\"#E5ECF6\",\"width\":0.5},\"pattern\":{\"fillmode\":\"overlay\",\"size\":10,\"solidity\":0.2}},\"type\":\"bar\"}],\"scattergeo\":[{\"type\":\"scattergeo\",\"marker\":{\"colorbar\":{\"outlinewidth\":0,\"ticks\":\"\"}}}],\"scatterpolar\":[{\"type\":\"scatterpolar\",\"marker\":{\"colorbar\":{\"outlinewidth\":0,\"ticks\":\"\"}}}],\"histogram\":[{\"marker\":{\"pattern\":{\"fillmode\":\"overlay\",\"size\":10,\"solidity\":0.2}},\"type\":\"histogram\"}],\"scattergl\":[{\"type\":\"scattergl\",\"marker\":{\"colorbar\":{\"outlinewidth\":0,\"ticks\":\"\"}}}],\"scatter3d\":[{\"type\":\"scatter3d\",\"line\":{\"colorbar\":{\"outlinewidth\":0,\"ticks\":\"\"}},\"marker\":{\"colorbar\":{\"outlinewidth\":0,\"ticks\":\"\"}}}],\"scattermapbox\":[{\"type\":\"scattermapbox\",\"marker\":{\"colorbar\":{\"outlinewidth\":0,\"ticks\":\"\"}}}],\"scatterternary\":[{\"type\":\"scatterternary\",\"marker\":{\"colorbar\":{\"outlinewidth\":0,\"ticks\":\"\"}}}],\"scattercarpet\":[{\"type\":\"scattercarpet\",\"marker\":{\"colorbar\":{\"outlinewidth\":0,\"ticks\":\"\"}}}],\"carpet\":[{\"aaxis\":{\"endlinecolor\":\"#2a3f5f\",\"gridcolor\":\"white\",\"linecolor\":\"white\",\"minorgridcolor\":\"white\",\"startlinecolor\":\"#2a3f5f\"},\"baxis\":{\"endlinecolor\":\"#2a3f5f\",\"gridcolor\":\"white\",\"linecolor\":\"white\",\"minorgridcolor\":\"white\",\"startlinecolor\":\"#2a3f5f\"},\"type\":\"carpet\"}],\"table\":[{\"cells\":{\"fill\":{\"color\":\"#EBF0F8\"},\"line\":{\"color\":\"white\"}},\"header\":{\"fill\":{\"color\":\"#C8D4E3\"},\"line\":{\"color\":\"white\"}},\"type\":\"table\"}],\"barpolar\":[{\"marker\":{\"line\":{\"color\":\"#E5ECF6\",\"width\":0.5},\"pattern\":{\"fillmode\":\"overlay\",\"size\":10,\"solidity\":0.2}},\"type\":\"barpolar\"}],\"pie\":[{\"automargin\":true,\"type\":\"pie\"}]},\"layout\":{\"autotypenumbers\":\"strict\",\"colorway\":[\"#636efa\",\"#EF553B\",\"#00cc96\",\"#ab63fa\",\"#FFA15A\",\"#19d3f3\",\"#FF6692\",\"#B6E880\",\"#FF97FF\",\"#FECB52\"],\"font\":{\"color\":\"#2a3f5f\"},\"hovermode\":\"closest\",\"hoverlabel\":{\"align\":\"left\"},\"paper_bgcolor\":\"white\",\"plot_bgcolor\":\"#E5ECF6\",\"polar\":{\"bgcolor\":\"#E5ECF6\",\"angularaxis\":{\"gridcolor\":\"white\",\"linecolor\":\"white\",\"ticks\":\"\"},\"radialaxis\":{\"gridcolor\":\"white\",\"linecolor\":\"white\",\"ticks\":\"\"}},\"ternary\":{\"bgcolor\":\"#E5ECF6\",\"aaxis\":{\"gridcolor\":\"white\",\"linecolor\":\"white\",\"ticks\":\"\"},\"baxis\":{\"gridcolor\":\"white\",\"linecolor\":\"white\",\"ticks\":\"\"},\"caxis\":{\"gridcolor\":\"white\",\"linecolor\":\"white\",\"ticks\":\"\"}},\"coloraxis\":{\"colorbar\":{\"outlinewidth\":0,\"ticks\":\"\"}},\"colorscale\":{\"sequential\":[[0.0,\"#0d0887\"],[0.1111111111111111,\"#46039f\"],[0.2222222222222222,\"#7201a8\"],[0.3333333333333333,\"#9c179e\"],[0.4444444444444444,\"#bd3786\"],[0.5555555555555556,\"#d8576b\"],[0.6666666666666666,\"#ed7953\"],[0.7777777777777778,\"#fb9f3a\"],[0.8888888888888888,\"#fdca26\"],[1.0,\"#f0f921\"]],\"sequentialminus\":[[0.0,\"#0d0887\"],[0.1111111111111111,\"#46039f\"],[0.2222222222222222,\"#7201a8\"],[0.3333333333333333,\"#9c179e\"],[0.4444444444444444,\"#bd3786\"],[0.5555555555555556,\"#d8576b\"],[0.6666666666666666,\"#ed7953\"],[0.7777777777777778,\"#fb9f3a\"],[0.8888888888888888,\"#fdca26\"],[1.0,\"#f0f921\"]],\"diverging\":[[0,\"#8e0152\"],[0.1,\"#c51b7d\"],[0.2,\"#de77ae\"],[0.3,\"#f1b6da\"],[0.4,\"#fde0ef\"],[0.5,\"#f7f7f7\"],[0.6,\"#e6f5d0\"],[0.7,\"#b8e186\"],[0.8,\"#7fbc41\"],[0.9,\"#4d9221\"],[1,\"#276419\"]]},\"xaxis\":{\"gridcolor\":\"white\",\"linecolor\":\"white\",\"ticks\":\"\",\"title\":{\"standoff\":15},\"zerolinecolor\":\"white\",\"automargin\":true,\"zerolinewidth\":2},\"yaxis\":{\"gridcolor\":\"white\",\"linecolor\":\"white\",\"ticks\":\"\",\"title\":{\"standoff\":15},\"zerolinecolor\":\"white\",\"automargin\":true,\"zerolinewidth\":2},\"scene\":{\"xaxis\":{\"backgroundcolor\":\"#E5ECF6\",\"gridcolor\":\"white\",\"linecolor\":\"white\",\"showbackground\":true,\"ticks\":\"\",\"zerolinecolor\":\"white\",\"gridwidth\":2},\"yaxis\":{\"backgroundcolor\":\"#E5ECF6\",\"gridcolor\":\"white\",\"linecolor\":\"white\",\"showbackground\":true,\"ticks\":\"\",\"zerolinecolor\":\"white\",\"gridwidth\":2},\"zaxis\":{\"backgroundcolor\":\"#E5ECF6\",\"gridcolor\":\"white\",\"linecolor\":\"white\",\"showbackground\":true,\"ticks\":\"\",\"zerolinecolor\":\"white\",\"gridwidth\":2}},\"shapedefaults\":{\"line\":{\"color\":\"#2a3f5f\"}},\"annotationdefaults\":{\"arrowcolor\":\"#2a3f5f\",\"arrowhead\":0,\"arrowwidth\":1},\"geo\":{\"bgcolor\":\"white\",\"landcolor\":\"#E5ECF6\",\"subunitcolor\":\"white\",\"showland\":true,\"showlakes\":true,\"lakecolor\":\"white\"},\"title\":{\"x\":0.05},\"mapbox\":{\"style\":\"light\"}}},\"xaxis\":{\"anchor\":\"y\",\"domain\":[0.0,1.0],\"title\":{\"text\":\"Time to Close\"}},\"yaxis\":{\"anchor\":\"x\",\"domain\":[0.0,1.0],\"title\":{\"text\":\"Frequency\"}},\"legend\":{\"tracegroupgap\":0},\"title\":{\"text\":\"Distribution of Time to Close\"},\"barmode\":\"relative\"},                        {\"responsive\": true}                    ).then(function(){\n",
              "                            \n",
              "var gd = document.getElementById('0fb6dab0-a20e-44d4-8fac-2aded7446b50');\n",
              "var x = new MutationObserver(function (mutations, observer) {{\n",
              "        var display = window.getComputedStyle(gd).display;\n",
              "        if (!display || display === 'none') {{\n",
              "            console.log([gd, 'removed!']);\n",
              "            Plotly.purge(gd);\n",
              "            observer.disconnect();\n",
              "        }}\n",
              "}});\n",
              "\n",
              "// Listen for the removal of the full notebook cells\n",
              "var notebookContainer = gd.closest('#notebook-container');\n",
              "if (notebookContainer) {{\n",
              "    x.observe(notebookContainer, {childList: true});\n",
              "}}\n",
              "\n",
              "// Listen for the clearing of the current output cell\n",
              "var outputEl = gd.closest('.output');\n",
              "if (outputEl) {{\n",
              "    x.observe(outputEl, {childList: true});\n",
              "}}\n",
              "\n",
              "                        })                };                            </script>        </div>\n",
              "</body>\n",
              "</html>"
            ]
          },
          "metadata": {}
        }
      ],
      "source": [
        "#Create a histogram plot\n",
        "fig = px.histogram(df, x='time_to_close', nbins=10, title='Distribution of Time to Close')\n",
        "fig.update_xaxes(title='Time to Close')\n",
        "fig.update_yaxes(title='Frequency')\n",
        "fig.show()"
      ]
    },
    {
      "cell_type": "markdown",
      "id": "6d4256ae",
      "metadata": {
        "papermill": {
          "duration": 0.012149,
          "end_time": "2023-10-03T02:53:00.304914",
          "exception": false,
          "start_time": "2023-10-03T02:53:00.292765",
          "status": "completed"
        },
        "tags": [],
        "id": "6d4256ae"
      },
      "source": [
        "The average time taken for the legal team to close a claim is around 186 minutes. The quickest time to resolve a claim is 76 minutes, and the slowest takes 518 minutes which only happens in extreme cases. Most of the claims take 150-199 minutes to be finalised."
      ]
    },
    {
      "cell_type": "markdown",
      "id": "7d6eb417",
      "metadata": {
        "id": "7d6eb417",
        "papermill": {
          "duration": 0.011312,
          "end_time": "2023-10-03T02:53:00.328035",
          "exception": false,
          "start_time": "2023-10-03T02:53:00.316723",
          "status": "completed"
        },
        "tags": []
      },
      "source": [
        "#TASK 4: Relationship between time to close and location"
      ]
    },
    {
      "cell_type": "code",
      "execution_count": 20,
      "id": "2dc77880",
      "metadata": {
        "execution": {
          "iopub.execute_input": "2023-10-03T02:53:00.351908Z",
          "iopub.status.busy": "2023-10-03T02:53:00.350979Z",
          "iopub.status.idle": "2023-10-03T02:53:00.445417Z",
          "shell.execute_reply": "2023-10-03T02:53:00.444328Z"
        },
        "id": "2dc77880",
        "outputId": "0bd5e2e1-b39b-4518-f6f2-83e68a474b3e",
        "papermill": {
          "duration": 0.10914,
          "end_time": "2023-10-03T02:53:00.447970",
          "exception": false,
          "start_time": "2023-10-03T02:53:00.338830",
          "status": "completed"
        },
        "tags": [],
        "colab": {
          "base_uri": "https://localhost:8080/",
          "height": 542
        }
      },
      "outputs": [
        {
          "output_type": "display_data",
          "data": {
            "text/html": [
              "<html>\n",
              "<head><meta charset=\"utf-8\" /></head>\n",
              "<body>\n",
              "    <div>            <script src=\"https://cdnjs.cloudflare.com/ajax/libs/mathjax/2.7.5/MathJax.js?config=TeX-AMS-MML_SVG\"></script><script type=\"text/javascript\">if (window.MathJax && window.MathJax.Hub && window.MathJax.Hub.Config) {window.MathJax.Hub.Config({SVG: {font: \"STIX-Web\"}});}</script>                <script type=\"text/javascript\">window.PlotlyConfig = {MathJaxConfig: 'local'};</script>\n",
              "        <script charset=\"utf-8\" src=\"https://cdn.plot.ly/plotly-2.24.1.min.js\"></script>                <div id=\"b01f3b3e-30f5-4ed8-aa00-bf63319835a5\" class=\"plotly-graph-div\" style=\"height:525px; width:100%;\"></div>            <script type=\"text/javascript\">                                    window.PLOTLYENV=window.PLOTLYENV || {};                                    if (document.getElementById(\"b01f3b3e-30f5-4ed8-aa00-bf63319835a5\")) {                    Plotly.newPlot(                        \"b01f3b3e-30f5-4ed8-aa00-bf63319835a5\",                        [{\"alignmentgroup\":\"True\",\"hovertemplate\":\"location=%{x}\\u003cbr\\u003etime_to_close=%{y}\\u003cextra\\u003e\\u003c\\u002fextra\\u003e\",\"legendgroup\":\"\",\"marker\":{\"color\":\"#636efa\"},\"name\":\"\",\"notched\":false,\"offsetgroup\":\"\",\"orientation\":\"v\",\"showlegend\":false,\"x\":[\"RECIFE\",\"FORTALEZA\",\"SAO LUIS\",\"FORTALEZA\",\"RECIFE\",\"NATAL\",\"SAO LUIS\",\"SAO LUIS\",\"RECIFE\",\"NATAL\",\"SAO LUIS\",\"SAO LUIS\",\"SAO LUIS\",\"RECIFE\",\"NATAL\",\"NATAL\",\"RECIFE\",\"FORTALEZA\",\"SAO LUIS\",\"RECIFE\",\"FORTALEZA\",\"FORTALEZA\",\"NATAL\",\"SAO LUIS\",\"RECIFE\",\"FORTALEZA\",\"SAO LUIS\",\"SAO LUIS\",\"RECIFE\",\"SAO LUIS\",\"RECIFE\",\"FORTALEZA\",\"NATAL\",\"NATAL\",\"SAO LUIS\",\"RECIFE\",\"SAO LUIS\",\"SAO LUIS\",\"RECIFE\",\"SAO LUIS\",\"RECIFE\",\"SAO LUIS\",\"FORTALEZA\",\"NATAL\",\"RECIFE\",\"SAO LUIS\",\"SAO LUIS\",\"NATAL\",\"FORTALEZA\",\"RECIFE\",\"RECIFE\",\"SAO LUIS\",\"SAO LUIS\",\"NATAL\",\"RECIFE\",\"FORTALEZA\",\"FORTALEZA\",\"RECIFE\",\"SAO LUIS\",\"RECIFE\",\"RECIFE\",\"NATAL\",\"RECIFE\",\"RECIFE\",\"RECIFE\",\"SAO LUIS\",\"RECIFE\",\"RECIFE\",\"NATAL\",\"SAO LUIS\",\"RECIFE\",\"RECIFE\",\"SAO LUIS\",\"FORTALEZA\",\"FORTALEZA\",\"RECIFE\",\"NATAL\",\"SAO LUIS\",\"NATAL\",\"RECIFE\",\"RECIFE\",\"SAO LUIS\",\"RECIFE\",\"SAO LUIS\",\"NATAL\",\"RECIFE\",\"NATAL\",\"RECIFE\",\"RECIFE\",\"RECIFE\",\"FORTALEZA\",\"SAO LUIS\",\"RECIFE\",\"FORTALEZA\",\"RECIFE\",\"SAO LUIS\",\"RECIFE\",\"RECIFE\",\"SAO LUIS\",\"RECIFE\",\"FORTALEZA\",\"RECIFE\",\"RECIFE\",\"RECIFE\",\"SAO LUIS\",\"SAO LUIS\",\"RECIFE\",\"SAO LUIS\",\"NATAL\",\"FORTALEZA\",\"RECIFE\",\"RECIFE\",\"FORTALEZA\",\"RECIFE\",\"RECIFE\",\"FORTALEZA\",\"SAO LUIS\",\"FORTALEZA\",\"RECIFE\",\"RECIFE\",\"RECIFE\",\"FORTALEZA\",\"SAO LUIS\",\"SAO LUIS\",\"RECIFE\",\"FORTALEZA\",\"RECIFE\",\"FORTALEZA\",\"RECIFE\",\"RECIFE\",\"SAO LUIS\",\"SAO LUIS\",\"RECIFE\",\"RECIFE\",\"SAO LUIS\",\"NATAL\",\"RECIFE\",\"RECIFE\",\"RECIFE\",\"RECIFE\",\"RECIFE\",\"RECIFE\",\"SAO LUIS\",\"RECIFE\",\"NATAL\",\"RECIFE\",\"RECIFE\",\"SAO LUIS\",\"SAO LUIS\",\"SAO LUIS\",\"FORTALEZA\",\"NATAL\",\"RECIFE\",\"RECIFE\",\"NATAL\",\"RECIFE\",\"RECIFE\",\"RECIFE\",\"RECIFE\",\"FORTALEZA\",\"NATAL\",\"RECIFE\",\"RECIFE\",\"NATAL\",\"SAO LUIS\",\"RECIFE\",\"FORTALEZA\",\"RECIFE\",\"NATAL\",\"RECIFE\",\"RECIFE\",\"FORTALEZA\",\"FORTALEZA\",\"NATAL\",\"FORTALEZA\",\"FORTALEZA\",\"SAO LUIS\",\"FORTALEZA\",\"SAO LUIS\",\"RECIFE\",\"RECIFE\",\"RECIFE\",\"RECIFE\",\"RECIFE\",\"RECIFE\",\"NATAL\",\"SAO LUIS\",\"FORTALEZA\",\"RECIFE\",\"RECIFE\",\"RECIFE\",\"SAO LUIS\",\"NATAL\",\"SAO LUIS\",\"RECIFE\",\"RECIFE\",\"SAO LUIS\",\"SAO LUIS\",\"SAO LUIS\",\"RECIFE\",\"NATAL\",\"RECIFE\",\"RECIFE\",\"SAO LUIS\",\"RECIFE\",\"SAO LUIS\",\"FORTALEZA\",\"NATAL\",\"RECIFE\",\"RECIFE\",\"RECIFE\",\"FORTALEZA\",\"NATAL\",\"RECIFE\",\"RECIFE\",\"NATAL\",\"RECIFE\",\"RECIFE\",\"RECIFE\",\"NATAL\",\"RECIFE\",\"SAO LUIS\",\"NATAL\",\"RECIFE\",\"RECIFE\",\"RECIFE\",\"RECIFE\",\"RECIFE\",\"NATAL\",\"FORTALEZA\",\"NATAL\",\"RECIFE\",\"RECIFE\",\"NATAL\",\"RECIFE\",\"NATAL\",\"FORTALEZA\",\"RECIFE\",\"RECIFE\",\"SAO LUIS\",\"NATAL\",\"RECIFE\",\"RECIFE\",\"NATAL\",\"RECIFE\",\"SAO LUIS\",\"RECIFE\",\"SAO LUIS\",\"SAO LUIS\",\"RECIFE\",\"RECIFE\",\"SAO LUIS\",\"SAO LUIS\",\"SAO LUIS\",\"FORTALEZA\",\"RECIFE\",\"FORTALEZA\",\"SAO LUIS\",\"SAO LUIS\",\"RECIFE\",\"SAO LUIS\",\"RECIFE\",\"RECIFE\",\"SAO LUIS\",\"FORTALEZA\",\"RECIFE\",\"RECIFE\",\"RECIFE\",\"RECIFE\",\"SAO LUIS\",\"RECIFE\",\"RECIFE\",\"RECIFE\",\"RECIFE\",\"SAO LUIS\",\"SAO LUIS\",\"RECIFE\",\"FORTALEZA\",\"RECIFE\",\"RECIFE\",\"FORTALEZA\",\"SAO LUIS\",\"SAO LUIS\",\"RECIFE\",\"RECIFE\",\"SAO LUIS\",\"RECIFE\",\"RECIFE\",\"FORTALEZA\",\"SAO LUIS\",\"FORTALEZA\",\"RECIFE\",\"NATAL\",\"NATAL\",\"RECIFE\",\"RECIFE\",\"NATAL\",\"FORTALEZA\",\"FORTALEZA\",\"SAO LUIS\",\"FORTALEZA\",\"RECIFE\",\"FORTALEZA\",\"SAO LUIS\",\"RECIFE\",\"NATAL\",\"FORTALEZA\",\"RECIFE\",\"RECIFE\",\"NATAL\",\"SAO LUIS\",\"RECIFE\",\"RECIFE\",\"FORTALEZA\",\"RECIFE\",\"FORTALEZA\",\"SAO LUIS\",\"SAO LUIS\",\"SAO LUIS\",\"SAO LUIS\",\"FORTALEZA\",\"SAO LUIS\",\"SAO LUIS\",\"NATAL\",\"NATAL\",\"RECIFE\",\"NATAL\",\"NATAL\",\"SAO LUIS\",\"FORTALEZA\",\"SAO LUIS\",\"RECIFE\",\"RECIFE\",\"NATAL\",\"RECIFE\",\"SAO LUIS\",\"NATAL\",\"RECIFE\",\"RECIFE\",\"RECIFE\",\"NATAL\",\"RECIFE\",\"RECIFE\",\"RECIFE\",\"FORTALEZA\",\"SAO LUIS\",\"SAO LUIS\",\"NATAL\",\"RECIFE\",\"RECIFE\",\"SAO LUIS\",\"NATAL\",\"NATAL\",\"RECIFE\",\"RECIFE\",\"NATAL\",\"FORTALEZA\",\"RECIFE\",\"RECIFE\",\"RECIFE\",\"FORTALEZA\",\"RECIFE\",\"NATAL\",\"RECIFE\",\"RECIFE\",\"RECIFE\",\"SAO LUIS\",\"FORTALEZA\",\"SAO LUIS\",\"SAO LUIS\",\"RECIFE\",\"RECIFE\",\"SAO LUIS\",\"NATAL\",\"SAO LUIS\",\"RECIFE\",\"SAO LUIS\",\"SAO LUIS\",\"FORTALEZA\",\"FORTALEZA\",\"RECIFE\",\"FORTALEZA\",\"NATAL\",\"RECIFE\",\"RECIFE\",\"NATAL\",\"RECIFE\",\"SAO LUIS\",\"SAO LUIS\",\"SAO LUIS\",\"RECIFE\",\"RECIFE\",\"RECIFE\",\"NATAL\",\"FORTALEZA\",\"NATAL\",\"SAO LUIS\",\"RECIFE\",\"NATAL\",\"SAO LUIS\",\"NATAL\",\"SAO LUIS\",\"RECIFE\",\"RECIFE\",\"RECIFE\",\"NATAL\",\"SAO LUIS\",\"RECIFE\",\"RECIFE\",\"RECIFE\",\"SAO LUIS\",\"RECIFE\",\"NATAL\",\"NATAL\",\"FORTALEZA\",\"RECIFE\",\"SAO LUIS\",\"RECIFE\",\"SAO LUIS\",\"FORTALEZA\",\"RECIFE\",\"FORTALEZA\",\"FORTALEZA\",\"RECIFE\",\"RECIFE\",\"NATAL\",\"RECIFE\",\"SAO LUIS\",\"FORTALEZA\",\"RECIFE\",\"RECIFE\",\"NATAL\",\"SAO LUIS\",\"RECIFE\",\"SAO LUIS\",\"RECIFE\",\"RECIFE\",\"RECIFE\",\"FORTALEZA\",\"SAO LUIS\",\"RECIFE\",\"RECIFE\",\"RECIFE\",\"RECIFE\",\"RECIFE\",\"FORTALEZA\",\"RECIFE\",\"SAO LUIS\",\"FORTALEZA\",\"FORTALEZA\",\"RECIFE\",\"RECIFE\",\"NATAL\",\"RECIFE\",\"NATAL\",\"FORTALEZA\",\"RECIFE\",\"FORTALEZA\",\"FORTALEZA\",\"RECIFE\",\"SAO LUIS\",\"NATAL\",\"RECIFE\",\"FORTALEZA\",\"RECIFE\",\"RECIFE\",\"RECIFE\",\"SAO LUIS\",\"NATAL\",\"FORTALEZA\",\"RECIFE\",\"SAO LUIS\",\"RECIFE\",\"RECIFE\",\"RECIFE\",\"NATAL\",\"SAO LUIS\",\"RECIFE\",\"RECIFE\",\"SAO LUIS\",\"FORTALEZA\",\"SAO LUIS\",\"FORTALEZA\",\"RECIFE\",\"NATAL\",\"SAO LUIS\",\"SAO LUIS\",\"FORTALEZA\",\"RECIFE\",\"RECIFE\",\"NATAL\",\"SAO LUIS\",\"RECIFE\",\"SAO LUIS\",\"SAO LUIS\",\"FORTALEZA\",\"RECIFE\",\"RECIFE\",\"NATAL\",\"RECIFE\",\"SAO LUIS\",\"RECIFE\",\"SAO LUIS\",\"RECIFE\",\"NATAL\",\"NATAL\",\"SAO LUIS\",\"RECIFE\",\"RECIFE\",\"SAO LUIS\",\"SAO LUIS\",\"FORTALEZA\",\"NATAL\",\"SAO LUIS\",\"NATAL\",\"RECIFE\",\"SAO LUIS\",\"NATAL\",\"NATAL\",\"SAO LUIS\",\"SAO LUIS\",\"RECIFE\",\"FORTALEZA\",\"RECIFE\",\"FORTALEZA\",\"NATAL\",\"NATAL\",\"RECIFE\",\"RECIFE\",\"SAO LUIS\",\"NATAL\",\"RECIFE\",\"FORTALEZA\",\"RECIFE\",\"RECIFE\",\"RECIFE\",\"RECIFE\",\"FORTALEZA\",\"NATAL\",\"RECIFE\",\"RECIFE\",\"SAO LUIS\",\"RECIFE\",\"SAO LUIS\",\"FORTALEZA\",\"SAO LUIS\",\"SAO LUIS\",\"RECIFE\",\"SAO LUIS\",\"RECIFE\",\"RECIFE\",\"NATAL\",\"SAO LUIS\",\"RECIFE\",\"SAO LUIS\",\"SAO LUIS\",\"RECIFE\",\"RECIFE\",\"RECIFE\",\"RECIFE\",\"RECIFE\",\"RECIFE\",\"NATAL\",\"NATAL\",\"SAO LUIS\",\"RECIFE\",\"RECIFE\",\"RECIFE\",\"SAO LUIS\",\"SAO LUIS\",\"SAO LUIS\",\"FORTALEZA\",\"NATAL\",\"RECIFE\",\"RECIFE\",\"RECIFE\",\"RECIFE\",\"RECIFE\",\"NATAL\",\"SAO LUIS\",\"SAO LUIS\",\"RECIFE\",\"RECIFE\",\"SAO LUIS\",\"RECIFE\",\"SAO LUIS\",\"RECIFE\",\"SAO LUIS\",\"NATAL\",\"SAO LUIS\",\"RECIFE\",\"NATAL\",\"RECIFE\",\"FORTALEZA\",\"FORTALEZA\",\"RECIFE\",\"NATAL\",\"SAO LUIS\",\"RECIFE\",\"RECIFE\",\"RECIFE\",\"RECIFE\",\"NATAL\",\"RECIFE\",\"RECIFE\",\"FORTALEZA\",\"RECIFE\",\"RECIFE\",\"SAO LUIS\",\"RECIFE\",\"FORTALEZA\",\"RECIFE\",\"SAO LUIS\",\"FORTALEZA\",\"FORTALEZA\",\"RECIFE\",\"RECIFE\",\"RECIFE\",\"RECIFE\",\"FORTALEZA\",\"RECIFE\",\"RECIFE\",\"RECIFE\",\"FORTALEZA\",\"SAO LUIS\",\"RECIFE\",\"RECIFE\",\"SAO LUIS\",\"SAO LUIS\",\"NATAL\",\"NATAL\",\"SAO LUIS\",\"RECIFE\",\"FORTALEZA\",\"RECIFE\",\"FORTALEZA\",\"RECIFE\",\"RECIFE\",\"RECIFE\",\"SAO LUIS\",\"SAO LUIS\",\"RECIFE\",\"RECIFE\",\"SAO LUIS\",\"RECIFE\",\"SAO LUIS\",\"SAO LUIS\",\"NATAL\",\"RECIFE\",\"RECIFE\",\"FORTALEZA\",\"RECIFE\",\"SAO LUIS\",\"RECIFE\",\"NATAL\",\"FORTALEZA\",\"RECIFE\",\"SAO LUIS\",\"RECIFE\",\"NATAL\",\"NATAL\",\"RECIFE\",\"SAO LUIS\",\"SAO LUIS\",\"RECIFE\",\"NATAL\",\"RECIFE\",\"FORTALEZA\",\"RECIFE\",\"NATAL\",\"RECIFE\",\"NATAL\",\"RECIFE\",\"RECIFE\",\"RECIFE\",\"NATAL\",\"NATAL\",\"RECIFE\",\"RECIFE\",\"NATAL\",\"RECIFE\",\"RECIFE\",\"NATAL\",\"RECIFE\",\"RECIFE\",\"RECIFE\",\"FORTALEZA\",\"RECIFE\",\"SAO LUIS\",\"RECIFE\",\"RECIFE\",\"NATAL\",\"SAO LUIS\",\"NATAL\",\"NATAL\",\"SAO LUIS\",\"SAO LUIS\",\"RECIFE\",\"RECIFE\",\"RECIFE\",\"RECIFE\",\"SAO LUIS\",\"NATAL\",\"RECIFE\",\"SAO LUIS\",\"RECIFE\",\"SAO LUIS\",\"RECIFE\",\"NATAL\",\"RECIFE\",\"RECIFE\",\"SAO LUIS\",\"SAO LUIS\",\"RECIFE\",\"RECIFE\",\"SAO LUIS\",\"SAO LUIS\",\"FORTALEZA\",\"SAO LUIS\",\"FORTALEZA\",\"NATAL\",\"SAO LUIS\",\"FORTALEZA\",\"RECIFE\",\"RECIFE\",\"RECIFE\",\"NATAL\",\"FORTALEZA\",\"RECIFE\",\"RECIFE\",\"SAO LUIS\",\"FORTALEZA\",\"RECIFE\",\"NATAL\",\"RECIFE\",\"RECIFE\",\"FORTALEZA\",\"NATAL\",\"FORTALEZA\",\"FORTALEZA\",\"NATAL\",\"FORTALEZA\",\"RECIFE\",\"SAO LUIS\",\"SAO LUIS\",\"FORTALEZA\",\"RECIFE\",\"RECIFE\",\"RECIFE\",\"RECIFE\",\"SAO LUIS\",\"SAO LUIS\",\"SAO LUIS\",\"RECIFE\",\"SAO LUIS\",\"NATAL\",\"SAO LUIS\",\"RECIFE\",\"RECIFE\",\"SAO LUIS\",\"NATAL\",\"RECIFE\",\"SAO LUIS\",\"SAO LUIS\",\"SAO LUIS\",\"FORTALEZA\",\"RECIFE\",\"FORTALEZA\",\"RECIFE\",\"RECIFE\",\"FORTALEZA\",\"NATAL\",\"SAO LUIS\",\"RECIFE\",\"SAO LUIS\",\"FORTALEZA\",\"SAO LUIS\",\"FORTALEZA\",\"RECIFE\",\"SAO LUIS\",\"RECIFE\",\"SAO LUIS\",\"FORTALEZA\",\"FORTALEZA\",\"SAO LUIS\",\"SAO LUIS\",\"SAO LUIS\",\"NATAL\",\"FORTALEZA\",\"SAO LUIS\",\"NATAL\",\"SAO LUIS\",\"RECIFE\",\"RECIFE\",\"SAO LUIS\",\"NATAL\",\"SAO LUIS\",\"FORTALEZA\",\"RECIFE\",\"FORTALEZA\",\"NATAL\",\"RECIFE\",\"FORTALEZA\",\"SAO LUIS\",\"RECIFE\",\"RECIFE\",\"SAO LUIS\",\"RECIFE\",\"RECIFE\",\"SAO LUIS\",\"SAO LUIS\",\"RECIFE\",\"SAO LUIS\",\"FORTALEZA\",\"NATAL\",\"RECIFE\",\"RECIFE\",\"RECIFE\",\"RECIFE\",\"RECIFE\",\"FORTALEZA\",\"RECIFE\",\"NATAL\",\"RECIFE\",\"FORTALEZA\",\"NATAL\",\"SAO LUIS\",\"NATAL\",\"NATAL\",\"SAO LUIS\",\"SAO LUIS\",\"FORTALEZA\",\"SAO LUIS\",\"RECIFE\",\"FORTALEZA\",\"FORTALEZA\",\"NATAL\",\"SAO LUIS\",\"NATAL\",\"SAO LUIS\",\"FORTALEZA\",\"NATAL\",\"FORTALEZA\",\"NATAL\",\"RECIFE\",\"RECIFE\",\"RECIFE\",\"RECIFE\",\"FORTALEZA\",\"SAO LUIS\",\"RECIFE\",\"RECIFE\",\"SAO LUIS\",\"NATAL\",\"NATAL\",\"SAO LUIS\",\"SAO LUIS\",\"RECIFE\",\"FORTALEZA\",\"RECIFE\",\"FORTALEZA\",\"RECIFE\",\"NATAL\",\"RECIFE\",\"RECIFE\",\"SAO LUIS\",\"RECIFE\",\"RECIFE\",\"RECIFE\",\"NATAL\",\"RECIFE\",\"SAO LUIS\",\"RECIFE\",\"FORTALEZA\",\"RECIFE\",\"RECIFE\",\"SAO LUIS\",\"FORTALEZA\",\"RECIFE\",\"FORTALEZA\",\"RECIFE\",\"RECIFE\",\"RECIFE\",\"RECIFE\",\"SAO LUIS\",\"NATAL\",\"NATAL\",\"NATAL\",\"RECIFE\",\"RECIFE\",\"SAO LUIS\",\"FORTALEZA\",\"RECIFE\",\"RECIFE\",\"RECIFE\",\"FORTALEZA\",\"NATAL\",\"SAO LUIS\",\"FORTALEZA\",\"RECIFE\",\"SAO LUIS\",\"SAO LUIS\",\"RECIFE\",\"SAO LUIS\",\"SAO LUIS\",\"SAO LUIS\",\"FORTALEZA\",\"RECIFE\",\"RECIFE\",\"NATAL\",\"FORTALEZA\",\"SAO LUIS\",\"RECIFE\",\"RECIFE\",\"SAO LUIS\",\"RECIFE\",\"RECIFE\",\"RECIFE\",\"RECIFE\",\"SAO LUIS\",\"RECIFE\",\"SAO LUIS\",\"FORTALEZA\",\"RECIFE\",\"NATAL\",\"NATAL\",\"NATAL\",\"RECIFE\",\"RECIFE\",\"RECIFE\",\"RECIFE\",\"RECIFE\",\"SAO LUIS\",\"RECIFE\",\"RECIFE\",\"RECIFE\",\"RECIFE\",\"NATAL\",\"RECIFE\",\"RECIFE\",\"RECIFE\",\"NATAL\",\"NATAL\",\"FORTALEZA\",\"RECIFE\",\"FORTALEZA\",\"RECIFE\",\"NATAL\",\"RECIFE\",\"NATAL\",\"NATAL\",\"RECIFE\",\"SAO LUIS\",\"RECIFE\",\"FORTALEZA\",\"FORTALEZA\",\"SAO LUIS\",\"SAO LUIS\",\"RECIFE\",\"RECIFE\",\"RECIFE\",\"RECIFE\",\"FORTALEZA\",\"RECIFE\",\"NATAL\",\"FORTALEZA\",\"RECIFE\",\"FORTALEZA\",\"RECIFE\",\"RECIFE\",\"RECIFE\",\"RECIFE\",\"FORTALEZA\",\"FORTALEZA\",\"RECIFE\",\"RECIFE\",\"SAO LUIS\",\"RECIFE\",\"RECIFE\",\"RECIFE\",\"SAO LUIS\",\"SAO LUIS\",\"RECIFE\",\"FORTALEZA\",\"RECIFE\",\"NATAL\",\"RECIFE\",\"RECIFE\",\"SAO LUIS\",\"RECIFE\",\"RECIFE\",\"SAO LUIS\",\"SAO LUIS\",\"RECIFE\",\"RECIFE\",\"FORTALEZA\",\"NATAL\",\"SAO LUIS\",\"RECIFE\",\"RECIFE\",\"RECIFE\",\"RECIFE\",\"NATAL\",\"RECIFE\",\"NATAL\",\"RECIFE\",\"NATAL\",\"FORTALEZA\",\"FORTALEZA\",\"FORTALEZA\",\"NATAL\",\"FORTALEZA\",\"SAO LUIS\",\"RECIFE\",\"FORTALEZA\",\"RECIFE\",\"SAO LUIS\",\"RECIFE\",\"SAO LUIS\",\"FORTALEZA\",\"SAO LUIS\",\"RECIFE\",\"RECIFE\",\"RECIFE\",\"RECIFE\",\"RECIFE\",\"SAO LUIS\",\"SAO LUIS\",\"NATAL\",\"RECIFE\",\"RECIFE\",\"RECIFE\",\"FORTALEZA\",\"NATAL\",\"RECIFE\",\"RECIFE\",\"SAO LUIS\",\"RECIFE\",\"SAO LUIS\",\"NATAL\",\"RECIFE\",\"RECIFE\",\"RECIFE\",\"FORTALEZA\",\"RECIFE\",\"FORTALEZA\",\"RECIFE\",\"RECIFE\",\"RECIFE\",\"RECIFE\",\"RECIFE\",\"NATAL\",\"SAO LUIS\",\"NATAL\",\"SAO LUIS\",\"NATAL\",\"RECIFE\",\"RECIFE\",\"SAO LUIS\",\"SAO LUIS\",\"FORTALEZA\",\"RECIFE\",\"RECIFE\",\"RECIFE\",\"RECIFE\",\"RECIFE\",\"RECIFE\",\"RECIFE\",\"FORTALEZA\",\"SAO LUIS\",\"RECIFE\",\"RECIFE\",\"RECIFE\",\"FORTALEZA\",\"SAO LUIS\",\"FORTALEZA\",\"FORTALEZA\",\"SAO LUIS\",\"NATAL\",\"SAO LUIS\",\"NATAL\",\"SAO LUIS\",\"FORTALEZA\",\"NATAL\",\"RECIFE\",\"NATAL\",\"RECIFE\",\"FORTALEZA\",\"RECIFE\",\"RECIFE\",\"RECIFE\",\"SAO LUIS\",\"SAO LUIS\",\"SAO LUIS\",\"FORTALEZA\",\"SAO LUIS\",\"SAO LUIS\",\"SAO LUIS\",\"SAO LUIS\",\"RECIFE\",\"SAO LUIS\",\"RECIFE\",\"RECIFE\",\"RECIFE\",\"FORTALEZA\",\"RECIFE\",\"SAO LUIS\",\"RECIFE\",\"RECIFE\",\"SAO LUIS\",\"RECIFE\",\"SAO LUIS\",\"FORTALEZA\",\"RECIFE\",\"NATAL\",\"RECIFE\",\"SAO LUIS\",\"NATAL\",\"SAO LUIS\",\"RECIFE\",\"RECIFE\",\"RECIFE\",\"SAO LUIS\",\"NATAL\",\"SAO LUIS\",\"SAO LUIS\",\"SAO LUIS\",\"SAO LUIS\",\"NATAL\",\"RECIFE\",\"FORTALEZA\",\"RECIFE\",\"NATAL\",\"SAO LUIS\",\"RECIFE\",\"SAO LUIS\",\"SAO LUIS\",\"RECIFE\",\"SAO LUIS\",\"RECIFE\",\"NATAL\",\"SAO LUIS\",\"FORTALEZA\",\"SAO LUIS\",\"RECIFE\",\"SAO LUIS\",\"RECIFE\",\"RECIFE\",\"RECIFE\",\"SAO LUIS\",\"RECIFE\",\"NATAL\",\"RECIFE\",\"RECIFE\",\"RECIFE\",\"SAO LUIS\",\"RECIFE\",\"NATAL\",\"FORTALEZA\",\"SAO LUIS\",\"SAO LUIS\",\"NATAL\",\"RECIFE\",\"RECIFE\",\"RECIFE\",\"RECIFE\",\"FORTALEZA\",\"RECIFE\",\"FORTALEZA\",\"FORTALEZA\",\"SAO LUIS\",\"SAO LUIS\",\"RECIFE\",\"RECIFE\",\"RECIFE\",\"FORTALEZA\",\"RECIFE\",\"FORTALEZA\",\"RECIFE\",\"FORTALEZA\",\"SAO LUIS\",\"SAO LUIS\",\"SAO LUIS\",\"RECIFE\",\"RECIFE\",\"SAO LUIS\",\"RECIFE\",\"SAO LUIS\",\"FORTALEZA\",\"RECIFE\",\"RECIFE\",\"RECIFE\",\"SAO LUIS\",\"RECIFE\",\"SAO LUIS\",\"NATAL\",\"SAO LUIS\",\"RECIFE\",\"SAO LUIS\",\"RECIFE\",\"RECIFE\",\"SAO LUIS\",\"SAO LUIS\",\"SAO LUIS\",\"SAO LUIS\",\"FORTALEZA\",\"SAO LUIS\",\"RECIFE\",\"RECIFE\",\"SAO LUIS\",\"NATAL\",\"RECIFE\",\"SAO LUIS\",\"SAO LUIS\",\"FORTALEZA\",\"RECIFE\",\"NATAL\",\"RECIFE\",\"FORTALEZA\",\"RECIFE\",\"RECIFE\",\"RECIFE\",\"FORTALEZA\",\"SAO LUIS\",\"RECIFE\",\"RECIFE\",\"RECIFE\",\"NATAL\",\"RECIFE\",\"NATAL\",\"SAO LUIS\",\"NATAL\",\"RECIFE\",\"FORTALEZA\",\"RECIFE\",\"RECIFE\",\"FORTALEZA\",\"RECIFE\",\"FORTALEZA\",\"FORTALEZA\",\"SAO LUIS\",\"FORTALEZA\",\"NATAL\",\"RECIFE\",\"SAO LUIS\",\"RECIFE\",\"NATAL\",\"SAO LUIS\",\"SAO LUIS\",\"RECIFE\",\"RECIFE\",\"RECIFE\",\"SAO LUIS\",\"RECIFE\",\"RECIFE\",\"NATAL\",\"RECIFE\",\"RECIFE\",\"SAO LUIS\",\"RECIFE\",\"RECIFE\",\"NATAL\",\"FORTALEZA\",\"NATAL\",\"RECIFE\",\"SAO LUIS\",\"RECIFE\",\"FORTALEZA\",\"FORTALEZA\",\"RECIFE\",\"SAO LUIS\",\"NATAL\",\"SAO LUIS\",\"RECIFE\",\"RECIFE\",\"RECIFE\",\"SAO LUIS\",\"RECIFE\",\"RECIFE\",\"SAO LUIS\",\"RECIFE\",\"RECIFE\",\"FORTALEZA\",\"SAO LUIS\",\"SAO LUIS\",\"SAO LUIS\",\"RECIFE\",\"NATAL\",\"NATAL\",\"FORTALEZA\",\"RECIFE\",\"RECIFE\",\"RECIFE\",\"SAO LUIS\",\"SAO LUIS\",\"SAO LUIS\",\"RECIFE\",\"RECIFE\",\"SAO LUIS\",\"RECIFE\",\"RECIFE\",\"RECIFE\",\"NATAL\",\"RECIFE\",\"RECIFE\",\"FORTALEZA\",\"SAO LUIS\",\"SAO LUIS\",\"NATAL\",\"FORTALEZA\",\"RECIFE\",\"NATAL\",\"SAO LUIS\",\"RECIFE\",\"RECIFE\",\"FORTALEZA\",\"SAO LUIS\",\"RECIFE\",\"FORTALEZA\",\"FORTALEZA\",\"SAO LUIS\",\"SAO LUIS\",\"FORTALEZA\",\"RECIFE\",\"RECIFE\",\"RECIFE\",\"FORTALEZA\",\"SAO LUIS\",\"RECIFE\",\"NATAL\",\"FORTALEZA\",\"SAO LUIS\",\"RECIFE\",\"FORTALEZA\",\"SAO LUIS\",\"RECIFE\",\"RECIFE\",\"NATAL\",\"RECIFE\",\"SAO LUIS\",\"SAO LUIS\",\"RECIFE\",\"NATAL\",\"FORTALEZA\",\"RECIFE\",\"FORTALEZA\",\"FORTALEZA\",\"NATAL\",\"NATAL\",\"FORTALEZA\",\"NATAL\",\"RECIFE\",\"RECIFE\",\"RECIFE\",\"RECIFE\",\"RECIFE\",\"RECIFE\",\"NATAL\",\"SAO LUIS\",\"SAO LUIS\",\"NATAL\",\"RECIFE\",\"SAO LUIS\",\"SAO LUIS\",\"NATAL\",\"SAO LUIS\",\"RECIFE\",\"RECIFE\",\"FORTALEZA\",\"FORTALEZA\",\"RECIFE\",\"RECIFE\",\"SAO LUIS\",\"RECIFE\",\"SAO LUIS\",\"RECIFE\",\"FORTALEZA\",\"RECIFE\",\"RECIFE\",\"RECIFE\",\"SAO LUIS\",\"NATAL\",\"RECIFE\",\"RECIFE\",\"FORTALEZA\",\"RECIFE\",\"SAO LUIS\",\"RECIFE\",\"RECIFE\",\"SAO LUIS\",\"SAO LUIS\",\"SAO LUIS\",\"RECIFE\",\"NATAL\",\"NATAL\",\"SAO LUIS\",\"RECIFE\",\"NATAL\",\"FORTALEZA\",\"SAO LUIS\",\"FORTALEZA\",\"FORTALEZA\",\"FORTALEZA\",\"NATAL\",\"RECIFE\",\"NATAL\",\"SAO LUIS\",\"SAO LUIS\",\"RECIFE\",\"NATAL\",\"SAO LUIS\",\"NATAL\",\"RECIFE\",\"SAO LUIS\",\"RECIFE\",\"FORTALEZA\",\"FORTALEZA\",\"NATAL\",\"RECIFE\",\"RECIFE\",\"RECIFE\",\"SAO LUIS\",\"NATAL\",\"RECIFE\",\"RECIFE\",\"RECIFE\",\"RECIFE\",\"SAO LUIS\",\"RECIFE\",\"RECIFE\",\"RECIFE\",\"RECIFE\",\"NATAL\",\"RECIFE\",\"RECIFE\",\"RECIFE\",\"NATAL\",\"RECIFE\",\"NATAL\",\"RECIFE\",\"RECIFE\",\"RECIFE\",\"NATAL\",\"SAO LUIS\",\"SAO LUIS\",\"FORTALEZA\",\"RECIFE\",\"RECIFE\",\"SAO LUIS\",\"RECIFE\",\"NATAL\",\"RECIFE\",\"SAO LUIS\",\"SAO LUIS\",\"RECIFE\",\"RECIFE\",\"RECIFE\",\"FORTALEZA\",\"SAO LUIS\",\"SAO LUIS\",\"RECIFE\",\"SAO LUIS\",\"NATAL\",\"SAO LUIS\",\"RECIFE\",\"RECIFE\",\"SAO LUIS\",\"SAO LUIS\",\"SAO LUIS\",\"SAO LUIS\",\"RECIFE\",\"RECIFE\",\"SAO LUIS\",\"RECIFE\",\"FORTALEZA\",\"RECIFE\",\"RECIFE\",\"RECIFE\",\"RECIFE\",\"RECIFE\",\"SAO LUIS\",\"FORTALEZA\",\"RECIFE\",\"SAO LUIS\",\"RECIFE\",\"RECIFE\",\"RECIFE\",\"SAO LUIS\",\"SAO LUIS\",\"SAO LUIS\",\"NATAL\",\"RECIFE\",\"RECIFE\",\"SAO LUIS\",\"RECIFE\",\"RECIFE\",\"SAO LUIS\",\"RECIFE\",\"SAO LUIS\",\"FORTALEZA\",\"SAO LUIS\",\"SAO LUIS\",\"RECIFE\",\"SAO LUIS\",\"RECIFE\",\"NATAL\",\"RECIFE\",\"RECIFE\",\"NATAL\",\"RECIFE\",\"RECIFE\",\"RECIFE\",\"FORTALEZA\",\"SAO LUIS\",\"FORTALEZA\",\"SAO LUIS\",\"SAO LUIS\",\"RECIFE\",\"RECIFE\",\"FORTALEZA\",\"FORTALEZA\",\"RECIFE\",\"FORTALEZA\",\"SAO LUIS\",\"FORTALEZA\",\"RECIFE\",\"FORTALEZA\",\"RECIFE\",\"RECIFE\",\"FORTALEZA\",\"RECIFE\",\"RECIFE\",\"NATAL\",\"NATAL\",\"RECIFE\",\"RECIFE\",\"FORTALEZA\",\"SAO LUIS\",\"SAO LUIS\",\"RECIFE\",\"RECIFE\",\"SAO LUIS\",\"RECIFE\",\"FORTALEZA\",\"NATAL\",\"RECIFE\",\"SAO LUIS\",\"RECIFE\",\"RECIFE\",\"RECIFE\",\"FORTALEZA\",\"SAO LUIS\",\"SAO LUIS\",\"RECIFE\",\"SAO LUIS\",\"RECIFE\",\"RECIFE\",\"FORTALEZA\",\"FORTALEZA\",\"RECIFE\",\"FORTALEZA\",\"FORTALEZA\",\"FORTALEZA\",\"RECIFE\",\"RECIFE\",\"SAO LUIS\",\"RECIFE\",\"NATAL\",\"SAO LUIS\",\"RECIFE\",\"RECIFE\",\"SAO LUIS\",\"SAO LUIS\",\"RECIFE\",\"SAO LUIS\",\"RECIFE\",\"RECIFE\",\"FORTALEZA\",\"FORTALEZA\",\"RECIFE\",\"SAO LUIS\",\"NATAL\",\"RECIFE\",\"SAO LUIS\",\"NATAL\",\"SAO LUIS\",\"FORTALEZA\",\"RECIFE\",\"SAO LUIS\",\"SAO LUIS\",\"RECIFE\",\"SAO LUIS\",\"SAO LUIS\",\"SAO LUIS\",\"RECIFE\",\"RECIFE\",\"SAO LUIS\",\"RECIFE\",\"RECIFE\",\"FORTALEZA\",\"SAO LUIS\",\"NATAL\",\"RECIFE\",\"SAO LUIS\",\"RECIFE\",\"RECIFE\",\"RECIFE\",\"SAO LUIS\",\"RECIFE\",\"SAO LUIS\",\"SAO LUIS\",\"SAO LUIS\",\"SAO LUIS\",\"RECIFE\",\"RECIFE\",\"RECIFE\",\"NATAL\",\"SAO LUIS\",\"RECIFE\",\"RECIFE\",\"RECIFE\",\"NATAL\",\"RECIFE\",\"NATAL\",\"FORTALEZA\",\"RECIFE\",\"RECIFE\",\"RECIFE\",\"SAO LUIS\",\"SAO LUIS\",\"RECIFE\",\"SAO LUIS\",\"FORTALEZA\",\"RECIFE\",\"SAO LUIS\",\"NATAL\",\"RECIFE\",\"FORTALEZA\",\"FORTALEZA\",\"NATAL\",\"RECIFE\",\"FORTALEZA\",\"RECIFE\",\"SAO LUIS\",\"FORTALEZA\",\"NATAL\",\"RECIFE\",\"SAO LUIS\",\"RECIFE\",\"NATAL\",\"SAO LUIS\",\"RECIFE\",\"FORTALEZA\",\"RECIFE\",\"RECIFE\",\"RECIFE\",\"RECIFE\",\"RECIFE\",\"RECIFE\",\"RECIFE\",\"FORTALEZA\",\"RECIFE\",\"SAO LUIS\",\"NATAL\",\"NATAL\",\"FORTALEZA\",\"FORTALEZA\",\"RECIFE\",\"RECIFE\",\"NATAL\",\"FORTALEZA\",\"RECIFE\",\"NATAL\",\"RECIFE\",\"RECIFE\",\"FORTALEZA\",\"RECIFE\",\"RECIFE\",\"FORTALEZA\",\"NATAL\",\"NATAL\",\"SAO LUIS\",\"RECIFE\",\"SAO LUIS\",\"SAO LUIS\",\"FORTALEZA\",\"SAO LUIS\",\"RECIFE\",\"NATAL\",\"RECIFE\",\"RECIFE\",\"NATAL\",\"RECIFE\",\"SAO LUIS\",\"FORTALEZA\",\"FORTALEZA\",\"RECIFE\",\"RECIFE\",\"RECIFE\",\"SAO LUIS\",\"SAO LUIS\",\"SAO LUIS\",\"SAO LUIS\",\"SAO LUIS\",\"SAO LUIS\",\"SAO LUIS\",\"RECIFE\",\"RECIFE\",\"RECIFE\",\"RECIFE\",\"FORTALEZA\",\"RECIFE\",\"FORTALEZA\",\"RECIFE\",\"SAO LUIS\",\"RECIFE\",\"SAO LUIS\",\"FORTALEZA\",\"RECIFE\",\"RECIFE\",\"RECIFE\",\"SAO LUIS\",\"SAO LUIS\",\"SAO LUIS\",\"RECIFE\",\"RECIFE\",\"SAO LUIS\",\"RECIFE\",\"NATAL\",\"FORTALEZA\",\"RECIFE\",\"FORTALEZA\",\"RECIFE\",\"NATAL\",\"SAO LUIS\",\"FORTALEZA\",\"RECIFE\",\"SAO LUIS\",\"RECIFE\",\"RECIFE\",\"SAO LUIS\",\"SAO LUIS\",\"SAO LUIS\",\"SAO LUIS\",\"NATAL\",\"NATAL\",\"FORTALEZA\",\"RECIFE\",\"SAO LUIS\",\"SAO LUIS\",\"RECIFE\",\"NATAL\",\"SAO LUIS\",\"FORTALEZA\",\"FORTALEZA\",\"SAO LUIS\",\"RECIFE\",\"SAO LUIS\",\"RECIFE\",\"SAO LUIS\",\"FORTALEZA\",\"RECIFE\",\"RECIFE\",\"SAO LUIS\",\"RECIFE\",\"FORTALEZA\",\"SAO LUIS\",\"NATAL\",\"FORTALEZA\",\"SAO LUIS\",\"SAO LUIS\",\"RECIFE\",\"RECIFE\",\"SAO LUIS\",\"FORTALEZA\",\"RECIFE\",\"RECIFE\",\"SAO LUIS\",\"SAO LUIS\",\"FORTALEZA\",\"RECIFE\",\"RECIFE\",\"RECIFE\",\"FORTALEZA\",\"NATAL\",\"FORTALEZA\",\"RECIFE\",\"FORTALEZA\",\"NATAL\",\"RECIFE\",\"SAO LUIS\",\"SAO LUIS\",\"NATAL\",\"RECIFE\",\"RECIFE\",\"SAO LUIS\",\"RECIFE\",\"RECIFE\",\"RECIFE\",\"RECIFE\",\"FORTALEZA\",\"RECIFE\",\"NATAL\",\"RECIFE\",\"SAO LUIS\",\"SAO LUIS\",\"SAO LUIS\",\"NATAL\",\"RECIFE\",\"NATAL\",\"RECIFE\",\"SAO LUIS\",\"FORTALEZA\",\"FORTALEZA\",\"SAO LUIS\",\"SAO LUIS\",\"SAO LUIS\",\"SAO LUIS\",\"FORTALEZA\",\"NATAL\",\"RECIFE\",\"SAO LUIS\",\"RECIFE\",\"SAO LUIS\",\"SAO LUIS\",\"NATAL\",\"RECIFE\",\"RECIFE\",\"SAO LUIS\",\"FORTALEZA\",\"RECIFE\",\"RECIFE\",\"RECIFE\",\"SAO LUIS\",\"NATAL\",\"FORTALEZA\",\"SAO LUIS\",\"RECIFE\",\"FORTALEZA\",\"SAO LUIS\",\"SAO LUIS\",\"RECIFE\",\"RECIFE\",\"SAO LUIS\",\"SAO LUIS\",\"SAO LUIS\",\"RECIFE\",\"RECIFE\",\"SAO LUIS\",\"RECIFE\",\"RECIFE\",\"FORTALEZA\",\"RECIFE\",\"NATAL\",\"FORTALEZA\",\"FORTALEZA\",\"RECIFE\",\"SAO LUIS\",\"RECIFE\",\"FORTALEZA\",\"RECIFE\",\"RECIFE\",\"SAO LUIS\",\"SAO LUIS\",\"NATAL\",\"SAO LUIS\",\"NATAL\",\"RECIFE\",\"RECIFE\",\"RECIFE\",\"NATAL\",\"SAO LUIS\",\"RECIFE\",\"FORTALEZA\",\"RECIFE\",\"RECIFE\",\"SAO LUIS\",\"NATAL\",\"RECIFE\",\"NATAL\",\"SAO LUIS\",\"RECIFE\",\"SAO LUIS\",\"RECIFE\",\"NATAL\",\"FORTALEZA\",\"RECIFE\",\"RECIFE\",\"SAO LUIS\",\"RECIFE\",\"RECIFE\",\"FORTALEZA\",\"SAO LUIS\",\"RECIFE\",\"FORTALEZA\",\"FORTALEZA\",\"RECIFE\",\"NATAL\",\"NATAL\",\"NATAL\",\"NATAL\",\"RECIFE\",\"RECIFE\",\"RECIFE\",\"RECIFE\",\"SAO LUIS\",\"NATAL\",\"NATAL\",\"SAO LUIS\",\"FORTALEZA\",\"SAO LUIS\",\"RECIFE\",\"FORTALEZA\",\"FORTALEZA\",\"NATAL\",\"RECIFE\",\"SAO LUIS\",\"RECIFE\",\"NATAL\",\"FORTALEZA\",\"RECIFE\",\"SAO LUIS\",\"NATAL\",\"SAO LUIS\",\"SAO LUIS\",\"RECIFE\",\"SAO LUIS\",\"NATAL\",\"FORTALEZA\",\"FORTALEZA\",\"RECIFE\",\"FORTALEZA\",\"FORTALEZA\",\"SAO LUIS\",\"SAO LUIS\",\"RECIFE\",\"RECIFE\",\"NATAL\",\"SAO LUIS\",\"NATAL\",\"RECIFE\",\"RECIFE\",\"RECIFE\",\"NATAL\",\"RECIFE\",\"SAO LUIS\",\"FORTALEZA\",\"SAO LUIS\",\"SAO LUIS\",\"FORTALEZA\",\"SAO LUIS\",\"NATAL\",\"RECIFE\",\"NATAL\",\"SAO LUIS\",\"NATAL\",\"FORTALEZA\",\"RECIFE\",\"SAO LUIS\",\"FORTALEZA\",\"RECIFE\",\"NATAL\",\"RECIFE\",\"FORTALEZA\",\"FORTALEZA\",\"FORTALEZA\",\"FORTALEZA\",\"RECIFE\",\"RECIFE\",\"NATAL\",\"NATAL\",\"RECIFE\",\"RECIFE\",\"SAO LUIS\",\"RECIFE\",\"RECIFE\",\"SAO LUIS\",\"SAO LUIS\",\"SAO LUIS\",\"RECIFE\",\"RECIFE\",\"FORTALEZA\",\"RECIFE\",\"RECIFE\",\"FORTALEZA\",\"RECIFE\",\"RECIFE\",\"FORTALEZA\",\"SAO LUIS\",\"RECIFE\",\"NATAL\",\"RECIFE\",\"RECIFE\",\"RECIFE\",\"RECIFE\",\"RECIFE\",\"FORTALEZA\",\"RECIFE\",\"RECIFE\",\"RECIFE\"],\"x0\":\" \",\"xaxis\":\"x\",\"y\":[317,195,183,186,138,183,190,183,149,149,180,208,175,223,265,235,229,189,195,204,129,167,119,190,177,170,148,173,184,177,172,237,184,262,136,181,161,161,146,243,233,125,166,189,178,175,111,184,195,168,301,192,250,185,140,248,196,196,172,189,190,192,168,130,179,290,215,182,181,159,105,188,109,267,142,276,293,226,185,187,153,185,180,132,157,187,181,144,149,181,187,200,172,199,142,156,138,165,208,273,148,120,178,247,280,238,192,134,148,195,176,184,359,186,160,188,355,148,172,297,245,126,179,188,226,157,175,185,127,108,218,229,167,248,238,179,167,144,118,102,143,172,175,133,186,178,227,168,182,214,175,176,165,149,190,358,163,234,115,173,139,171,159,204,173,210,180,144,158,139,192,240,145,322,195,161,186,177,183,175,158,167,180,228,155,182,124,237,166,118,227,162,119,207,256,109,174,194,171,134,175,131,212,246,165,169,230,210,163,217,169,168,182,262,292,345,179,219,177,174,180,225,229,181,207,190,171,164,177,152,130,180,203,170,146,184,213,137,203,197,261,138,224,143,206,182,159,171,193,141,137,159,179,267,149,164,325,235,220,146,184,171,293,193,182,140,181,188,178,244,169,131,273,171,171,318,173,135,132,228,166,196,277,254,219,168,84,191,212,219,104,192,185,176,187,121,259,197,184,178,146,171,159,190,182,202,168,245,341,164,198,169,243,192,206,181,199,133,177,166,175,168,162,207,139,229,231,174,164,187,231,262,232,134,180,172,119,180,186,211,180,178,160,162,143,148,275,182,177,143,183,110,142,166,167,160,76,187,198,240,222,231,180,178,168,181,173,190,171,176,194,190,167,257,113,179,173,499,274,216,270,152,186,129,173,275,205,173,102,221,299,203,210,260,272,179,208,152,175,151,98,168,167,290,233,178,326,367,155,131,131,172,169,352,193,139,294,181,223,177,158,133,95,158,176,196,176,144,169,170,176,182,212,199,149,160,153,173,182,229,141,360,118,191,182,176,134,186,174,155,220,145,225,370,233,153,172,158,202,205,185,180,174,160,142,169,121,166,123,453,190,193,327,133,185,180,146,174,190,165,185,156,168,232,174,164,224,279,275,214,192,249,169,183,117,183,141,176,187,241,141,155,145,159,215,140,158,156,261,172,183,121,135,307,155,180,160,179,113,126,327,167,171,138,220,153,277,229,231,170,170,146,164,187,218,199,384,178,174,118,166,136,188,147,136,163,419,174,160,162,166,182,221,167,196,189,276,174,149,257,232,111,260,142,153,189,127,184,180,187,310,209,285,179,175,169,138,155,186,184,316,198,178,237,106,286,178,241,109,98,179,235,212,177,122,234,181,218,132,253,127,125,140,122,149,184,184,176,166,125,212,169,197,116,235,136,268,238,190,248,119,142,192,144,213,320,175,161,107,139,168,123,203,101,318,213,201,190,176,101,204,223,178,268,281,205,181,139,244,144,184,209,127,313,182,174,151,215,150,228,271,131,240,197,170,159,175,284,159,251,186,106,182,221,162,190,183,174,243,182,191,145,149,161,158,169,132,295,227,177,256,159,180,95,154,182,160,166,180,165,158,181,93,175,108,179,329,148,181,222,291,274,185,177,151,182,138,178,161,172,287,177,152,184,182,136,150,172,190,268,223,137,244,208,159,168,133,171,163,187,186,122,137,141,183,191,200,222,182,245,132,193,145,186,169,194,181,187,178,237,158,159,181,294,211,135,126,175,162,173,190,141,185,129,117,166,192,255,161,177,227,157,406,105,193,179,198,227,156,178,181,263,215,175,117,205,185,197,190,113,203,238,195,350,181,176,243,136,178,130,142,180,164,200,102,116,160,226,194,176,193,166,221,100,135,168,518,111,246,184,182,190,185,197,183,187,147,173,145,93,229,141,186,168,90,189,181,173,195,179,117,129,178,126,190,123,150,176,106,191,165,264,178,300,165,281,150,229,180,199,146,183,191,180,183,244,155,203,175,189,171,176,143,125,119,127,182,152,116,162,259,143,164,186,185,271,237,166,249,185,188,165,181,299,127,165,191,193,290,158,180,204,143,234,228,185,306,268,250,176,318,225,167,154,182,246,232,142,227,187,177,210,170,164,170,113,151,225,174,199,148,263,169,152,122,156,173,96,241,176,173,206,113,163,222,172,134,242,164,172,196,97,146,187,165,233,141,200,195,170,172,184,136,191,132,139,167,133,150,118,191,242,171,180,230,216,184,205,168,166,174,179,180,237,181,186,176,326,123,180,144,178,174,139,173,175,224,183,238,191,280,164,159,253,156,264,167,207,137,235,113,92,128,182,187,149,182,119,201,203,264,135,245,260,180,183,282,153,304,246,212,132,197,206,195,157,249,91,238,206,172,157,174,133,254,180,188,175,98,131,114,171,193,219,112,223,176,163,180,161,174,165,163,238,209,191,172,125,170,187,244,275,186,175,284,260,135,173,178,300,176,102,191,182,216,181,244,210,168,129,159,186,204,338,212,132,178,158,215,183,172,180,219,154,131,130,169,322,147,201,210,178,195,190,300,168,115,175,179,253,155,190,132,203,240,224,173,111,161,176,203,177,253,300,188,173,131,243,181,170,153,150,135,230,166,192,177,283,135,198,203,220,225,183,227,261,253,157,144,174,192,180,172,140,176,283,268,212,144,193,221,186,196,396,222,177,209,197,114,196,122,243,170,189,185,177,100,185,111,174,174,240,163,168,155,207,187,212,204,193,200,152,226,151,194,187,235,178,238,202,174,189,188,236,174,106,229,139,232,168,253,195,205,164,200,133,194,124,126,184,170,225,155,172,181,141,208,203,161,178,164,209,166,169,162,166,250,150,278,214,176,172,246,166,173,107,176,188,179,153,111,171,179,141,173,111,136,176,140,255,204,175,239,185,232,166,123,139,148,196,262,180,180,141,108,140,105,87,178,199,216,136,235,185,197,178,175,186,175,187,179,129,169,146,190,182,224,175,292,223,220,214,184,214,193,298,252,164,215,292,188,186,148,195,185,176,152,230,208,122,157,427,151,117,192,178,133,200,164,141,139,124,262,181,237,166,248,203,129,242,248,162,199,161,176,145,169,184,280,147,167,109,216,169,119,172,167,173,122,188,196,277,175,208,133,167,163,328,266,201,226,213,175,149,176,302,134,157,190,124,147,185,179,177,232,189,147,198,204,237,172,228,286,145,283,259,263,361,265,146,258,173,168,180,117,157,175,178,183,148,167,281,276,185,193,100,172,172,140,170,172,179,176,193,230,170,154,220,219,106,178,150,228,173,185,169,340,211,255,177,202,179,183,229,115,157,175,112,168,104,152,159,185,164,209,135,177,203,190,184,191,226,195,181,217,190,152,189,152,128,226,177,182,178,173,124,111,170,164,179,166,189,134,201,229,124,194,195,176,171,175,184,126,156,180,189,211,199,134,176,326,178,220,224,264,203,174,166,224,176,254,130,260,143,113,163,116,121,136,168,229,200,167,146,134,174,229,175,220,142,199,227,261,155,109,159,179,173,195,185,189,142,103,136,100,129,180,110,101,232,188,182,118,168,178,140,109,252,170,271,139,151,221,176,165,158,179,190,224,173,164,134,195,162,300,186,176,119,182,184,187,170,187,180,169,180,175,185,182,178,172,140,154,174,235,174,143,283,163,158,156,191,168,192,148,179,200,214,355,176,197,174,160,134,184,172,186,174,172,241,164,180,100,295,244,194,247,205,379,186,240,119,102,174,293,307,263,170,204,158,172,200,141,168,193,179,173,174,169,187,206,215,224,186,193,175,216,178,192,232,163,109,179,169,192,244,173,177,114,220,188,137,218,182,156,237,180,231,141,248,168,247,171,130,181,184,167,187,118,166,300,137,170,126,108,287,215,120,203,201,173,102,154,318,155,120,166,183,178,249,180,220,154,258,187,214,150,334,219,150,151,180,213,199,176,194,169,82,149,304,180,99,158,198,159,167,210,109,95,89,147,191,222,250,257,201,166,177,158,253,168,222,190,120,213,198,232,99,179,205,154,364,152,181,176,145,194,171,202,189,193,178,163,215,182,166,156,138,133,189,266,157,199,202,254,119,195,182,178,260,123,181,171,156,119,173,127,172,161,159,197,181,157,94,125,101,100,169,161,224,176,200,181,172,247,101,153,125,168,176,308,218,170,246,197,180,136,242,147,123,190,164,187,261,88,235,184,123,157,225,211,287,178,261,128,204,177,172,184,233,206,170,139,192,137,210,230,172,162,181,172,228,278,236,258,153,128,184,155,156,96,167,201,196,134,191,176,172,218,176,212,139,123,133,254,169,125,259,175,236,201,187,299,114,179,269,193,290,140,209,180,174,221,180,130,182,219,187,180,126,177,238,207,197,182,154,193,192,257,136,120,176,183,170,245,228,127,178,188,118,190,185,176,153,175,156,152,132,175,175,182,169,191,166,202,151,124,170,181,151,143,183,302,139,170,176,84,166,217,285,140,179,217,253,146,183,129,172,247,116,195,177,132,202,143,176,166,179,162,150],\"y0\":\" \",\"yaxis\":\"y\",\"type\":\"box\"}],                        {\"template\":{\"data\":{\"histogram2dcontour\":[{\"type\":\"histogram2dcontour\",\"colorbar\":{\"outlinewidth\":0,\"ticks\":\"\"},\"colorscale\":[[0.0,\"#0d0887\"],[0.1111111111111111,\"#46039f\"],[0.2222222222222222,\"#7201a8\"],[0.3333333333333333,\"#9c179e\"],[0.4444444444444444,\"#bd3786\"],[0.5555555555555556,\"#d8576b\"],[0.6666666666666666,\"#ed7953\"],[0.7777777777777778,\"#fb9f3a\"],[0.8888888888888888,\"#fdca26\"],[1.0,\"#f0f921\"]]}],\"choropleth\":[{\"type\":\"choropleth\",\"colorbar\":{\"outlinewidth\":0,\"ticks\":\"\"}}],\"histogram2d\":[{\"type\":\"histogram2d\",\"colorbar\":{\"outlinewidth\":0,\"ticks\":\"\"},\"colorscale\":[[0.0,\"#0d0887\"],[0.1111111111111111,\"#46039f\"],[0.2222222222222222,\"#7201a8\"],[0.3333333333333333,\"#9c179e\"],[0.4444444444444444,\"#bd3786\"],[0.5555555555555556,\"#d8576b\"],[0.6666666666666666,\"#ed7953\"],[0.7777777777777778,\"#fb9f3a\"],[0.8888888888888888,\"#fdca26\"],[1.0,\"#f0f921\"]]}],\"heatmap\":[{\"type\":\"heatmap\",\"colorbar\":{\"outlinewidth\":0,\"ticks\":\"\"},\"colorscale\":[[0.0,\"#0d0887\"],[0.1111111111111111,\"#46039f\"],[0.2222222222222222,\"#7201a8\"],[0.3333333333333333,\"#9c179e\"],[0.4444444444444444,\"#bd3786\"],[0.5555555555555556,\"#d8576b\"],[0.6666666666666666,\"#ed7953\"],[0.7777777777777778,\"#fb9f3a\"],[0.8888888888888888,\"#fdca26\"],[1.0,\"#f0f921\"]]}],\"heatmapgl\":[{\"type\":\"heatmapgl\",\"colorbar\":{\"outlinewidth\":0,\"ticks\":\"\"},\"colorscale\":[[0.0,\"#0d0887\"],[0.1111111111111111,\"#46039f\"],[0.2222222222222222,\"#7201a8\"],[0.3333333333333333,\"#9c179e\"],[0.4444444444444444,\"#bd3786\"],[0.5555555555555556,\"#d8576b\"],[0.6666666666666666,\"#ed7953\"],[0.7777777777777778,\"#fb9f3a\"],[0.8888888888888888,\"#fdca26\"],[1.0,\"#f0f921\"]]}],\"contourcarpet\":[{\"type\":\"contourcarpet\",\"colorbar\":{\"outlinewidth\":0,\"ticks\":\"\"}}],\"contour\":[{\"type\":\"contour\",\"colorbar\":{\"outlinewidth\":0,\"ticks\":\"\"},\"colorscale\":[[0.0,\"#0d0887\"],[0.1111111111111111,\"#46039f\"],[0.2222222222222222,\"#7201a8\"],[0.3333333333333333,\"#9c179e\"],[0.4444444444444444,\"#bd3786\"],[0.5555555555555556,\"#d8576b\"],[0.6666666666666666,\"#ed7953\"],[0.7777777777777778,\"#fb9f3a\"],[0.8888888888888888,\"#fdca26\"],[1.0,\"#f0f921\"]]}],\"surface\":[{\"type\":\"surface\",\"colorbar\":{\"outlinewidth\":0,\"ticks\":\"\"},\"colorscale\":[[0.0,\"#0d0887\"],[0.1111111111111111,\"#46039f\"],[0.2222222222222222,\"#7201a8\"],[0.3333333333333333,\"#9c179e\"],[0.4444444444444444,\"#bd3786\"],[0.5555555555555556,\"#d8576b\"],[0.6666666666666666,\"#ed7953\"],[0.7777777777777778,\"#fb9f3a\"],[0.8888888888888888,\"#fdca26\"],[1.0,\"#f0f921\"]]}],\"mesh3d\":[{\"type\":\"mesh3d\",\"colorbar\":{\"outlinewidth\":0,\"ticks\":\"\"}}],\"scatter\":[{\"fillpattern\":{\"fillmode\":\"overlay\",\"size\":10,\"solidity\":0.2},\"type\":\"scatter\"}],\"parcoords\":[{\"type\":\"parcoords\",\"line\":{\"colorbar\":{\"outlinewidth\":0,\"ticks\":\"\"}}}],\"scatterpolargl\":[{\"type\":\"scatterpolargl\",\"marker\":{\"colorbar\":{\"outlinewidth\":0,\"ticks\":\"\"}}}],\"bar\":[{\"error_x\":{\"color\":\"#2a3f5f\"},\"error_y\":{\"color\":\"#2a3f5f\"},\"marker\":{\"line\":{\"color\":\"#E5ECF6\",\"width\":0.5},\"pattern\":{\"fillmode\":\"overlay\",\"size\":10,\"solidity\":0.2}},\"type\":\"bar\"}],\"scattergeo\":[{\"type\":\"scattergeo\",\"marker\":{\"colorbar\":{\"outlinewidth\":0,\"ticks\":\"\"}}}],\"scatterpolar\":[{\"type\":\"scatterpolar\",\"marker\":{\"colorbar\":{\"outlinewidth\":0,\"ticks\":\"\"}}}],\"histogram\":[{\"marker\":{\"pattern\":{\"fillmode\":\"overlay\",\"size\":10,\"solidity\":0.2}},\"type\":\"histogram\"}],\"scattergl\":[{\"type\":\"scattergl\",\"marker\":{\"colorbar\":{\"outlinewidth\":0,\"ticks\":\"\"}}}],\"scatter3d\":[{\"type\":\"scatter3d\",\"line\":{\"colorbar\":{\"outlinewidth\":0,\"ticks\":\"\"}},\"marker\":{\"colorbar\":{\"outlinewidth\":0,\"ticks\":\"\"}}}],\"scattermapbox\":[{\"type\":\"scattermapbox\",\"marker\":{\"colorbar\":{\"outlinewidth\":0,\"ticks\":\"\"}}}],\"scatterternary\":[{\"type\":\"scatterternary\",\"marker\":{\"colorbar\":{\"outlinewidth\":0,\"ticks\":\"\"}}}],\"scattercarpet\":[{\"type\":\"scattercarpet\",\"marker\":{\"colorbar\":{\"outlinewidth\":0,\"ticks\":\"\"}}}],\"carpet\":[{\"aaxis\":{\"endlinecolor\":\"#2a3f5f\",\"gridcolor\":\"white\",\"linecolor\":\"white\",\"minorgridcolor\":\"white\",\"startlinecolor\":\"#2a3f5f\"},\"baxis\":{\"endlinecolor\":\"#2a3f5f\",\"gridcolor\":\"white\",\"linecolor\":\"white\",\"minorgridcolor\":\"white\",\"startlinecolor\":\"#2a3f5f\"},\"type\":\"carpet\"}],\"table\":[{\"cells\":{\"fill\":{\"color\":\"#EBF0F8\"},\"line\":{\"color\":\"white\"}},\"header\":{\"fill\":{\"color\":\"#C8D4E3\"},\"line\":{\"color\":\"white\"}},\"type\":\"table\"}],\"barpolar\":[{\"marker\":{\"line\":{\"color\":\"#E5ECF6\",\"width\":0.5},\"pattern\":{\"fillmode\":\"overlay\",\"size\":10,\"solidity\":0.2}},\"type\":\"barpolar\"}],\"pie\":[{\"automargin\":true,\"type\":\"pie\"}]},\"layout\":{\"autotypenumbers\":\"strict\",\"colorway\":[\"#636efa\",\"#EF553B\",\"#00cc96\",\"#ab63fa\",\"#FFA15A\",\"#19d3f3\",\"#FF6692\",\"#B6E880\",\"#FF97FF\",\"#FECB52\"],\"font\":{\"color\":\"#2a3f5f\"},\"hovermode\":\"closest\",\"hoverlabel\":{\"align\":\"left\"},\"paper_bgcolor\":\"white\",\"plot_bgcolor\":\"#E5ECF6\",\"polar\":{\"bgcolor\":\"#E5ECF6\",\"angularaxis\":{\"gridcolor\":\"white\",\"linecolor\":\"white\",\"ticks\":\"\"},\"radialaxis\":{\"gridcolor\":\"white\",\"linecolor\":\"white\",\"ticks\":\"\"}},\"ternary\":{\"bgcolor\":\"#E5ECF6\",\"aaxis\":{\"gridcolor\":\"white\",\"linecolor\":\"white\",\"ticks\":\"\"},\"baxis\":{\"gridcolor\":\"white\",\"linecolor\":\"white\",\"ticks\":\"\"},\"caxis\":{\"gridcolor\":\"white\",\"linecolor\":\"white\",\"ticks\":\"\"}},\"coloraxis\":{\"colorbar\":{\"outlinewidth\":0,\"ticks\":\"\"}},\"colorscale\":{\"sequential\":[[0.0,\"#0d0887\"],[0.1111111111111111,\"#46039f\"],[0.2222222222222222,\"#7201a8\"],[0.3333333333333333,\"#9c179e\"],[0.4444444444444444,\"#bd3786\"],[0.5555555555555556,\"#d8576b\"],[0.6666666666666666,\"#ed7953\"],[0.7777777777777778,\"#fb9f3a\"],[0.8888888888888888,\"#fdca26\"],[1.0,\"#f0f921\"]],\"sequentialminus\":[[0.0,\"#0d0887\"],[0.1111111111111111,\"#46039f\"],[0.2222222222222222,\"#7201a8\"],[0.3333333333333333,\"#9c179e\"],[0.4444444444444444,\"#bd3786\"],[0.5555555555555556,\"#d8576b\"],[0.6666666666666666,\"#ed7953\"],[0.7777777777777778,\"#fb9f3a\"],[0.8888888888888888,\"#fdca26\"],[1.0,\"#f0f921\"]],\"diverging\":[[0,\"#8e0152\"],[0.1,\"#c51b7d\"],[0.2,\"#de77ae\"],[0.3,\"#f1b6da\"],[0.4,\"#fde0ef\"],[0.5,\"#f7f7f7\"],[0.6,\"#e6f5d0\"],[0.7,\"#b8e186\"],[0.8,\"#7fbc41\"],[0.9,\"#4d9221\"],[1,\"#276419\"]]},\"xaxis\":{\"gridcolor\":\"white\",\"linecolor\":\"white\",\"ticks\":\"\",\"title\":{\"standoff\":15},\"zerolinecolor\":\"white\",\"automargin\":true,\"zerolinewidth\":2},\"yaxis\":{\"gridcolor\":\"white\",\"linecolor\":\"white\",\"ticks\":\"\",\"title\":{\"standoff\":15},\"zerolinecolor\":\"white\",\"automargin\":true,\"zerolinewidth\":2},\"scene\":{\"xaxis\":{\"backgroundcolor\":\"#E5ECF6\",\"gridcolor\":\"white\",\"linecolor\":\"white\",\"showbackground\":true,\"ticks\":\"\",\"zerolinecolor\":\"white\",\"gridwidth\":2},\"yaxis\":{\"backgroundcolor\":\"#E5ECF6\",\"gridcolor\":\"white\",\"linecolor\":\"white\",\"showbackground\":true,\"ticks\":\"\",\"zerolinecolor\":\"white\",\"gridwidth\":2},\"zaxis\":{\"backgroundcolor\":\"#E5ECF6\",\"gridcolor\":\"white\",\"linecolor\":\"white\",\"showbackground\":true,\"ticks\":\"\",\"zerolinecolor\":\"white\",\"gridwidth\":2}},\"shapedefaults\":{\"line\":{\"color\":\"#2a3f5f\"}},\"annotationdefaults\":{\"arrowcolor\":\"#2a3f5f\",\"arrowhead\":0,\"arrowwidth\":1},\"geo\":{\"bgcolor\":\"white\",\"landcolor\":\"#E5ECF6\",\"subunitcolor\":\"white\",\"showland\":true,\"showlakes\":true,\"lakecolor\":\"white\"},\"title\":{\"x\":0.05},\"mapbox\":{\"style\":\"light\"}}},\"xaxis\":{\"anchor\":\"y\",\"domain\":[0.0,1.0],\"title\":{\"text\":\"Location\"}},\"yaxis\":{\"anchor\":\"x\",\"domain\":[0.0,1.0],\"title\":{\"text\":\"Time to Close\"}},\"legend\":{\"tracegroupgap\":0},\"title\":{\"text\":\"Time to Close Distribution by Location\"},\"boxmode\":\"group\"},                        {\"responsive\": true}                    ).then(function(){\n",
              "                            \n",
              "var gd = document.getElementById('b01f3b3e-30f5-4ed8-aa00-bf63319835a5');\n",
              "var x = new MutationObserver(function (mutations, observer) {{\n",
              "        var display = window.getComputedStyle(gd).display;\n",
              "        if (!display || display === 'none') {{\n",
              "            console.log([gd, 'removed!']);\n",
              "            Plotly.purge(gd);\n",
              "            observer.disconnect();\n",
              "        }}\n",
              "}});\n",
              "\n",
              "// Listen for the removal of the full notebook cells\n",
              "var notebookContainer = gd.closest('#notebook-container');\n",
              "if (notebookContainer) {{\n",
              "    x.observe(notebookContainer, {childList: true});\n",
              "}}\n",
              "\n",
              "// Listen for the clearing of the current output cell\n",
              "var outputEl = gd.closest('.output');\n",
              "if (outputEl) {{\n",
              "    x.observe(outputEl, {childList: true});\n",
              "}}\n",
              "\n",
              "                        })                };                            </script>        </div>\n",
              "</body>\n",
              "</html>"
            ]
          },
          "metadata": {}
        }
      ],
      "source": [
        "# Create a box plot\n",
        "fig = px.box(df, x='location', y='time_to_close', title='Time to Close Distribution by Location')\n",
        "\n",
        "# Customize the plot\n",
        "fig.update_xaxes(title='Location')\n",
        "fig.update_yaxes(title='Time to Close')\n",
        "\n",
        "# Show the plot\n",
        "fig.show()"
      ]
    },
    {
      "cell_type": "markdown",
      "id": "546ae2e8",
      "metadata": {
        "papermill": {
          "duration": 0.01075,
          "end_time": "2023-10-03T02:53:00.470107",
          "exception": false,
          "start_time": "2023-10-03T02:53:00.459357",
          "status": "completed"
        },
        "tags": [],
        "id": "546ae2e8"
      },
      "source": [
        "Outliers from the box and whisker plot are to be removed for better comparision."
      ]
    },
    {
      "cell_type": "code",
      "execution_count": 21,
      "id": "19a75747",
      "metadata": {
        "execution": {
          "iopub.execute_input": "2023-10-03T02:53:00.499778Z",
          "iopub.status.busy": "2023-10-03T02:53:00.498745Z",
          "iopub.status.idle": "2023-10-03T02:53:00.570355Z",
          "shell.execute_reply": "2023-10-03T02:53:00.569258Z"
        },
        "id": "19a75747",
        "outputId": "6f0c102c-9460-452b-d6c4-5a4541de0cf9",
        "papermill": {
          "duration": 0.090115,
          "end_time": "2023-10-03T02:53:00.572833",
          "exception": false,
          "start_time": "2023-10-03T02:53:00.482718",
          "status": "completed"
        },
        "tags": [],
        "colab": {
          "base_uri": "https://localhost:8080/",
          "height": 542
        }
      },
      "outputs": [
        {
          "output_type": "display_data",
          "data": {
            "text/html": [
              "<html>\n",
              "<head><meta charset=\"utf-8\" /></head>\n",
              "<body>\n",
              "    <div>            <script src=\"https://cdnjs.cloudflare.com/ajax/libs/mathjax/2.7.5/MathJax.js?config=TeX-AMS-MML_SVG\"></script><script type=\"text/javascript\">if (window.MathJax && window.MathJax.Hub && window.MathJax.Hub.Config) {window.MathJax.Hub.Config({SVG: {font: \"STIX-Web\"}});}</script>                <script type=\"text/javascript\">window.PlotlyConfig = {MathJaxConfig: 'local'};</script>\n",
              "        <script charset=\"utf-8\" src=\"https://cdn.plot.ly/plotly-2.24.1.min.js\"></script>                <div id=\"a15d34fe-f0f6-47a9-b6a1-86d97456793d\" class=\"plotly-graph-div\" style=\"height:525px; width:100%;\"></div>            <script type=\"text/javascript\">                                    window.PLOTLYENV=window.PLOTLYENV || {};                                    if (document.getElementById(\"a15d34fe-f0f6-47a9-b6a1-86d97456793d\")) {                    Plotly.newPlot(                        \"a15d34fe-f0f6-47a9-b6a1-86d97456793d\",                        [{\"alignmentgroup\":\"True\",\"hovertemplate\":\"location=%{x}\\u003cbr\\u003etime_to_close=%{y}\\u003cextra\\u003e\\u003c\\u002fextra\\u003e\",\"legendgroup\":\"\",\"marker\":{\"color\":\"#636efa\"},\"name\":\"\",\"notched\":false,\"offsetgroup\":\"\",\"orientation\":\"v\",\"showlegend\":false,\"x\":[\"FORTALEZA\",\"SAO LUIS\",\"FORTALEZA\",\"RECIFE\",\"NATAL\",\"SAO LUIS\",\"SAO LUIS\",\"RECIFE\",\"NATAL\",\"SAO LUIS\",\"SAO LUIS\",\"SAO LUIS\",\"RECIFE\",\"NATAL\",\"NATAL\",\"RECIFE\",\"FORTALEZA\",\"SAO LUIS\",\"RECIFE\",\"FORTALEZA\",\"FORTALEZA\",\"NATAL\",\"SAO LUIS\",\"RECIFE\",\"FORTALEZA\",\"SAO LUIS\",\"SAO LUIS\",\"RECIFE\",\"SAO LUIS\",\"RECIFE\",\"FORTALEZA\",\"NATAL\",\"NATAL\",\"SAO LUIS\",\"RECIFE\",\"SAO LUIS\",\"SAO LUIS\",\"RECIFE\",\"SAO LUIS\",\"RECIFE\",\"SAO LUIS\",\"FORTALEZA\",\"NATAL\",\"RECIFE\",\"SAO LUIS\",\"SAO LUIS\",\"NATAL\",\"FORTALEZA\",\"RECIFE\",\"SAO LUIS\",\"SAO LUIS\",\"NATAL\",\"RECIFE\",\"FORTALEZA\",\"FORTALEZA\",\"RECIFE\",\"SAO LUIS\",\"RECIFE\",\"RECIFE\",\"NATAL\",\"RECIFE\",\"RECIFE\",\"RECIFE\",\"RECIFE\",\"RECIFE\",\"NATAL\",\"SAO LUIS\",\"RECIFE\",\"RECIFE\",\"SAO LUIS\",\"FORTALEZA\",\"FORTALEZA\",\"SAO LUIS\",\"NATAL\",\"RECIFE\",\"RECIFE\",\"SAO LUIS\",\"RECIFE\",\"SAO LUIS\",\"NATAL\",\"RECIFE\",\"NATAL\",\"RECIFE\",\"RECIFE\",\"RECIFE\",\"FORTALEZA\",\"SAO LUIS\",\"RECIFE\",\"FORTALEZA\",\"RECIFE\",\"SAO LUIS\",\"RECIFE\",\"RECIFE\",\"SAO LUIS\",\"RECIFE\",\"FORTALEZA\",\"RECIFE\",\"RECIFE\",\"RECIFE\",\"SAO LUIS\",\"RECIFE\",\"SAO LUIS\",\"NATAL\",\"FORTALEZA\",\"RECIFE\",\"RECIFE\",\"RECIFE\",\"RECIFE\",\"FORTALEZA\",\"FORTALEZA\",\"RECIFE\",\"RECIFE\",\"FORTALEZA\",\"SAO LUIS\",\"SAO LUIS\",\"RECIFE\",\"FORTALEZA\",\"RECIFE\",\"FORTALEZA\",\"RECIFE\",\"RECIFE\",\"SAO LUIS\",\"SAO LUIS\",\"RECIFE\",\"RECIFE\",\"SAO LUIS\",\"NATAL\",\"RECIFE\",\"RECIFE\",\"RECIFE\",\"RECIFE\",\"RECIFE\",\"RECIFE\",\"SAO LUIS\",\"RECIFE\",\"NATAL\",\"RECIFE\",\"RECIFE\",\"SAO LUIS\",\"SAO LUIS\",\"SAO LUIS\",\"FORTALEZA\",\"NATAL\",\"RECIFE\",\"RECIFE\",\"NATAL\",\"RECIFE\",\"RECIFE\",\"RECIFE\",\"FORTALEZA\",\"NATAL\",\"RECIFE\",\"RECIFE\",\"NATAL\",\"SAO LUIS\",\"RECIFE\",\"FORTALEZA\",\"RECIFE\",\"NATAL\",\"RECIFE\",\"RECIFE\",\"FORTALEZA\",\"FORTALEZA\",\"FORTALEZA\",\"FORTALEZA\",\"SAO LUIS\",\"FORTALEZA\",\"SAO LUIS\",\"RECIFE\",\"RECIFE\",\"RECIFE\",\"RECIFE\",\"RECIFE\",\"RECIFE\",\"NATAL\",\"SAO LUIS\",\"FORTALEZA\",\"RECIFE\",\"RECIFE\",\"RECIFE\",\"SAO LUIS\",\"NATAL\",\"SAO LUIS\",\"RECIFE\",\"RECIFE\",\"SAO LUIS\",\"SAO LUIS\",\"SAO LUIS\",\"RECIFE\",\"NATAL\",\"RECIFE\",\"RECIFE\",\"SAO LUIS\",\"RECIFE\",\"SAO LUIS\",\"FORTALEZA\",\"NATAL\",\"RECIFE\",\"RECIFE\",\"RECIFE\",\"FORTALEZA\",\"NATAL\",\"RECIFE\",\"RECIFE\",\"RECIFE\",\"RECIFE\",\"NATAL\",\"RECIFE\",\"SAO LUIS\",\"NATAL\",\"RECIFE\",\"RECIFE\",\"RECIFE\",\"RECIFE\",\"RECIFE\",\"NATAL\",\"FORTALEZA\",\"NATAL\",\"RECIFE\",\"RECIFE\",\"NATAL\",\"RECIFE\",\"NATAL\",\"FORTALEZA\",\"RECIFE\",\"RECIFE\",\"SAO LUIS\",\"NATAL\",\"RECIFE\",\"RECIFE\",\"NATAL\",\"RECIFE\",\"SAO LUIS\",\"RECIFE\",\"SAO LUIS\",\"SAO LUIS\",\"RECIFE\",\"RECIFE\",\"SAO LUIS\",\"SAO LUIS\",\"SAO LUIS\",\"FORTALEZA\",\"RECIFE\",\"SAO LUIS\",\"SAO LUIS\",\"RECIFE\",\"SAO LUIS\",\"RECIFE\",\"SAO LUIS\",\"FORTALEZA\",\"RECIFE\",\"RECIFE\",\"RECIFE\",\"RECIFE\",\"SAO LUIS\",\"RECIFE\",\"RECIFE\",\"RECIFE\",\"RECIFE\",\"SAO LUIS\",\"RECIFE\",\"FORTALEZA\",\"RECIFE\",\"RECIFE\",\"FORTALEZA\",\"SAO LUIS\",\"RECIFE\",\"RECIFE\",\"SAO LUIS\",\"RECIFE\",\"FORTALEZA\",\"SAO LUIS\",\"FORTALEZA\",\"RECIFE\",\"NATAL\",\"NATAL\",\"RECIFE\",\"RECIFE\",\"NATAL\",\"FORTALEZA\",\"FORTALEZA\",\"SAO LUIS\",\"FORTALEZA\",\"RECIFE\",\"FORTALEZA\",\"SAO LUIS\",\"RECIFE\",\"NATAL\",\"FORTALEZA\",\"RECIFE\",\"NATAL\",\"SAO LUIS\",\"RECIFE\",\"RECIFE\",\"FORTALEZA\",\"RECIFE\",\"FORTALEZA\",\"SAO LUIS\",\"SAO LUIS\",\"SAO LUIS\",\"SAO LUIS\",\"FORTALEZA\",\"SAO LUIS\",\"SAO LUIS\",\"NATAL\",\"NATAL\",\"RECIFE\",\"NATAL\",\"NATAL\",\"SAO LUIS\",\"FORTALEZA\",\"SAO LUIS\",\"RECIFE\",\"RECIFE\",\"NATAL\",\"RECIFE\",\"SAO LUIS\",\"NATAL\",\"RECIFE\",\"RECIFE\",\"RECIFE\",\"NATAL\",\"RECIFE\",\"RECIFE\",\"RECIFE\",\"FORTALEZA\",\"SAO LUIS\",\"NATAL\",\"RECIFE\",\"RECIFE\",\"SAO LUIS\",\"NATAL\",\"NATAL\",\"RECIFE\",\"RECIFE\",\"NATAL\",\"RECIFE\",\"RECIFE\",\"RECIFE\",\"FORTALEZA\",\"RECIFE\",\"NATAL\",\"RECIFE\",\"RECIFE\",\"RECIFE\",\"SAO LUIS\",\"FORTALEZA\",\"SAO LUIS\",\"SAO LUIS\",\"RECIFE\",\"RECIFE\",\"SAO LUIS\",\"NATAL\",\"SAO LUIS\",\"RECIFE\",\"SAO LUIS\",\"FORTALEZA\",\"RECIFE\",\"FORTALEZA\",\"NATAL\",\"RECIFE\",\"RECIFE\",\"RECIFE\",\"SAO LUIS\",\"SAO LUIS\",\"SAO LUIS\",\"RECIFE\",\"RECIFE\",\"NATAL\",\"FORTALEZA\",\"NATAL\",\"SAO LUIS\",\"RECIFE\",\"NATAL\",\"SAO LUIS\",\"NATAL\",\"SAO LUIS\",\"RECIFE\",\"RECIFE\",\"NATAL\",\"RECIFE\",\"RECIFE\",\"SAO LUIS\",\"RECIFE\",\"NATAL\",\"FORTALEZA\",\"RECIFE\",\"RECIFE\",\"SAO LUIS\",\"FORTALEZA\",\"RECIFE\",\"FORTALEZA\",\"FORTALEZA\",\"RECIFE\",\"RECIFE\",\"NATAL\",\"RECIFE\",\"SAO LUIS\",\"FORTALEZA\",\"RECIFE\",\"RECIFE\",\"NATAL\",\"SAO LUIS\",\"RECIFE\",\"SAO LUIS\",\"RECIFE\",\"RECIFE\",\"RECIFE\",\"FORTALEZA\",\"SAO LUIS\",\"RECIFE\",\"RECIFE\",\"RECIFE\",\"RECIFE\",\"FORTALEZA\",\"RECIFE\",\"SAO LUIS\",\"FORTALEZA\",\"FORTALEZA\",\"RECIFE\",\"RECIFE\",\"NATAL\",\"NATAL\",\"FORTALEZA\",\"RECIFE\",\"FORTALEZA\",\"FORTALEZA\",\"RECIFE\",\"SAO LUIS\",\"NATAL\",\"RECIFE\",\"FORTALEZA\",\"RECIFE\",\"RECIFE\",\"RECIFE\",\"SAO LUIS\",\"NATAL\",\"RECIFE\",\"SAO LUIS\",\"RECIFE\",\"RECIFE\",\"NATAL\",\"SAO LUIS\",\"RECIFE\",\"RECIFE\",\"SAO LUIS\",\"FORTALEZA\",\"SAO LUIS\",\"FORTALEZA\",\"RECIFE\",\"NATAL\",\"SAO LUIS\",\"SAO LUIS\",\"RECIFE\",\"NATAL\",\"SAO LUIS\",\"RECIFE\",\"SAO LUIS\",\"SAO LUIS\",\"FORTALEZA\",\"RECIFE\",\"RECIFE\",\"NATAL\",\"RECIFE\",\"SAO LUIS\",\"RECIFE\",\"SAO LUIS\",\"RECIFE\",\"NATAL\",\"NATAL\",\"SAO LUIS\",\"RECIFE\",\"RECIFE\",\"SAO LUIS\",\"SAO LUIS\",\"FORTALEZA\",\"NATAL\",\"NATAL\",\"RECIFE\",\"SAO LUIS\",\"NATAL\",\"NATAL\",\"SAO LUIS\",\"RECIFE\",\"FORTALEZA\",\"RECIFE\",\"FORTALEZA\",\"NATAL\",\"RECIFE\",\"RECIFE\",\"SAO LUIS\",\"NATAL\",\"RECIFE\",\"FORTALEZA\",\"RECIFE\",\"RECIFE\",\"RECIFE\",\"FORTALEZA\",\"NATAL\",\"RECIFE\",\"RECIFE\",\"SAO LUIS\",\"RECIFE\",\"SAO LUIS\",\"FORTALEZA\",\"SAO LUIS\",\"RECIFE\",\"SAO LUIS\",\"RECIFE\",\"RECIFE\",\"NATAL\",\"SAO LUIS\",\"RECIFE\",\"SAO LUIS\",\"SAO LUIS\",\"RECIFE\",\"RECIFE\",\"RECIFE\",\"RECIFE\",\"RECIFE\",\"NATAL\",\"NATAL\",\"SAO LUIS\",\"RECIFE\",\"RECIFE\",\"RECIFE\",\"SAO LUIS\",\"SAO LUIS\",\"FORTALEZA\",\"RECIFE\",\"RECIFE\",\"RECIFE\",\"RECIFE\",\"RECIFE\",\"NATAL\",\"SAO LUIS\",\"RECIFE\",\"RECIFE\",\"SAO LUIS\",\"RECIFE\",\"RECIFE\",\"SAO LUIS\",\"NATAL\",\"SAO LUIS\",\"RECIFE\",\"NATAL\",\"RECIFE\",\"FORTALEZA\",\"FORTALEZA\",\"RECIFE\",\"NATAL\",\"SAO LUIS\",\"RECIFE\",\"RECIFE\",\"RECIFE\",\"RECIFE\",\"NATAL\",\"RECIFE\",\"RECIFE\",\"FORTALEZA\",\"RECIFE\",\"RECIFE\",\"SAO LUIS\",\"RECIFE\",\"FORTALEZA\",\"RECIFE\",\"SAO LUIS\",\"FORTALEZA\",\"FORTALEZA\",\"RECIFE\",\"RECIFE\",\"RECIFE\",\"RECIFE\",\"FORTALEZA\",\"RECIFE\",\"RECIFE\",\"RECIFE\",\"FORTALEZA\",\"SAO LUIS\",\"RECIFE\",\"SAO LUIS\",\"SAO LUIS\",\"NATAL\",\"NATAL\",\"SAO LUIS\",\"RECIFE\",\"FORTALEZA\",\"FORTALEZA\",\"RECIFE\",\"RECIFE\",\"RECIFE\",\"SAO LUIS\",\"SAO LUIS\",\"RECIFE\",\"RECIFE\",\"SAO LUIS\",\"SAO LUIS\",\"SAO LUIS\",\"NATAL\",\"RECIFE\",\"RECIFE\",\"FORTALEZA\",\"RECIFE\",\"SAO LUIS\",\"NATAL\",\"FORTALEZA\",\"RECIFE\",\"SAO LUIS\",\"RECIFE\",\"NATAL\",\"NATAL\",\"RECIFE\",\"SAO LUIS\",\"SAO LUIS\",\"RECIFE\",\"NATAL\",\"RECIFE\",\"RECIFE\",\"NATAL\",\"RECIFE\",\"NATAL\",\"RECIFE\",\"RECIFE\",\"RECIFE\",\"NATAL\",\"NATAL\",\"RECIFE\",\"RECIFE\",\"NATAL\",\"RECIFE\",\"RECIFE\",\"NATAL\",\"RECIFE\",\"RECIFE\",\"RECIFE\",\"FORTALEZA\",\"SAO LUIS\",\"RECIFE\",\"RECIFE\",\"NATAL\",\"SAO LUIS\",\"NATAL\",\"NATAL\",\"SAO LUIS\",\"SAO LUIS\",\"RECIFE\",\"RECIFE\",\"RECIFE\",\"RECIFE\",\"SAO LUIS\",\"NATAL\",\"RECIFE\",\"SAO LUIS\",\"RECIFE\",\"RECIFE\",\"NATAL\",\"RECIFE\",\"SAO LUIS\",\"RECIFE\",\"RECIFE\",\"SAO LUIS\",\"SAO LUIS\",\"FORTALEZA\",\"SAO LUIS\",\"FORTALEZA\",\"SAO LUIS\",\"FORTALEZA\",\"RECIFE\",\"RECIFE\",\"RECIFE\",\"NATAL\",\"FORTALEZA\",\"RECIFE\",\"RECIFE\",\"SAO LUIS\",\"FORTALEZA\",\"RECIFE\",\"NATAL\",\"RECIFE\",\"RECIFE\",\"FORTALEZA\",\"NATAL\",\"FORTALEZA\",\"FORTALEZA\",\"NATAL\",\"FORTALEZA\",\"RECIFE\",\"SAO LUIS\",\"SAO LUIS\",\"FORTALEZA\",\"RECIFE\",\"RECIFE\",\"RECIFE\",\"RECIFE\",\"SAO LUIS\",\"SAO LUIS\",\"SAO LUIS\",\"RECIFE\",\"SAO LUIS\",\"NATAL\",\"SAO LUIS\",\"RECIFE\",\"RECIFE\",\"SAO LUIS\",\"NATAL\",\"RECIFE\",\"SAO LUIS\",\"SAO LUIS\",\"FORTALEZA\",\"RECIFE\",\"FORTALEZA\",\"RECIFE\",\"RECIFE\",\"FORTALEZA\",\"NATAL\",\"SAO LUIS\",\"RECIFE\",\"SAO LUIS\",\"FORTALEZA\",\"SAO LUIS\",\"FORTALEZA\",\"RECIFE\",\"SAO LUIS\",\"RECIFE\",\"SAO LUIS\",\"FORTALEZA\",\"SAO LUIS\",\"SAO LUIS\",\"SAO LUIS\",\"NATAL\",\"FORTALEZA\",\"SAO LUIS\",\"NATAL\",\"SAO LUIS\",\"RECIFE\",\"RECIFE\",\"SAO LUIS\",\"NATAL\",\"SAO LUIS\",\"FORTALEZA\",\"RECIFE\",\"FORTALEZA\",\"NATAL\",\"RECIFE\",\"FORTALEZA\",\"RECIFE\",\"RECIFE\",\"SAO LUIS\",\"RECIFE\",\"RECIFE\",\"SAO LUIS\",\"SAO LUIS\",\"RECIFE\",\"SAO LUIS\",\"FORTALEZA\",\"NATAL\",\"RECIFE\",\"RECIFE\",\"RECIFE\",\"RECIFE\",\"RECIFE\",\"FORTALEZA\",\"RECIFE\",\"NATAL\",\"RECIFE\",\"FORTALEZA\",\"NATAL\",\"NATAL\",\"NATAL\",\"SAO LUIS\",\"SAO LUIS\",\"FORTALEZA\",\"SAO LUIS\",\"RECIFE\",\"FORTALEZA\",\"FORTALEZA\",\"NATAL\",\"SAO LUIS\",\"NATAL\",\"SAO LUIS\",\"FORTALEZA\",\"NATAL\",\"FORTALEZA\",\"NATAL\",\"RECIFE\",\"RECIFE\",\"RECIFE\",\"RECIFE\",\"FORTALEZA\",\"SAO LUIS\",\"RECIFE\",\"RECIFE\",\"SAO LUIS\",\"NATAL\",\"NATAL\",\"SAO LUIS\",\"SAO LUIS\",\"RECIFE\",\"FORTALEZA\",\"RECIFE\",\"FORTALEZA\",\"RECIFE\",\"NATAL\",\"RECIFE\",\"RECIFE\",\"RECIFE\",\"RECIFE\",\"NATAL\",\"RECIFE\",\"SAO LUIS\",\"RECIFE\",\"FORTALEZA\",\"RECIFE\",\"RECIFE\",\"SAO LUIS\",\"FORTALEZA\",\"RECIFE\",\"FORTALEZA\",\"RECIFE\",\"RECIFE\",\"RECIFE\",\"RECIFE\",\"SAO LUIS\",\"NATAL\",\"NATAL\",\"NATAL\",\"RECIFE\",\"RECIFE\",\"SAO LUIS\",\"FORTALEZA\",\"RECIFE\",\"RECIFE\",\"RECIFE\",\"FORTALEZA\",\"NATAL\",\"SAO LUIS\",\"FORTALEZA\",\"RECIFE\",\"SAO LUIS\",\"SAO LUIS\",\"RECIFE\",\"SAO LUIS\",\"SAO LUIS\",\"FORTALEZA\",\"RECIFE\",\"NATAL\",\"FORTALEZA\",\"SAO LUIS\",\"RECIFE\",\"RECIFE\",\"SAO LUIS\",\"RECIFE\",\"RECIFE\",\"RECIFE\",\"SAO LUIS\",\"SAO LUIS\",\"FORTALEZA\",\"RECIFE\",\"NATAL\",\"NATAL\",\"NATAL\",\"RECIFE\",\"RECIFE\",\"RECIFE\",\"RECIFE\",\"RECIFE\",\"SAO LUIS\",\"RECIFE\",\"RECIFE\",\"RECIFE\",\"RECIFE\",\"NATAL\",\"RECIFE\",\"RECIFE\",\"RECIFE\",\"NATAL\",\"NATAL\",\"FORTALEZA\",\"RECIFE\",\"FORTALEZA\",\"RECIFE\",\"NATAL\",\"RECIFE\",\"NATAL\",\"NATAL\",\"RECIFE\",\"SAO LUIS\",\"RECIFE\",\"FORTALEZA\",\"FORTALEZA\",\"SAO LUIS\",\"SAO LUIS\",\"RECIFE\",\"RECIFE\",\"RECIFE\",\"RECIFE\",\"FORTALEZA\",\"RECIFE\",\"NATAL\",\"FORTALEZA\",\"RECIFE\",\"FORTALEZA\",\"RECIFE\",\"RECIFE\",\"RECIFE\",\"RECIFE\",\"FORTALEZA\",\"FORTALEZA\",\"RECIFE\",\"RECIFE\",\"SAO LUIS\",\"RECIFE\",\"RECIFE\",\"RECIFE\",\"SAO LUIS\",\"SAO LUIS\",\"RECIFE\",\"FORTALEZA\",\"RECIFE\",\"NATAL\",\"RECIFE\",\"RECIFE\",\"SAO LUIS\",\"RECIFE\",\"RECIFE\",\"SAO LUIS\",\"SAO LUIS\",\"RECIFE\",\"RECIFE\",\"FORTALEZA\",\"NATAL\",\"RECIFE\",\"RECIFE\",\"RECIFE\",\"RECIFE\",\"NATAL\",\"RECIFE\",\"NATAL\",\"RECIFE\",\"NATAL\",\"FORTALEZA\",\"FORTALEZA\",\"FORTALEZA\",\"FORTALEZA\",\"SAO LUIS\",\"RECIFE\",\"FORTALEZA\",\"RECIFE\",\"SAO LUIS\",\"RECIFE\",\"SAO LUIS\",\"FORTALEZA\",\"SAO LUIS\",\"RECIFE\",\"RECIFE\",\"RECIFE\",\"RECIFE\",\"RECIFE\",\"SAO LUIS\",\"SAO LUIS\",\"NATAL\",\"RECIFE\",\"RECIFE\",\"RECIFE\",\"FORTALEZA\",\"NATAL\",\"RECIFE\",\"RECIFE\",\"RECIFE\",\"NATAL\",\"RECIFE\",\"RECIFE\",\"RECIFE\",\"FORTALEZA\",\"RECIFE\",\"FORTALEZA\",\"RECIFE\",\"RECIFE\",\"RECIFE\",\"RECIFE\",\"RECIFE\",\"NATAL\",\"SAO LUIS\",\"NATAL\",\"SAO LUIS\",\"NATAL\",\"RECIFE\",\"RECIFE\",\"SAO LUIS\",\"SAO LUIS\",\"FORTALEZA\",\"RECIFE\",\"RECIFE\",\"RECIFE\",\"RECIFE\",\"RECIFE\",\"RECIFE\",\"RECIFE\",\"FORTALEZA\",\"SAO LUIS\",\"RECIFE\",\"RECIFE\",\"RECIFE\",\"FORTALEZA\",\"SAO LUIS\",\"FORTALEZA\",\"FORTALEZA\",\"SAO LUIS\",\"NATAL\",\"SAO LUIS\",\"NATAL\",\"FORTALEZA\",\"NATAL\",\"NATAL\",\"RECIFE\",\"FORTALEZA\",\"RECIFE\",\"RECIFE\",\"SAO LUIS\",\"SAO LUIS\",\"SAO LUIS\",\"FORTALEZA\",\"SAO LUIS\",\"SAO LUIS\",\"SAO LUIS\",\"SAO LUIS\",\"RECIFE\",\"SAO LUIS\",\"RECIFE\",\"RECIFE\",\"FORTALEZA\",\"RECIFE\",\"SAO LUIS\",\"RECIFE\",\"RECIFE\",\"SAO LUIS\",\"RECIFE\",\"SAO LUIS\",\"FORTALEZA\",\"RECIFE\",\"NATAL\",\"RECIFE\",\"SAO LUIS\",\"SAO LUIS\",\"RECIFE\",\"RECIFE\",\"RECIFE\",\"SAO LUIS\",\"NATAL\",\"SAO LUIS\",\"SAO LUIS\",\"SAO LUIS\",\"NATAL\",\"RECIFE\",\"FORTALEZA\",\"RECIFE\",\"NATAL\",\"SAO LUIS\",\"RECIFE\",\"SAO LUIS\",\"SAO LUIS\",\"RECIFE\",\"SAO LUIS\",\"RECIFE\",\"NATAL\",\"SAO LUIS\",\"FORTALEZA\",\"RECIFE\",\"SAO LUIS\",\"RECIFE\",\"RECIFE\",\"RECIFE\",\"SAO LUIS\",\"RECIFE\",\"NATAL\",\"RECIFE\",\"RECIFE\",\"RECIFE\",\"SAO LUIS\",\"RECIFE\",\"FORTALEZA\",\"SAO LUIS\",\"SAO LUIS\",\"NATAL\",\"RECIFE\",\"RECIFE\",\"RECIFE\",\"RECIFE\",\"FORTALEZA\",\"RECIFE\",\"FORTALEZA\",\"FORTALEZA\",\"SAO LUIS\",\"SAO LUIS\",\"RECIFE\",\"RECIFE\",\"RECIFE\",\"RECIFE\",\"FORTALEZA\",\"RECIFE\",\"FORTALEZA\",\"SAO LUIS\",\"SAO LUIS\",\"SAO LUIS\",\"RECIFE\",\"SAO LUIS\",\"RECIFE\",\"SAO LUIS\",\"FORTALEZA\",\"RECIFE\",\"RECIFE\",\"RECIFE\",\"SAO LUIS\",\"RECIFE\",\"SAO LUIS\",\"NATAL\",\"SAO LUIS\",\"RECIFE\",\"SAO LUIS\",\"RECIFE\",\"RECIFE\",\"SAO LUIS\",\"SAO LUIS\",\"SAO LUIS\",\"SAO LUIS\",\"FORTALEZA\",\"SAO LUIS\",\"RECIFE\",\"RECIFE\",\"SAO LUIS\",\"NATAL\",\"RECIFE\",\"SAO LUIS\",\"SAO LUIS\",\"FORTALEZA\",\"RECIFE\",\"NATAL\",\"RECIFE\",\"FORTALEZA\",\"RECIFE\",\"RECIFE\",\"RECIFE\",\"FORTALEZA\",\"SAO LUIS\",\"RECIFE\",\"RECIFE\",\"RECIFE\",\"NATAL\",\"RECIFE\",\"NATAL\",\"SAO LUIS\",\"NATAL\",\"RECIFE\",\"FORTALEZA\",\"RECIFE\",\"RECIFE\",\"FORTALEZA\",\"RECIFE\",\"FORTALEZA\",\"FORTALEZA\",\"SAO LUIS\",\"FORTALEZA\",\"NATAL\",\"RECIFE\",\"SAO LUIS\",\"RECIFE\",\"NATAL\",\"SAO LUIS\",\"SAO LUIS\",\"RECIFE\",\"RECIFE\",\"RECIFE\",\"SAO LUIS\",\"RECIFE\",\"RECIFE\",\"NATAL\",\"RECIFE\",\"RECIFE\",\"RECIFE\",\"RECIFE\",\"NATAL\",\"FORTALEZA\",\"NATAL\",\"RECIFE\",\"SAO LUIS\",\"RECIFE\",\"FORTALEZA\",\"FORTALEZA\",\"RECIFE\",\"SAO LUIS\",\"NATAL\",\"SAO LUIS\",\"RECIFE\",\"RECIFE\",\"RECIFE\",\"SAO LUIS\",\"RECIFE\",\"RECIFE\",\"SAO LUIS\",\"RECIFE\",\"RECIFE\",\"FORTALEZA\",\"SAO LUIS\",\"SAO LUIS\",\"SAO LUIS\",\"RECIFE\",\"NATAL\",\"NATAL\",\"FORTALEZA\",\"RECIFE\",\"RECIFE\",\"RECIFE\",\"SAO LUIS\",\"SAO LUIS\",\"SAO LUIS\",\"RECIFE\",\"SAO LUIS\",\"RECIFE\",\"RECIFE\",\"RECIFE\",\"NATAL\",\"RECIFE\",\"RECIFE\",\"FORTALEZA\",\"SAO LUIS\",\"SAO LUIS\",\"NATAL\",\"FORTALEZA\",\"RECIFE\",\"NATAL\",\"SAO LUIS\",\"RECIFE\",\"RECIFE\",\"FORTALEZA\",\"SAO LUIS\",\"RECIFE\",\"FORTALEZA\",\"SAO LUIS\",\"SAO LUIS\",\"FORTALEZA\",\"RECIFE\",\"RECIFE\",\"FORTALEZA\",\"SAO LUIS\",\"RECIFE\",\"FORTALEZA\",\"SAO LUIS\",\"RECIFE\",\"FORTALEZA\",\"SAO LUIS\",\"RECIFE\",\"RECIFE\",\"NATAL\",\"RECIFE\",\"SAO LUIS\",\"SAO LUIS\",\"NATAL\",\"FORTALEZA\",\"RECIFE\",\"FORTALEZA\",\"FORTALEZA\",\"NATAL\",\"NATAL\",\"FORTALEZA\",\"NATAL\",\"RECIFE\",\"RECIFE\",\"RECIFE\",\"RECIFE\",\"RECIFE\",\"RECIFE\",\"NATAL\",\"SAO LUIS\",\"SAO LUIS\",\"NATAL\",\"RECIFE\",\"SAO LUIS\",\"SAO LUIS\",\"NATAL\",\"SAO LUIS\",\"RECIFE\",\"RECIFE\",\"FORTALEZA\",\"RECIFE\",\"RECIFE\",\"SAO LUIS\",\"RECIFE\",\"SAO LUIS\",\"RECIFE\",\"FORTALEZA\",\"RECIFE\",\"RECIFE\",\"RECIFE\",\"SAO LUIS\",\"RECIFE\",\"RECIFE\",\"FORTALEZA\",\"RECIFE\",\"SAO LUIS\",\"RECIFE\",\"SAO LUIS\",\"SAO LUIS\",\"SAO LUIS\",\"RECIFE\",\"NATAL\",\"NATAL\",\"RECIFE\",\"NATAL\",\"FORTALEZA\",\"SAO LUIS\",\"FORTALEZA\",\"FORTALEZA\",\"FORTALEZA\",\"NATAL\",\"RECIFE\",\"NATAL\",\"SAO LUIS\",\"SAO LUIS\",\"RECIFE\",\"NATAL\",\"SAO LUIS\",\"NATAL\",\"SAO LUIS\",\"FORTALEZA\",\"FORTALEZA\",\"RECIFE\",\"RECIFE\",\"RECIFE\",\"SAO LUIS\",\"NATAL\",\"RECIFE\",\"RECIFE\",\"RECIFE\",\"RECIFE\",\"SAO LUIS\",\"RECIFE\",\"RECIFE\",\"RECIFE\",\"RECIFE\",\"RECIFE\",\"RECIFE\",\"NATAL\",\"RECIFE\",\"NATAL\",\"RECIFE\",\"RECIFE\",\"RECIFE\",\"NATAL\",\"SAO LUIS\",\"SAO LUIS\",\"FORTALEZA\",\"RECIFE\",\"RECIFE\",\"SAO LUIS\",\"RECIFE\",\"NATAL\",\"RECIFE\",\"SAO LUIS\",\"SAO LUIS\",\"RECIFE\",\"RECIFE\",\"FORTALEZA\",\"SAO LUIS\",\"SAO LUIS\",\"RECIFE\",\"SAO LUIS\",\"NATAL\",\"SAO LUIS\",\"RECIFE\",\"RECIFE\",\"SAO LUIS\",\"SAO LUIS\",\"SAO LUIS\",\"SAO LUIS\",\"RECIFE\",\"RECIFE\",\"SAO LUIS\",\"RECIFE\",\"FORTALEZA\",\"RECIFE\",\"RECIFE\",\"RECIFE\",\"RECIFE\",\"RECIFE\",\"SAO LUIS\",\"FORTALEZA\",\"RECIFE\",\"SAO LUIS\",\"RECIFE\",\"RECIFE\",\"RECIFE\",\"SAO LUIS\",\"SAO LUIS\",\"SAO LUIS\",\"NATAL\",\"RECIFE\",\"RECIFE\",\"SAO LUIS\",\"RECIFE\",\"RECIFE\",\"SAO LUIS\",\"RECIFE\",\"SAO LUIS\",\"FORTALEZA\",\"SAO LUIS\",\"SAO LUIS\",\"RECIFE\",\"SAO LUIS\",\"RECIFE\",\"NATAL\",\"RECIFE\",\"RECIFE\",\"NATAL\",\"RECIFE\",\"RECIFE\",\"RECIFE\",\"FORTALEZA\",\"SAO LUIS\",\"FORTALEZA\",\"SAO LUIS\",\"SAO LUIS\",\"RECIFE\",\"RECIFE\",\"FORTALEZA\",\"RECIFE\",\"FORTALEZA\",\"SAO LUIS\",\"FORTALEZA\",\"RECIFE\",\"FORTALEZA\",\"RECIFE\",\"RECIFE\",\"FORTALEZA\",\"RECIFE\",\"RECIFE\",\"NATAL\",\"NATAL\",\"RECIFE\",\"RECIFE\",\"FORTALEZA\",\"SAO LUIS\",\"SAO LUIS\",\"RECIFE\",\"RECIFE\",\"SAO LUIS\",\"RECIFE\",\"FORTALEZA\",\"NATAL\",\"RECIFE\",\"SAO LUIS\",\"RECIFE\",\"RECIFE\",\"RECIFE\",\"FORTALEZA\",\"SAO LUIS\",\"SAO LUIS\",\"RECIFE\",\"SAO LUIS\",\"RECIFE\",\"RECIFE\",\"FORTALEZA\",\"FORTALEZA\",\"RECIFE\",\"FORTALEZA\",\"FORTALEZA\",\"FORTALEZA\",\"RECIFE\",\"RECIFE\",\"SAO LUIS\",\"RECIFE\",\"NATAL\",\"SAO LUIS\",\"RECIFE\",\"RECIFE\",\"SAO LUIS\",\"SAO LUIS\",\"RECIFE\",\"SAO LUIS\",\"RECIFE\",\"RECIFE\",\"FORTALEZA\",\"FORTALEZA\",\"RECIFE\",\"SAO LUIS\",\"NATAL\",\"RECIFE\",\"SAO LUIS\",\"NATAL\",\"SAO LUIS\",\"FORTALEZA\",\"RECIFE\",\"SAO LUIS\",\"SAO LUIS\",\"RECIFE\",\"SAO LUIS\",\"SAO LUIS\",\"SAO LUIS\",\"RECIFE\",\"SAO LUIS\",\"RECIFE\",\"RECIFE\",\"FORTALEZA\",\"SAO LUIS\",\"NATAL\",\"RECIFE\",\"SAO LUIS\",\"RECIFE\",\"RECIFE\",\"RECIFE\",\"SAO LUIS\",\"RECIFE\",\"SAO LUIS\",\"SAO LUIS\",\"SAO LUIS\",\"SAO LUIS\",\"RECIFE\",\"RECIFE\",\"RECIFE\",\"NATAL\",\"RECIFE\",\"RECIFE\",\"RECIFE\",\"NATAL\",\"RECIFE\",\"NATAL\",\"FORTALEZA\",\"RECIFE\",\"RECIFE\",\"RECIFE\",\"SAO LUIS\",\"RECIFE\",\"SAO LUIS\",\"FORTALEZA\",\"RECIFE\",\"SAO LUIS\",\"NATAL\",\"RECIFE\",\"FORTALEZA\",\"FORTALEZA\",\"NATAL\",\"RECIFE\",\"FORTALEZA\",\"RECIFE\",\"FORTALEZA\",\"NATAL\",\"RECIFE\",\"SAO LUIS\",\"NATAL\",\"SAO LUIS\",\"RECIFE\",\"FORTALEZA\",\"RECIFE\",\"RECIFE\",\"RECIFE\",\"RECIFE\",\"RECIFE\",\"FORTALEZA\",\"RECIFE\",\"SAO LUIS\",\"NATAL\",\"NATAL\",\"FORTALEZA\",\"FORTALEZA\",\"RECIFE\",\"RECIFE\",\"NATAL\",\"FORTALEZA\",\"RECIFE\",\"NATAL\",\"RECIFE\",\"RECIFE\",\"FORTALEZA\",\"RECIFE\",\"RECIFE\",\"FORTALEZA\",\"NATAL\",\"NATAL\",\"SAO LUIS\",\"RECIFE\",\"SAO LUIS\",\"SAO LUIS\",\"FORTALEZA\",\"SAO LUIS\",\"RECIFE\",\"NATAL\",\"RECIFE\",\"RECIFE\",\"NATAL\",\"RECIFE\",\"SAO LUIS\",\"FORTALEZA\",\"FORTALEZA\",\"RECIFE\",\"RECIFE\",\"RECIFE\",\"SAO LUIS\",\"SAO LUIS\",\"SAO LUIS\",\"SAO LUIS\",\"SAO LUIS\",\"SAO LUIS\",\"SAO LUIS\",\"RECIFE\",\"RECIFE\",\"RECIFE\",\"RECIFE\",\"RECIFE\",\"FORTALEZA\",\"RECIFE\",\"SAO LUIS\",\"SAO LUIS\",\"FORTALEZA\",\"RECIFE\",\"RECIFE\",\"RECIFE\",\"SAO LUIS\",\"SAO LUIS\",\"RECIFE\",\"RECIFE\",\"SAO LUIS\",\"RECIFE\",\"NATAL\",\"FORTALEZA\",\"RECIFE\",\"FORTALEZA\",\"RECIFE\",\"NATAL\",\"SAO LUIS\",\"FORTALEZA\",\"RECIFE\",\"RECIFE\",\"RECIFE\",\"SAO LUIS\",\"SAO LUIS\",\"SAO LUIS\",\"SAO LUIS\",\"NATAL\",\"NATAL\",\"FORTALEZA\",\"SAO LUIS\",\"RECIFE\",\"NATAL\",\"SAO LUIS\",\"FORTALEZA\",\"FORTALEZA\",\"SAO LUIS\",\"RECIFE\",\"SAO LUIS\",\"RECIFE\",\"SAO LUIS\",\"FORTALEZA\",\"RECIFE\",\"RECIFE\",\"SAO LUIS\",\"RECIFE\",\"FORTALEZA\",\"SAO LUIS\",\"NATAL\",\"FORTALEZA\",\"SAO LUIS\",\"SAO LUIS\",\"RECIFE\",\"RECIFE\",\"SAO LUIS\",\"FORTALEZA\",\"RECIFE\",\"RECIFE\",\"SAO LUIS\",\"SAO LUIS\",\"FORTALEZA\",\"RECIFE\",\"RECIFE\",\"FORTALEZA\",\"NATAL\",\"FORTALEZA\",\"RECIFE\",\"FORTALEZA\",\"NATAL\",\"RECIFE\",\"SAO LUIS\",\"SAO LUIS\",\"NATAL\",\"RECIFE\",\"RECIFE\",\"SAO LUIS\",\"RECIFE\",\"RECIFE\",\"RECIFE\",\"RECIFE\",\"FORTALEZA\",\"RECIFE\",\"NATAL\",\"RECIFE\",\"SAO LUIS\",\"SAO LUIS\",\"SAO LUIS\",\"NATAL\",\"RECIFE\",\"NATAL\",\"RECIFE\",\"SAO LUIS\",\"FORTALEZA\",\"FORTALEZA\",\"SAO LUIS\",\"SAO LUIS\",\"SAO LUIS\",\"SAO LUIS\",\"FORTALEZA\",\"NATAL\",\"RECIFE\",\"SAO LUIS\",\"RECIFE\",\"SAO LUIS\",\"SAO LUIS\",\"NATAL\",\"RECIFE\",\"RECIFE\",\"SAO LUIS\",\"FORTALEZA\",\"RECIFE\",\"RECIFE\",\"RECIFE\",\"SAO LUIS\",\"NATAL\",\"FORTALEZA\",\"SAO LUIS\",\"RECIFE\",\"FORTALEZA\",\"SAO LUIS\",\"RECIFE\",\"RECIFE\",\"SAO LUIS\",\"SAO LUIS\",\"SAO LUIS\",\"RECIFE\",\"RECIFE\",\"SAO LUIS\",\"RECIFE\",\"RECIFE\",\"FORTALEZA\",\"RECIFE\",\"NATAL\",\"FORTALEZA\",\"RECIFE\",\"SAO LUIS\",\"RECIFE\",\"FORTALEZA\",\"RECIFE\",\"SAO LUIS\",\"SAO LUIS\",\"NATAL\",\"SAO LUIS\",\"NATAL\",\"RECIFE\",\"RECIFE\",\"RECIFE\",\"NATAL\",\"SAO LUIS\",\"RECIFE\",\"FORTALEZA\",\"RECIFE\",\"RECIFE\",\"SAO LUIS\",\"NATAL\",\"RECIFE\",\"NATAL\",\"SAO LUIS\",\"RECIFE\",\"RECIFE\",\"NATAL\",\"FORTALEZA\",\"RECIFE\",\"RECIFE\",\"SAO LUIS\",\"RECIFE\",\"RECIFE\",\"FORTALEZA\",\"SAO LUIS\",\"RECIFE\",\"FORTALEZA\",\"FORTALEZA\",\"RECIFE\",\"NATAL\",\"NATAL\",\"NATAL\",\"NATAL\",\"RECIFE\",\"RECIFE\",\"RECIFE\",\"RECIFE\",\"SAO LUIS\",\"NATAL\",\"NATAL\",\"SAO LUIS\",\"FORTALEZA\",\"SAO LUIS\",\"RECIFE\",\"FORTALEZA\",\"NATAL\",\"RECIFE\",\"SAO LUIS\",\"NATAL\",\"FORTALEZA\",\"RECIFE\",\"SAO LUIS\",\"NATAL\",\"SAO LUIS\",\"SAO LUIS\",\"RECIFE\",\"SAO LUIS\",\"NATAL\",\"FORTALEZA\",\"FORTALEZA\",\"RECIFE\",\"FORTALEZA\",\"FORTALEZA\",\"SAO LUIS\",\"SAO LUIS\",\"RECIFE\",\"RECIFE\",\"NATAL\",\"SAO LUIS\",\"NATAL\",\"RECIFE\",\"RECIFE\",\"RECIFE\",\"NATAL\",\"RECIFE\",\"SAO LUIS\",\"FORTALEZA\",\"SAO LUIS\",\"SAO LUIS\",\"FORTALEZA\",\"SAO LUIS\",\"NATAL\",\"RECIFE\",\"NATAL\",\"SAO LUIS\",\"NATAL\",\"FORTALEZA\",\"RECIFE\",\"SAO LUIS\",\"FORTALEZA\",\"RECIFE\",\"NATAL\",\"RECIFE\",\"FORTALEZA\",\"FORTALEZA\",\"FORTALEZA\",\"FORTALEZA\",\"RECIFE\",\"RECIFE\",\"NATAL\",\"NATAL\",\"RECIFE\",\"SAO LUIS\",\"RECIFE\",\"RECIFE\",\"SAO LUIS\",\"SAO LUIS\",\"RECIFE\",\"FORTALEZA\",\"RECIFE\",\"RECIFE\",\"FORTALEZA\",\"RECIFE\",\"RECIFE\",\"FORTALEZA\",\"SAO LUIS\",\"RECIFE\",\"NATAL\",\"RECIFE\",\"RECIFE\",\"RECIFE\",\"RECIFE\",\"RECIFE\",\"FORTALEZA\",\"RECIFE\",\"RECIFE\",\"RECIFE\"],\"x0\":\" \",\"xaxis\":\"x\",\"y\":[195,183,186,138,183,190,183,149,149,180,208,175,223,265,235,229,189,195,204,129,167,119,190,177,170,148,173,184,177,172,237,184,262,136,181,161,161,146,243,233,125,166,189,178,175,111,184,195,168,192,250,185,140,248,196,196,172,189,190,192,168,130,179,215,182,181,159,105,188,109,267,142,226,185,187,153,185,180,132,157,187,181,144,149,181,187,200,172,199,142,156,138,165,208,273,148,120,178,247,238,192,134,148,195,176,184,186,160,188,148,172,245,126,179,188,226,157,175,185,127,108,218,229,167,248,238,179,167,144,118,102,143,172,175,133,186,178,227,168,182,214,175,176,165,149,190,163,234,115,173,139,171,159,204,173,210,180,144,158,139,192,240,145,195,161,186,177,183,175,158,167,180,228,155,182,124,237,166,118,227,162,119,207,256,109,174,194,171,134,175,131,212,246,165,169,230,210,163,217,169,168,182,262,179,219,177,174,180,225,229,181,207,190,171,164,177,152,130,180,203,170,146,184,213,137,203,197,261,138,224,143,206,182,159,171,193,141,137,159,179,267,149,164,235,220,146,184,171,193,182,140,181,188,178,244,169,131,273,171,171,173,135,132,228,166,196,254,219,168,191,212,219,104,192,185,176,187,121,259,197,184,178,146,171,159,190,182,202,168,245,164,198,169,243,192,206,181,199,133,177,166,175,168,162,207,139,229,231,174,164,187,231,262,232,134,180,172,119,180,186,211,180,178,160,162,143,148,182,177,143,183,110,142,166,167,160,187,198,240,222,231,180,178,168,181,173,190,171,176,194,190,167,257,113,179,173,216,270,152,186,129,173,205,173,102,221,203,210,260,272,179,208,152,175,151,98,168,167,233,178,155,131,131,172,169,193,139,181,223,177,158,133,95,158,176,196,176,144,169,170,176,182,212,199,149,160,153,173,182,229,141,118,191,182,176,134,186,174,155,220,145,225,233,153,172,158,202,205,185,180,174,160,142,169,121,166,123,190,193,133,185,180,146,174,190,165,185,156,168,232,174,164,224,214,192,249,169,183,117,183,141,176,187,241,141,155,145,159,215,140,158,156,261,172,183,121,135,155,180,160,179,113,126,167,171,138,220,153,229,231,170,170,146,164,187,218,199,178,174,118,166,136,188,147,136,163,174,160,162,166,182,221,167,196,189,174,149,257,232,111,260,142,153,189,127,184,180,187,209,179,175,169,138,155,186,184,198,178,237,106,178,241,109,98,179,235,212,177,122,234,181,218,132,253,127,125,140,122,149,184,184,176,166,125,212,169,197,116,235,136,268,238,190,248,119,142,192,144,213,175,161,107,139,168,123,203,101,213,201,190,176,101,204,223,178,268,205,181,139,244,144,184,209,127,182,174,151,215,150,228,271,131,240,197,170,159,175,159,251,186,106,182,221,162,190,183,174,243,182,191,145,149,161,158,169,132,227,177,256,159,180,95,154,182,160,166,180,165,158,181,93,175,108,179,148,181,222,185,177,151,182,138,178,161,172,177,152,184,182,136,150,172,190,268,223,137,244,208,159,168,133,171,163,187,186,122,137,141,183,191,200,222,182,245,132,193,145,186,169,194,181,187,178,237,158,159,181,211,135,126,175,162,173,190,141,185,129,117,166,192,255,161,177,227,157,105,193,179,198,227,156,178,181,263,215,175,117,205,185,197,190,113,203,238,195,181,176,243,136,178,130,142,180,164,200,102,116,160,226,194,176,193,166,221,100,135,168,111,246,184,182,190,185,197,183,187,147,173,145,93,229,141,186,168,90,189,181,173,195,179,117,129,178,126,190,123,150,176,106,191,165,264,178,165,150,229,180,199,146,183,191,180,183,244,155,203,175,189,171,176,143,125,119,127,182,152,116,162,259,143,164,186,185,271,237,166,249,185,188,165,181,127,165,191,193,158,180,204,143,234,228,185,268,250,176,225,167,154,182,246,232,142,227,187,177,210,170,164,170,113,151,225,174,199,148,263,169,152,122,156,173,96,241,176,173,206,113,163,222,172,134,242,164,172,196,97,146,187,165,233,141,200,195,170,172,184,136,191,132,139,167,133,150,118,191,242,171,180,230,216,184,205,168,166,174,179,180,237,181,186,176,123,180,144,178,174,139,173,175,224,183,238,191,164,159,253,156,264,167,207,137,235,113,92,128,182,187,149,182,119,201,203,264,135,245,260,180,183,153,246,212,132,197,206,195,157,249,91,238,206,172,157,174,133,254,180,188,175,98,131,114,171,193,219,112,223,176,163,180,161,174,165,163,238,209,191,172,125,170,187,244,186,175,260,135,173,178,176,102,191,182,216,181,244,210,168,129,159,186,204,212,132,178,158,215,183,172,180,219,154,131,130,169,147,201,210,178,195,190,168,115,175,179,253,155,190,132,203,240,224,173,111,161,176,203,177,253,188,173,131,243,181,170,153,150,135,230,166,192,177,135,198,203,220,225,183,227,261,253,157,144,174,192,180,172,140,176,268,212,144,193,221,186,196,222,177,209,197,114,196,122,243,170,189,185,177,100,185,111,174,174,240,163,168,155,207,187,212,204,193,200,152,226,151,194,187,235,178,238,202,174,189,188,236,174,106,229,139,232,168,253,195,205,164,200,133,194,124,126,184,170,225,155,172,181,141,208,203,161,178,164,209,166,169,162,166,250,150,214,176,172,246,166,173,107,176,188,179,153,111,171,179,141,173,111,136,176,140,255,204,175,239,185,232,166,123,139,148,196,262,180,180,141,108,140,105,178,199,216,136,235,185,197,178,175,186,175,187,179,129,169,146,190,182,224,175,223,220,214,184,214,193,252,164,215,188,186,148,195,185,176,152,230,208,122,157,151,117,192,178,133,200,164,141,139,124,262,181,237,166,248,203,129,242,248,162,199,161,176,145,169,184,147,167,109,216,169,119,172,167,173,122,188,196,175,208,133,167,163,266,201,226,213,175,149,176,134,157,190,124,147,185,179,177,232,189,147,198,204,237,172,228,145,259,263,265,146,258,173,168,180,117,157,175,178,183,148,167,185,193,100,172,172,140,170,172,179,176,193,230,170,154,220,219,106,178,150,228,173,185,169,211,255,177,202,179,183,229,115,157,175,112,168,104,152,159,185,164,209,135,177,203,190,184,191,226,195,181,217,190,152,189,152,128,226,177,182,178,173,124,111,170,164,179,166,189,134,201,229,124,194,195,176,171,175,184,126,156,180,189,211,199,134,176,178,220,224,264,203,174,166,224,176,254,130,260,143,113,163,116,121,136,168,229,200,167,146,134,174,229,175,220,142,199,227,261,155,109,159,179,173,195,185,189,142,103,136,100,129,180,110,101,232,188,182,118,168,178,140,109,252,170,271,139,151,221,176,165,158,179,190,224,173,164,134,195,162,186,176,119,182,184,187,170,187,180,169,180,175,185,182,178,172,140,154,174,235,174,143,163,158,156,191,168,192,148,179,200,214,176,197,174,160,134,184,172,186,174,172,241,164,180,100,244,194,247,205,186,240,119,102,174,263,170,204,158,172,200,141,168,193,179,173,174,169,187,206,215,224,186,193,175,216,178,192,232,163,109,179,169,192,244,173,177,114,220,188,137,218,182,156,237,180,231,141,248,168,247,171,130,181,184,167,187,118,166,137,170,126,108,215,120,203,201,173,102,154,155,120,166,183,178,249,180,220,154,258,187,214,150,219,150,151,180,213,199,176,194,169,149,180,99,158,198,159,167,210,109,95,89,147,191,222,250,257,201,166,177,158,253,168,222,190,120,213,198,232,99,179,205,154,152,181,176,145,194,171,202,189,193,178,163,215,182,166,156,138,133,189,266,157,199,202,254,119,195,182,178,260,123,181,171,156,119,173,127,172,161,159,197,181,157,94,125,101,100,169,161,224,176,200,181,172,247,101,153,125,168,176,218,170,246,197,180,136,242,147,123,190,164,187,261,235,184,123,157,225,211,178,261,128,204,177,172,184,233,206,170,139,192,137,210,230,172,162,181,172,228,236,258,153,128,184,155,156,96,167,201,196,134,191,176,172,218,176,212,139,123,133,254,169,125,259,175,236,201,187,114,179,269,193,140,209,180,174,221,180,130,182,219,187,180,126,177,238,207,197,182,154,193,192,257,136,120,176,183,170,245,228,127,178,188,118,190,185,176,153,175,156,152,132,175,175,182,169,191,166,202,151,124,170,181,151,143,183,139,170,176,166,217,140,179,217,253,146,183,129,172,247,116,195,177,132,202,143,176,166,179,162,150],\"y0\":\" \",\"yaxis\":\"y\",\"type\":\"box\"}],                        {\"template\":{\"data\":{\"histogram2dcontour\":[{\"type\":\"histogram2dcontour\",\"colorbar\":{\"outlinewidth\":0,\"ticks\":\"\"},\"colorscale\":[[0.0,\"#0d0887\"],[0.1111111111111111,\"#46039f\"],[0.2222222222222222,\"#7201a8\"],[0.3333333333333333,\"#9c179e\"],[0.4444444444444444,\"#bd3786\"],[0.5555555555555556,\"#d8576b\"],[0.6666666666666666,\"#ed7953\"],[0.7777777777777778,\"#fb9f3a\"],[0.8888888888888888,\"#fdca26\"],[1.0,\"#f0f921\"]]}],\"choropleth\":[{\"type\":\"choropleth\",\"colorbar\":{\"outlinewidth\":0,\"ticks\":\"\"}}],\"histogram2d\":[{\"type\":\"histogram2d\",\"colorbar\":{\"outlinewidth\":0,\"ticks\":\"\"},\"colorscale\":[[0.0,\"#0d0887\"],[0.1111111111111111,\"#46039f\"],[0.2222222222222222,\"#7201a8\"],[0.3333333333333333,\"#9c179e\"],[0.4444444444444444,\"#bd3786\"],[0.5555555555555556,\"#d8576b\"],[0.6666666666666666,\"#ed7953\"],[0.7777777777777778,\"#fb9f3a\"],[0.8888888888888888,\"#fdca26\"],[1.0,\"#f0f921\"]]}],\"heatmap\":[{\"type\":\"heatmap\",\"colorbar\":{\"outlinewidth\":0,\"ticks\":\"\"},\"colorscale\":[[0.0,\"#0d0887\"],[0.1111111111111111,\"#46039f\"],[0.2222222222222222,\"#7201a8\"],[0.3333333333333333,\"#9c179e\"],[0.4444444444444444,\"#bd3786\"],[0.5555555555555556,\"#d8576b\"],[0.6666666666666666,\"#ed7953\"],[0.7777777777777778,\"#fb9f3a\"],[0.8888888888888888,\"#fdca26\"],[1.0,\"#f0f921\"]]}],\"heatmapgl\":[{\"type\":\"heatmapgl\",\"colorbar\":{\"outlinewidth\":0,\"ticks\":\"\"},\"colorscale\":[[0.0,\"#0d0887\"],[0.1111111111111111,\"#46039f\"],[0.2222222222222222,\"#7201a8\"],[0.3333333333333333,\"#9c179e\"],[0.4444444444444444,\"#bd3786\"],[0.5555555555555556,\"#d8576b\"],[0.6666666666666666,\"#ed7953\"],[0.7777777777777778,\"#fb9f3a\"],[0.8888888888888888,\"#fdca26\"],[1.0,\"#f0f921\"]]}],\"contourcarpet\":[{\"type\":\"contourcarpet\",\"colorbar\":{\"outlinewidth\":0,\"ticks\":\"\"}}],\"contour\":[{\"type\":\"contour\",\"colorbar\":{\"outlinewidth\":0,\"ticks\":\"\"},\"colorscale\":[[0.0,\"#0d0887\"],[0.1111111111111111,\"#46039f\"],[0.2222222222222222,\"#7201a8\"],[0.3333333333333333,\"#9c179e\"],[0.4444444444444444,\"#bd3786\"],[0.5555555555555556,\"#d8576b\"],[0.6666666666666666,\"#ed7953\"],[0.7777777777777778,\"#fb9f3a\"],[0.8888888888888888,\"#fdca26\"],[1.0,\"#f0f921\"]]}],\"surface\":[{\"type\":\"surface\",\"colorbar\":{\"outlinewidth\":0,\"ticks\":\"\"},\"colorscale\":[[0.0,\"#0d0887\"],[0.1111111111111111,\"#46039f\"],[0.2222222222222222,\"#7201a8\"],[0.3333333333333333,\"#9c179e\"],[0.4444444444444444,\"#bd3786\"],[0.5555555555555556,\"#d8576b\"],[0.6666666666666666,\"#ed7953\"],[0.7777777777777778,\"#fb9f3a\"],[0.8888888888888888,\"#fdca26\"],[1.0,\"#f0f921\"]]}],\"mesh3d\":[{\"type\":\"mesh3d\",\"colorbar\":{\"outlinewidth\":0,\"ticks\":\"\"}}],\"scatter\":[{\"fillpattern\":{\"fillmode\":\"overlay\",\"size\":10,\"solidity\":0.2},\"type\":\"scatter\"}],\"parcoords\":[{\"type\":\"parcoords\",\"line\":{\"colorbar\":{\"outlinewidth\":0,\"ticks\":\"\"}}}],\"scatterpolargl\":[{\"type\":\"scatterpolargl\",\"marker\":{\"colorbar\":{\"outlinewidth\":0,\"ticks\":\"\"}}}],\"bar\":[{\"error_x\":{\"color\":\"#2a3f5f\"},\"error_y\":{\"color\":\"#2a3f5f\"},\"marker\":{\"line\":{\"color\":\"#E5ECF6\",\"width\":0.5},\"pattern\":{\"fillmode\":\"overlay\",\"size\":10,\"solidity\":0.2}},\"type\":\"bar\"}],\"scattergeo\":[{\"type\":\"scattergeo\",\"marker\":{\"colorbar\":{\"outlinewidth\":0,\"ticks\":\"\"}}}],\"scatterpolar\":[{\"type\":\"scatterpolar\",\"marker\":{\"colorbar\":{\"outlinewidth\":0,\"ticks\":\"\"}}}],\"histogram\":[{\"marker\":{\"pattern\":{\"fillmode\":\"overlay\",\"size\":10,\"solidity\":0.2}},\"type\":\"histogram\"}],\"scattergl\":[{\"type\":\"scattergl\",\"marker\":{\"colorbar\":{\"outlinewidth\":0,\"ticks\":\"\"}}}],\"scatter3d\":[{\"type\":\"scatter3d\",\"line\":{\"colorbar\":{\"outlinewidth\":0,\"ticks\":\"\"}},\"marker\":{\"colorbar\":{\"outlinewidth\":0,\"ticks\":\"\"}}}],\"scattermapbox\":[{\"type\":\"scattermapbox\",\"marker\":{\"colorbar\":{\"outlinewidth\":0,\"ticks\":\"\"}}}],\"scatterternary\":[{\"type\":\"scatterternary\",\"marker\":{\"colorbar\":{\"outlinewidth\":0,\"ticks\":\"\"}}}],\"scattercarpet\":[{\"type\":\"scattercarpet\",\"marker\":{\"colorbar\":{\"outlinewidth\":0,\"ticks\":\"\"}}}],\"carpet\":[{\"aaxis\":{\"endlinecolor\":\"#2a3f5f\",\"gridcolor\":\"white\",\"linecolor\":\"white\",\"minorgridcolor\":\"white\",\"startlinecolor\":\"#2a3f5f\"},\"baxis\":{\"endlinecolor\":\"#2a3f5f\",\"gridcolor\":\"white\",\"linecolor\":\"white\",\"minorgridcolor\":\"white\",\"startlinecolor\":\"#2a3f5f\"},\"type\":\"carpet\"}],\"table\":[{\"cells\":{\"fill\":{\"color\":\"#EBF0F8\"},\"line\":{\"color\":\"white\"}},\"header\":{\"fill\":{\"color\":\"#C8D4E3\"},\"line\":{\"color\":\"white\"}},\"type\":\"table\"}],\"barpolar\":[{\"marker\":{\"line\":{\"color\":\"#E5ECF6\",\"width\":0.5},\"pattern\":{\"fillmode\":\"overlay\",\"size\":10,\"solidity\":0.2}},\"type\":\"barpolar\"}],\"pie\":[{\"automargin\":true,\"type\":\"pie\"}]},\"layout\":{\"autotypenumbers\":\"strict\",\"colorway\":[\"#636efa\",\"#EF553B\",\"#00cc96\",\"#ab63fa\",\"#FFA15A\",\"#19d3f3\",\"#FF6692\",\"#B6E880\",\"#FF97FF\",\"#FECB52\"],\"font\":{\"color\":\"#2a3f5f\"},\"hovermode\":\"closest\",\"hoverlabel\":{\"align\":\"left\"},\"paper_bgcolor\":\"white\",\"plot_bgcolor\":\"#E5ECF6\",\"polar\":{\"bgcolor\":\"#E5ECF6\",\"angularaxis\":{\"gridcolor\":\"white\",\"linecolor\":\"white\",\"ticks\":\"\"},\"radialaxis\":{\"gridcolor\":\"white\",\"linecolor\":\"white\",\"ticks\":\"\"}},\"ternary\":{\"bgcolor\":\"#E5ECF6\",\"aaxis\":{\"gridcolor\":\"white\",\"linecolor\":\"white\",\"ticks\":\"\"},\"baxis\":{\"gridcolor\":\"white\",\"linecolor\":\"white\",\"ticks\":\"\"},\"caxis\":{\"gridcolor\":\"white\",\"linecolor\":\"white\",\"ticks\":\"\"}},\"coloraxis\":{\"colorbar\":{\"outlinewidth\":0,\"ticks\":\"\"}},\"colorscale\":{\"sequential\":[[0.0,\"#0d0887\"],[0.1111111111111111,\"#46039f\"],[0.2222222222222222,\"#7201a8\"],[0.3333333333333333,\"#9c179e\"],[0.4444444444444444,\"#bd3786\"],[0.5555555555555556,\"#d8576b\"],[0.6666666666666666,\"#ed7953\"],[0.7777777777777778,\"#fb9f3a\"],[0.8888888888888888,\"#fdca26\"],[1.0,\"#f0f921\"]],\"sequentialminus\":[[0.0,\"#0d0887\"],[0.1111111111111111,\"#46039f\"],[0.2222222222222222,\"#7201a8\"],[0.3333333333333333,\"#9c179e\"],[0.4444444444444444,\"#bd3786\"],[0.5555555555555556,\"#d8576b\"],[0.6666666666666666,\"#ed7953\"],[0.7777777777777778,\"#fb9f3a\"],[0.8888888888888888,\"#fdca26\"],[1.0,\"#f0f921\"]],\"diverging\":[[0,\"#8e0152\"],[0.1,\"#c51b7d\"],[0.2,\"#de77ae\"],[0.3,\"#f1b6da\"],[0.4,\"#fde0ef\"],[0.5,\"#f7f7f7\"],[0.6,\"#e6f5d0\"],[0.7,\"#b8e186\"],[0.8,\"#7fbc41\"],[0.9,\"#4d9221\"],[1,\"#276419\"]]},\"xaxis\":{\"gridcolor\":\"white\",\"linecolor\":\"white\",\"ticks\":\"\",\"title\":{\"standoff\":15},\"zerolinecolor\":\"white\",\"automargin\":true,\"zerolinewidth\":2},\"yaxis\":{\"gridcolor\":\"white\",\"linecolor\":\"white\",\"ticks\":\"\",\"title\":{\"standoff\":15},\"zerolinecolor\":\"white\",\"automargin\":true,\"zerolinewidth\":2},\"scene\":{\"xaxis\":{\"backgroundcolor\":\"#E5ECF6\",\"gridcolor\":\"white\",\"linecolor\":\"white\",\"showbackground\":true,\"ticks\":\"\",\"zerolinecolor\":\"white\",\"gridwidth\":2},\"yaxis\":{\"backgroundcolor\":\"#E5ECF6\",\"gridcolor\":\"white\",\"linecolor\":\"white\",\"showbackground\":true,\"ticks\":\"\",\"zerolinecolor\":\"white\",\"gridwidth\":2},\"zaxis\":{\"backgroundcolor\":\"#E5ECF6\",\"gridcolor\":\"white\",\"linecolor\":\"white\",\"showbackground\":true,\"ticks\":\"\",\"zerolinecolor\":\"white\",\"gridwidth\":2}},\"shapedefaults\":{\"line\":{\"color\":\"#2a3f5f\"}},\"annotationdefaults\":{\"arrowcolor\":\"#2a3f5f\",\"arrowhead\":0,\"arrowwidth\":1},\"geo\":{\"bgcolor\":\"white\",\"landcolor\":\"#E5ECF6\",\"subunitcolor\":\"white\",\"showland\":true,\"showlakes\":true,\"lakecolor\":\"white\"},\"title\":{\"x\":0.05},\"mapbox\":{\"style\":\"light\"}}},\"xaxis\":{\"anchor\":\"y\",\"domain\":[0.0,1.0],\"title\":{\"text\":\"Location\"}},\"yaxis\":{\"anchor\":\"x\",\"domain\":[0.0,1.0],\"title\":{\"text\":\"Time to Close\"}},\"legend\":{\"tracegroupgap\":0},\"title\":{\"text\":\"Time to Close Distribution by Location (Outliers Removed)\"},\"boxmode\":\"group\"},                        {\"responsive\": true}                    ).then(function(){\n",
              "                            \n",
              "var gd = document.getElementById('a15d34fe-f0f6-47a9-b6a1-86d97456793d');\n",
              "var x = new MutationObserver(function (mutations, observer) {{\n",
              "        var display = window.getComputedStyle(gd).display;\n",
              "        if (!display || display === 'none') {{\n",
              "            console.log([gd, 'removed!']);\n",
              "            Plotly.purge(gd);\n",
              "            observer.disconnect();\n",
              "        }}\n",
              "}});\n",
              "\n",
              "// Listen for the removal of the full notebook cells\n",
              "var notebookContainer = gd.closest('#notebook-container');\n",
              "if (notebookContainer) {{\n",
              "    x.observe(notebookContainer, {childList: true});\n",
              "}}\n",
              "\n",
              "// Listen for the clearing of the current output cell\n",
              "var outputEl = gd.closest('.output');\n",
              "if (outputEl) {{\n",
              "    x.observe(outputEl, {childList: true});\n",
              "}}\n",
              "\n",
              "                        })                };                            </script>        </div>\n",
              "</body>\n",
              "</html>"
            ]
          },
          "metadata": {}
        }
      ],
      "source": [
        "#Calculate the IQR for 'time_to_close'\n",
        "Q1 = df['time_to_close'].quantile(0.25)\n",
        "Q3 = df['time_to_close'].quantile(0.75)\n",
        "IQR = Q3 - Q1\n",
        "\n",
        "#Define the lower and upper bounds to identify outliers\n",
        "lower_bound = Q1 - 1.5 * IQR\n",
        "upper_bound = Q3 + 1.5 * IQR\n",
        "\n",
        "#Filter the DataFrame to remove outliers\n",
        "filtered_df = df[(df['time_to_close'] >= lower_bound) & (df['time_to_close'] <= upper_bound)]\n",
        "\n",
        "#Create a box plot with the filtered data\n",
        "fig = px.box(filtered_df, x='location', y='time_to_close', title='Time to Close Distribution by Location (Outliers Removed)')\n",
        "fig.update_xaxes(title='Location')\n",
        "fig.update_yaxes(title='Time to Close')\n",
        "\n",
        "# Show the plot\n",
        "fig.show()"
      ]
    },
    {
      "cell_type": "markdown",
      "id": "52a4c822",
      "metadata": {
        "id": "52a4c822",
        "papermill": {
          "duration": 0.01175,
          "end_time": "2023-10-03T02:53:00.597086",
          "exception": false,
          "start_time": "2023-10-03T02:53:00.585336",
          "status": "completed"
        },
        "tags": []
      },
      "source": [
        "Location is not correlated to time taken to resolve a claim. Among the locations, no significant difference in terms of the median and the range of time taken to close a claim handled by the legal team."
      ]
    }
  ],
  "metadata": {
    "kernelspec": {
      "display_name": "Python 3",
      "language": "python",
      "name": "python3"
    },
    "language_info": {
      "codemirror_mode": {
        "name": "ipython",
        "version": 3
      },
      "file_extension": ".py",
      "mimetype": "text/x-python",
      "name": "python",
      "nbconvert_exporter": "python",
      "pygments_lexer": "ipython3",
      "version": "3.10.12"
    },
    "papermill": {
      "default_parameters": {},
      "duration": 10.376254,
      "end_time": "2023-10-03T02:53:01.555700",
      "environment_variables": {},
      "exception": null,
      "input_path": "__notebook__.ipynb",
      "output_path": "__notebook__.ipynb",
      "parameters": {},
      "start_time": "2023-10-03T02:52:51.179446",
      "version": "2.4.0"
    },
    "colab": {
      "provenance": [],
      "include_colab_link": true
    }
  },
  "nbformat": 4,
  "nbformat_minor": 5
}